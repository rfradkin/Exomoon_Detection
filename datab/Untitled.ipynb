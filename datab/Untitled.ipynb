{
 "cells": [
  {
   "cell_type": "code",
   "execution_count": 26,
   "metadata": {},
   "outputs": [
    {
     "name": "stdout",
     "output_type": "stream",
     "text": [
      "<mysql.connector.connection_cext.CMySQLConnection object at 0x7ff6e13c1910>\n"
     ]
    }
   ],
   "source": [
    "import mysql.connector\n",
    "\n",
    "mydb = mysql.connector.connect(\n",
    "    host=\"romfradkin.com\",\n",
    "    user=\"rfradkin\",\n",
    "    password=\"lakeowego19\",\n",
    "    database='testdb'\n",
    ")\n",
    "\n",
    "print(mydb)"
   ]
  },
  {
   "cell_type": "code",
   "execution_count": 27,
   "metadata": {},
   "outputs": [
    {
     "name": "stdout",
     "output_type": "stream",
     "text": [
      "(1, 'John', 'Doe', 'john@example.com', datetime.datetime(2022, 6, 3, 16, 57, 17))\n",
      "(2, 'John', 'Doe', 'john@example.com', datetime.datetime(2022, 6, 3, 16, 57, 20))\n",
      "(3, 'John', 'Doe', 'john@example.com', datetime.datetime(2022, 6, 3, 16, 57, 45))\n",
      "(4, 'John', 'Doe', 'john@example.com', datetime.datetime(2022, 6, 3, 16, 57, 46))\n",
      "(5, 'John', 'Doe', 'john@example.com', datetime.datetime(2022, 6, 3, 17, 1, 14))\n",
      "(6, 'John', 'Doe', 'john@example.com', datetime.datetime(2022, 6, 3, 17, 1, 15))\n",
      "(7, 'John', 'Doe', 'john@example.com', datetime.datetime(2022, 6, 3, 17, 1, 19))\n",
      "(8, 'John', 'Doe', 'john@example.com', datetime.datetime(2022, 6, 3, 17, 2, 10))\n",
      "(9, 'John', 'Doe', 'john@example.com', datetime.datetime(2022, 6, 3, 17, 2, 58))\n",
      "(10, 'John', 'Doe', 'john@example.com', datetime.datetime(2022, 6, 3, 17, 4, 8))\n",
      "(11, 'John', 'Doe', 'john@example.com', datetime.datetime(2022, 6, 3, 17, 4, 10))\n",
      "(12, 'John', 'Doe', 'john@example.com', datetime.datetime(2022, 6, 3, 17, 4, 12))\n",
      "(13, 'John', 'Doe', 'john@example.com', datetime.datetime(2022, 6, 3, 17, 5, 16))\n",
      "(14, 'John', 'Doe', 'john@example.com', datetime.datetime(2022, 6, 3, 17, 5, 18))\n",
      "(15, 'John', 'Doe', 'john@example.com', datetime.datetime(2022, 6, 3, 17, 6, 21))\n",
      "(16, 'John', 'Doe', 'john@example.com', datetime.datetime(2022, 6, 3, 17, 6, 22))\n",
      "(17, 'John', 'Doe', 'john@example.com', datetime.datetime(2022, 6, 3, 17, 6, 23))\n",
      "(18, 'John', 'Doe', 'john@example.com', datetime.datetime(2022, 6, 3, 17, 6, 24))\n",
      "(19, 'John', 'Doe', 'john@example.com', datetime.datetime(2022, 6, 3, 17, 6, 25))\n",
      "(20, 'John', 'Doe', 'john@example.com', datetime.datetime(2022, 6, 3, 17, 7, 46))\n",
      "(21, 'John', 'Doe', 'john@example.com', datetime.datetime(2022, 6, 3, 17, 16))\n",
      "(22, 'test', 'Doe', 'john@example.com', datetime.datetime(2022, 6, 3, 17, 17, 2))\n",
      "(23, 'test', 'Doe', 'john@example.com', datetime.datetime(2022, 6, 3, 17, 18, 44))\n",
      "(24, 'test', 'Doe', 'john@example.com', datetime.datetime(2022, 6, 3, 17, 18, 54))\n",
      "(25, 'test', 'Doe', 'john@example.com', datetime.datetime(2022, 6, 3, 17, 19, 18))\n",
      "(26, 'test', 'Doe', 'john@example.com', datetime.datetime(2022, 6, 3, 17, 20, 5))\n",
      "(27, 'test', 'Doe', 'john@example.com', datetime.datetime(2022, 6, 3, 17, 20, 15))\n",
      "(28, 'TEST', 'Doe', 'john@example.com', datetime.datetime(2022, 6, 3, 17, 20, 30))\n",
      "(29, '', 'Rom', 'fradkin.rom@gmail.com', datetime.datetime(2022, 6, 3, 17, 21, 59))\n",
      "(30, 'Rom', 'Fradkin', 'fradkin.rom@gmail.com', datetime.datetime(2022, 6, 3, 17, 22, 29))\n",
      "(31, '', '', '', datetime.datetime(2022, 6, 3, 17, 22, 54))\n",
      "(32, 'Rom', 'Fradkin', 'fradkin.rom@gmail.com', datetime.datetime(2022, 6, 3, 17, 23, 43))\n",
      "(33, 'test', 'test', 'test', datetime.datetime(2022, 6, 3, 17, 24, 34))\n",
      "(34, 'Word', 'Word', 'Wors', datetime.datetime(2022, 6, 3, 17, 42, 44))\n",
      "(35, 'Lfg', 'Still working', 'Ur boy', datetime.datetime(2022, 6, 3, 22, 20, 42))\n",
      "(36, 'breh', 'breh', 'breh', datetime.datetime(2022, 6, 4, 10, 27, 59))\n",
      "(37, 'shit', 'i fucked', 'up', datetime.datetime(2022, 6, 5, 15, 47, 1))\n",
      "(39, 'test3', 'test4', 'test5', datetime.datetime(2022, 6, 9, 14, 45, 13))\n"
     ]
    }
   ],
   "source": [
    "mycursor = mydb.cursor()\n",
    "\n",
    "mycursor.execute(\"INSERT INTO MyGuests (firstname, lastname, email)\\\n",
    "VALUES ('test3', 'test4', 'test5')\")\n",
    "mycursor.execute(\"SELECT * FROM MyGuests\")\n",
    "myresult = mycursor.fetchall()\n",
    "\n",
    "for x in myresult:\n",
    "  print(x)"
   ]
  },
  {
   "cell_type": "code",
   "execution_count": null,
   "metadata": {},
   "outputs": [],
   "source": [
    "def deter_signa_times(signa_curve, injec_curve):\n",
    "    '''Determines the start and end injection times based on a signal and injected curve.'''\n",
    "        # Remove possible first value edge case\n",
    "        if signa_curve[0] != 1 and signa_curve[1] == 1:\n",
    "            signa_curve[0] = 1\n",
    "\n",
    "        # Find signal times\n",
    "        if len(np.where(signa_curve < 1)[0]) > 1:\n",
    "            signa_curve_index = find_signa_start_stop_index(signa_curve)\n",
    "            signa_curve_time = []\n",
    "            for i in range(len(signa_curve_index)):\n",
    "                signa_curve_time.append([\n",
    "                    injec_curve[find_start(injec_curve) + signa_curve_index[i][0], 0], \n",
    "                    injec_curve[find_start(injec_curve) + signa_curve_index[i][1], 0]])\n",
    "        else:\n",
    "            signa_curve_time = [[]]\n",
    "        signa_curve_time = np.array(signa_curve_time)\n",
    "        return signa_curve_time"
   ]
  }
 ],
 "metadata": {
  "kernelspec": {
   "display_name": "xom",
   "language": "python",
   "name": "xom"
  },
  "language_info": {
   "codemirror_mode": {
    "name": "ipython",
    "version": 3
   },
   "file_extension": ".py",
   "mimetype": "text/x-python",
   "name": "python",
   "nbconvert_exporter": "python",
   "pygments_lexer": "ipython3",
   "version": "3.8.5"
  }
 },
 "nbformat": 4,
 "nbformat_minor": 4
}
