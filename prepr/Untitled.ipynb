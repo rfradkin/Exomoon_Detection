{
 "cells": [
  {
   "cell_type": "code",
   "execution_count": 1,
   "id": "therapeutic-danish",
   "metadata": {},
   "outputs": [],
   "source": [
    "# Standard libraries\n",
    "import sys\n",
    "import math\n",
    "import random\n",
    "import time\n",
    "import os\n",
    "\n",
    "# Third-party imports\n",
    "import numpy as np\n",
    "import pandas as pd\n",
    "import pickle as pkl\n",
    "\n",
    "import matplotlib.pyplot as plt\n",
    "\n",
    "import tensorflow as tf\n",
    "\n",
    "import multiprocess\n",
    "\n",
    "import importlib\n",
    "from yapf.yapflib.yapf_api import FormatCode\n",
    "\n",
    "# Project imports\n",
    "import ephesus\n",
    "import utils"
   ]
  },
  {
   "cell_type": "code",
   "execution_count": 2,
   "id": "silver-respect",
   "metadata": {},
   "outputs": [],
   "source": [
    "main_path = '/home/rfradkin/xom/'\n",
    "raw_tess_path = '/scratch/data/tess/lcur/spoc/raws/'\n",
    "tess_metad_path = '/data/scratch/data/tess/meta/'\n",
    "xom_data_path = '/data/scratch/data/moon/'"
   ]
  },
  {
   "cell_type": "code",
   "execution_count": 3,
   "id": "superior-bedroom",
   "metadata": {},
   "outputs": [],
   "source": [
    "def trip(x):\n",
    "    return x*x*x*x*x"
   ]
  },
  {
   "cell_type": "code",
   "execution_count": 1,
   "id": "elect-function",
   "metadata": {},
   "outputs": [],
   "source": [
    "import psutil"
   ]
  },
  {
   "cell_type": "code",
   "execution_count": 11,
   "id": "therapeutic-russian",
   "metadata": {},
   "outputs": [
    {
     "name": "stdout",
     "output_type": "stream",
     "text": [
      "About 22.0% of the CPUs are in use\n"
     ]
    }
   ],
   "source": [
    "# Check to see the current CPU usage\n",
    "cpu_usage = 0\n",
    "itera = 10000\n",
    "for i in range(itera):\n",
    "    cpu_usage += psutil.cpu_percent()\n",
    "print(f'About {(cpu_usage / itera):.1f}% of the CPUs are in use')"
   ]
  },
  {
   "cell_type": "code",
   "execution_count": null,
   "id": "theoretical-confidence",
   "metadata": {},
   "outputs": [],
   "source": []
  },
  {
   "cell_type": "code",
   "execution_count": null,
   "id": "hawaiian-twins",
   "metadata": {},
   "outputs": [],
   "source": []
  }
 ],
 "metadata": {
  "kernelspec": {
   "display_name": "Python 3",
   "language": "python",
   "name": "python3"
  },
  "language_info": {
   "codemirror_mode": {
    "name": "ipython",
    "version": 3
   },
   "file_extension": ".py",
   "mimetype": "text/x-python",
   "name": "python",
   "nbconvert_exporter": "python",
   "pygments_lexer": "ipython3",
   "version": "3.9.2"
  }
 },
 "nbformat": 4,
 "nbformat_minor": 5
}
