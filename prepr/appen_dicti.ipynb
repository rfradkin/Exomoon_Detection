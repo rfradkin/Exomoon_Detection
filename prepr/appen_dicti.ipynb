{
 "cells": [
  {
   "cell_type": "raw",
   "id": "powered-assault",
   "metadata": {},
   "source": [
    "Formatting Guide:\n",
    "- Use yapf for PEP8 style guide (FormatCode())\n",
    "- Use blank lines sparingly, shows change in logic/focus\n",
    "- Variable names should be the first five letters of the description\n",
    "- Comment Code Accordingly\n",
    "- Anything with ### above and below needs to be updated\n",
    "\n",
    "Other Notes:"
   ]
  },
  {
   "cell_type": "code",
   "execution_count": 1,
   "id": "human-defense",
   "metadata": {},
   "outputs": [],
   "source": [
    "# Standard libraries\n",
    "import sys\n",
    "import math\n",
    "import random\n",
    "import time\n",
    "import os\n",
    "\n",
    "# Third-party imports\n",
    "import numpy as np\n",
    "import pandas as pd\n",
    "import pickle as pkl\n",
    "\n",
    "import tensorflow as tf\n",
    "\n",
    "import importlib\n",
    "from yapf.yapflib.yapf_api import FormatCode\n",
    "import GPUtil\n",
    "\n",
    "# Project imports\n",
    "import ephesus\n",
    "import utils"
   ]
  },
  {
   "cell_type": "code",
   "execution_count": 2,
   "id": "included-exclusion",
   "metadata": {},
   "outputs": [],
   "source": [
    "main_path = '/home/rfradkin/xom/'\n",
    "raw_tess_path = '/scratch/data/tess/lcur/spoc/raws/'\n",
    "tess_metad_path = '/data/scratch/data/tess/meta/'\n",
    "xom_data_path = '/data/scratch/data/moon/'"
   ]
  },
  {
   "cell_type": "markdown",
   "id": "precise-pattern",
   "metadata": {},
   "source": [
    "### Dictionary Changes"
   ]
  },
  {
   "cell_type": "code",
   "execution_count": 3,
   "id": "blocked-berkeley",
   "metadata": {},
   "outputs": [
    {
     "name": "stdout",
     "output_type": "stream",
     "text": [
      "Sector 1 dictionary changes complete.\n",
      "Sector 2 dictionary changes complete.\n",
      "Sector 3 dictionary changes complete.\n",
      "Sector 4 dictionary changes complete.\n",
      "Sector 5 dictionary changes complete.\n",
      "Sector 6 dictionary changes complete.\n",
      "Sector 7 dictionary changes complete.\n",
      "Sector 8 dictionary changes complete.\n",
      "Sector 9 dictionary changes complete.\n",
      "Sector 10 dictionary changes complete.\n",
      "Sector 11 dictionary changes complete.\n",
      "Sector 12 dictionary changes complete.\n",
      "Sector 13 dictionary changes complete.\n",
      "Sector 14 dictionary changes complete.\n",
      "Sector 15 dictionary changes complete.\n",
      "Sector 16 dictionary changes complete.\n",
      "Sector 17 dictionary changes complete.\n",
      "Sector 18 dictionary changes complete.\n",
      "Sector 19 dictionary changes complete.\n",
      "Sector 20 dictionary changes complete.\n",
      "Sector 21 dictionary changes complete.\n",
      "Sector 22 dictionary changes complete.\n",
      "Sector 23 dictionary changes complete.\n",
      "Sector 24 dictionary changes complete.\n",
      "Sector 25 dictionary changes complete.\n",
      "Sector 26 dictionary changes complete.\n"
     ]
    }
   ],
   "source": [
    "compl_set = ''\n",
    "for secto in range(1, 27):\n",
    "    from_secto = secto\n",
    "    to_secto = secto + 1\n",
    "\n",
    "    # Open data\n",
    "    with open(f'{xom_data_path}raw_data/\\\n",
    "forma_curve-{from_secto}_{to_secto}{compl_set}.pkl', 'rb') as f:\n",
    "        light_curve = pkl.load(f)\n",
    "    \n",
    "    # Add desired changes below\n",
    "    for i in range(len(light_curve)):\n",
    "        light_curve[i, -1, 1]['plane_signa']= None\n",
    "        light_curve[i, -1, 1]['forma_names']['plane_signa'] = 'Planet Signal'\n",
    "        light_curve[i, -1, 1]['moon_singa']= None\n",
    "        light_curve[i, -1, 1]['forma_names']['moon_singa'] = 'Moon Signal'\n",
    "        \n",
    "    with open(f'{xom_data_path}raw_data/\\\n",
    "forma_curve-{from_secto}_{to_secto}{compl_set}.pkl','wb') as f:\n",
    "        pkl.dump(light_curve, f)\n",
    "\n",
    "    # Open data\n",
    "    with open(f'{xom_data_path}padde_cuts/\\\n",
    "padde_cuts-detre-{from_secto}_{to_secto}{compl_set}.pkl', 'rb') as f:\n",
    "        padde_cuts = pkl.load(f)\n",
    "        \n",
    "    # Add desired changes below\n",
    "    for i in range(len(padde_cuts)):\n",
    "        padde_cuts[i, -1, 1]['plane_signa']= None\n",
    "        padde_cuts[i, -1, 1]['forma_names']['plane_signa'] = 'Planet Signal'\n",
    "        padde_cuts[i, -1, 1]['moon_singa']= None\n",
    "        padde_cuts[i, -1, 1]['forma_names']['moon_singa'] = 'Moon Signal'\n",
    "        \n",
    "    with open(f'{xom_data_path}padde_cuts/\\\n",
    "padde_cuts-{from_secto}_{to_secto}{compl_set}.pkl','wb') as f:\n",
    "        pkl.dump(padde_cuts, f)\n",
    "    \n",
    "    print(f'Sector {secto} dictionary changes complete.')"
   ]
  },
  {
   "cell_type": "markdown",
   "id": "under-exhaust",
   "metadata": {},
   "source": [
    "### Formatting"
   ]
  },
  {
   "cell_type": "raw",
   "id": "unable-addition",
   "metadata": {},
   "source": [
    "forma = \\\n",
    "'''\n",
    "# Save data\n",
    "detre_status = 'detre' if padde_cuts[0, -1, 1]['detre_time_scale'] else 'not_detre'\n",
    "padde_cuts_path = f'{xom_data_path}padde_cuts/padde_cuts-{detre_status}\\\n",
    "{from_secto}_{to_secto}{compl_set}-{float(time.time())}.pkl'\n",
    "with open(padde_cuts_path, 'wb') as f:\n",
    "    pkl.dump(padde_cuts, f)\n",
    "print(f'Padded Cuts Path: {padde_cuts_path}')\n",
    "'''\n",
    "forma_done = FormatCode(forma, style_config='PEP8')\n",
    "print(forma_done[0])"
   ]
  }
 ],
 "metadata": {
  "kernelspec": {
   "display_name": "Python 3",
   "language": "python",
   "name": "python3"
  },
  "language_info": {
   "codemirror_mode": {
    "name": "ipython",
    "version": 3
   },
   "file_extension": ".py",
   "mimetype": "text/x-python",
   "name": "python",
   "nbconvert_exporter": "python",
   "pygments_lexer": "ipython3",
   "version": "3.9.2"
  }
 },
 "nbformat": 4,
 "nbformat_minor": 5
}
