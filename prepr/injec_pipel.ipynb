{
 "cells": [
  {
   "cell_type": "raw",
   "id": "adjustable-subject",
   "metadata": {},
   "source": [
    "Formatting Guide:\n",
    "- Use yapf for PEP8 style guide (FormatCode())\n",
    "- Use blank lines sparingly, shows change in logic/focus\n",
    "- Variable names should be the first five letters of the description\n",
    "- Comment Code Accordingly\n",
    "- Anything with ### above and below needs to be updated\n",
    "\n",
    "Other Notes:\n",
    "- Fix EB labeler\n",
    "use argts and kwargs fpr graph inbfo\n",
    "-add predi option to save in infor"
   ]
  },
  {
   "cell_type": "code",
   "execution_count": 1,
   "id": "subject-lottery",
   "metadata": {},
   "outputs": [],
   "source": [
    "# Standard libraries\n",
    "import sys\n",
    "import math\n",
    "import random\n",
    "import time\n",
    "import os\n",
    "\n",
    "# Third-party imports\n",
    "import numpy as np\n",
    "import pandas as pd\n",
    "import pickle as pkl\n",
    "\n",
    "import matplotlib.pyplot as plt\n",
    "\n",
    "import tensorflow as tf\n",
    "\n",
    "import multiprocess\n",
    "import psutil\n",
    "\n",
    "import importlib\n",
    "from yapf.yapflib.yapf_api import FormatCode       \n",
    "\n",
    "# Project imports\n",
    "import ephesus\n",
    "import utils\n",
    "from const import *"
   ]
  },
  {
   "cell_type": "code",
   "execution_count": 2,
   "id": "stupid-homeless",
   "metadata": {},
   "outputs": [],
   "source": [
    "# Verbosity\n",
    "# 0 = off\n",
    "# 1 is ending\n",
    "# 2 is phases\n",
    "# 3 is percent injection\n",
    "verbo = 1"
   ]
  },
  {
   "cell_type": "markdown",
   "id": "informal-piano",
   "metadata": {},
   "source": [
    "### Import Light Curves"
   ]
  },
  {
   "cell_type": "code",
   "execution_count": 3,
   "id": "satisfactory-opposition",
   "metadata": {},
   "outputs": [],
   "source": [
    "# Around 500,000 total light curves\n",
    "numbe_of_curve = 100000\n",
    "\n",
    "# Access the file names\n",
    "files = utils.retur_secto_files()\n",
    "# Choose a random sample\n",
    "sampl = utils.retur_rando_sampl(numbe_of_curve, len(files))\n",
    "# Create a list containing the file names\n",
    "files = [files[index] for index in sampl]"
   ]
  },
  {
   "cell_type": "raw",
   "id": "1d5681c0-213e-4a61-a257-dfb449039d11",
   "metadata": {},
   "source": [
    "# Check to see the current CPU usage\n",
    "cpu_usage = 0\n",
    "itera = 5000\n",
    "for i in range(itera):\n",
    "    cpu_usage += psutil.cpu_percent()\n",
    "print(f'About {(cpu_usage / itera):.1f}% of the total CPU is in use')"
   ]
  },
  {
   "cell_type": "code",
   "execution_count": 4,
   "id": "loaded-sunrise",
   "metadata": {},
   "outputs": [],
   "source": [
    "# Number of processes\n",
    "proces_number = 30"
   ]
  },
  {
   "cell_type": "code",
   "execution_count": 5,
   "id": "abandoned-rochester",
   "metadata": {},
   "outputs": [],
   "source": [
    "with multiprocess.Pool(proces_number) as pool:\n",
    "    raw_fits_data = pool.map(utils.retur_fits_data, files)\n",
    "    \n",
    "# Delete files for memory space\n",
    "del files"
   ]
  },
  {
   "cell_type": "code",
   "execution_count": 6,
   "id": "administrative-landing",
   "metadata": {},
   "outputs": [],
   "source": [
    "if verbo >= 2:\n",
    "    utils.send_task_comple_email('Fits Data')"
   ]
  },
  {
   "cell_type": "markdown",
   "id": "atmospheric-marker",
   "metadata": {},
   "source": [
    "### Interpolate and Format Light Curves"
   ]
  },
  {
   "cell_type": "code",
   "execution_count": 7,
   "id": "thousand-realtor",
   "metadata": {},
   "outputs": [],
   "source": [
    "max_time_gap = 10  # mins\n",
    "caden = 2  # mins\n",
    "spln_type = 'cubic'\n",
    "\n",
    "for i in range(len(raw_fits_data)):\n",
    "    # Insert 'inter_spot' for later interpolation\n",
    "    curre_curve = utils.inser_inter_spot(raw_fits_data[i], max_time_gap, caden)\n",
    "    # Interpolate each cut\n",
    "    raw_fits_data[i] = utils.inter_curve(curre_curve, spln_type)\n",
    "\n",
    "curve = tf.keras.preprocessing.sequence.pad_sequences(raw_fits_data,\n",
    "                                                       padding='pre',\n",
    "                                                       dtype=object)\n",
    "\n",
    "# Delete raw_fits_data and curre_curve to free up memory space\n",
    "del raw_fits_data, curre_curve\n",
    "\n",
    "for i in range(len(curve)):\n",
    "    curve[i, -1, 1]['initi_paddi'] = utils.find_start(curve[i, :-1])\n",
    "    curve[i, -1, 1]['raw_curve_lengt'] = len(curve[i, utils.find_start(curve[i, :-1]): -1, 1])"
   ]
  },
  {
   "cell_type": "raw",
   "id": "sitting-grave",
   "metadata": {},
   "source": [
    "import sys\n",
    "def sizeof_fmt(num, suffix='B'):\n",
    "    ''' by Fred Cirera,  https://stackoverflow.com/a/1094933/1870254, modified'''\n",
    "    for unit in ['','Ki','Mi','Gi','Ti','Pi','Ei','Zi']:\n",
    "        if abs(num) < 1024.0:\n",
    "            return \"%3.1f %s%s\" % (num, unit, suffix)\n",
    "        num /= 1024.0\n",
    "    return \"%.1f %s%s\" % (num, 'Yi', suffix)\n",
    "\n",
    "for name, size in sorted(((name, sys.getsizeof(value)) for name, value in locals().items()),\n",
    "                         key= lambda x: -x[1])[:10]:\n",
    "    print(\"{:>30}: {:>8}\".format(name, sizeof_fmt(size)))"
   ]
  },
  {
   "cell_type": "code",
   "execution_count": 8,
   "id": "loose-plane",
   "metadata": {},
   "outputs": [],
   "source": [
    "if verbo >= 2:\n",
    "    utils.send_task_comple_email('Inter and Prep')"
   ]
  },
  {
   "cell_type": "raw",
   "id": "remarkable-oregon",
   "metadata": {},
   "source": [
    "utils.show_curve(curve, [38425745], ['stell_mass', 'stell_radiu'])"
   ]
  },
  {
   "cell_type": "raw",
   "id": "isolated-portugal",
   "metadata": {},
   "source": [
    "utils.show_curve(\n",
    "    data=curve,\n",
    "    start_stop_tic_id=[0, 5],\n",
    "    featu=['stell_mass', 'stell_radiu'],\n",
    "    highl_injec=False,\n",
    "    highl_cuts=False,\n",
    "    show_signa=False\n",
    ")"
   ]
  },
  {
   "cell_type": "raw",
   "id": "little-kelly",
   "metadata": {},
   "source": [
    "# Save data\n",
    "with open(f'{xom_data_path}raw_data/\\\n",
    "{numbe_of_curve}-{int(time.time())}.pkl','wb') as f:\n",
    "    pkl.dump(curve, f)"
   ]
  },
  {
   "cell_type": "raw",
   "id": "diagnostic-lighting",
   "metadata": {
    "tags": []
   },
   "source": [
    "# Open data\n",
    "with open(f'{xom_data_path}raw_data/\\\n",
    "75000-1642205028.pkl', 'rb') as f:\n",
    "    curve = pkl.load(f)"
   ]
  },
  {
   "cell_type": "raw",
   "id": "single-pearl",
   "metadata": {},
   "source": [
    "with open(f'{xom_data_path}injec_curve/\\\n",
    "curve-full-1642296693.pkl', 'rb') as f:\n",
    "    light_curve_toi = pkl.load(f)"
   ]
  },
  {
   "cell_type": "markdown",
   "id": "august-minneapolis",
   "metadata": {
    "tags": []
   },
   "source": [
    "### Mark TOIs, EBs, and Stellar Parameters"
   ]
  },
  {
   "cell_type": "code",
   "execution_count": 9,
   "id": "touched-rachel",
   "metadata": {},
   "outputs": [],
   "source": [
    "remov_TOI = True"
   ]
  },
  {
   "cell_type": "code",
   "execution_count": 10,
   "id": "atomic-certification",
   "metadata": {},
   "outputs": [],
   "source": [
    "# Find TIC ID of all TOIs\n",
    "toi_full = pd.read_csv(f'{tess_metad_path}toi.csv')\n",
    "toi_id = toi_full['TIC ID'].to_numpy()\n",
    "# Mark TOIs in light curve dataset\n",
    "utils.mark_TOI(curve, toi_id)"
   ]
  },
  {
   "cell_type": "code",
   "execution_count": 11,
   "id": "naughty-shade",
   "metadata": {},
   "outputs": [],
   "source": [
    "# Remove the TOIs\n",
    "if remov_TOI:\n",
    "    curve = utils.remov_TOI(curve)"
   ]
  },
  {
   "cell_type": "code",
   "execution_count": 12,
   "id": "chinese-addition",
   "metadata": {},
   "outputs": [],
   "source": [
    "TIC8 = pd.read_csv(f'{tess_metad_path}nomi_miss_2min_info.csv')\n",
    "\n",
    "for i in range(len(curve)):\n",
    "    TIC_ID = curve[i, -1, 1]['tic_id']\n",
    "    # Find current TIC ID in TIC8\n",
    "    star_infor = TIC8[TIC8.tici == TIC_ID]\n",
    "    # Make sure TIC ID is in TIC8\n",
    "    if len(star_infor):\n",
    "        # Gather stellar radius, mass, temperature, and magnitude\n",
    "        if str(star_infor.radistar.iloc[0]) != 'nan':\n",
    "            curve[i, -1, 1]['stell_radiu'] = star_infor.radistar.iloc[0]\n",
    "        if str(star_infor.massstar.iloc[0]) != 'nan':\n",
    "            curve[i, -1, 1]['stell_mass'] = star_infor.massstar.iloc[0]\n",
    "        if str(star_infor.tmptstar.iloc[0]) != 'nan':\n",
    "            curve[i, -1, 1]['stell_effec_tempe'] = \\\n",
    "star_infor.tmptstar.iloc[0]\n",
    "        if str(star_infor.tmag.iloc[0]) != 'nan':\n",
    "            curve[i, -1, 1]['stell_magni'] = star_infor.tmag.iloc[0]\n",
    "            \n",
    "# Delete TIC8 for memory space\n",
    "del TIC8"
   ]
  },
  {
   "cell_type": "code",
   "execution_count": 13,
   "id": "coupled-outdoors",
   "metadata": {},
   "outputs": [],
   "source": [
    "if verbo >= 2:\n",
    "    utils.send_task_comple_email('TOI')"
   ]
  },
  {
   "cell_type": "markdown",
   "id": "b45d0e50-70b7-44aa-9043-68e6d0dd53e8",
   "metadata": {},
   "source": [
    "### Calculate RMS"
   ]
  },
  {
   "cell_type": "code",
   "execution_count": 14,
   "id": "18ef5c5c-0598-41cb-bbeb-940dfef175af",
   "metadata": {},
   "outputs": [],
   "source": [
    "for i in range(len(curve)):\n",
    "    curve[i, -1, 1]['rms'] = utils.calcu_rms(curve[i])"
   ]
  },
  {
   "cell_type": "markdown",
   "id": "uniform-transaction",
   "metadata": {},
   "source": [
    "### Injecting"
   ]
  },
  {
   "cell_type": "code",
   "execution_count": 15,
   "id": "polished-hammer",
   "metadata": {},
   "outputs": [],
   "source": [
    "# The curve is divided into 100 sections\n",
    "# plane_perce is the percent of the \n",
    "# planets that are injected\n",
    "# plane_moon_perce is the\n",
    "# percent of plane_moons that are injected\n",
    "\n",
    "plane_perce = 20\n",
    "plane_moon_perce = 70"
   ]
  },
  {
   "cell_type": "code",
   "execution_count": 16,
   "id": "latter-arabic",
   "metadata": {},
   "outputs": [],
   "source": [
    "# Divide Curve\n",
    "divid = len(curve) // 100\n",
    "\n",
    "if plane_perce:\n",
    "    # Index of planet injections\n",
    "    plane_index = range(0, plane_perce * divid)\n",
    "    # Find the number the last injection\n",
    "    last_injec_numbe = plane_perce * divid\n",
    "\n",
    "if plane_moon_perce:\n",
    "    # Index of planet and moon injections\n",
    "    plane_moon_index = range(plane_perce * divid, \\\n",
    "plane_perce * divid + plane_moon_perce * divid)\n",
    "    # Find the number the last injection\n",
    "    last_injec_numbe = plane_moon_perce * divid"
   ]
  },
  {
   "cell_type": "code",
   "execution_count": 17,
   "id": "dimensional-tender",
   "metadata": {},
   "outputs": [],
   "source": [
    "# Save injections every curve_save_numbe curves\n",
    "curve_save_numbe = 10000\n",
    "curve_save_index = [last_injec_numbe]\n",
    "\n",
    "curre_save_index = 0\n",
    "\n",
    "# Just run the whole injection if the number of injected curves\n",
    "# is less than 4 times the minimum save amout\n",
    "if last_injec_numbe < curve_save_numbe * 4:\n",
    "    curve_save_index.insert(0, 0)\n",
    "else:\n",
    "    while curre_save_index < last_injec_numbe:\n",
    "        curve_save_index.insert(-1, curre_save_index)\n",
    "        curre_save_index += curve_save_numbe"
   ]
  },
  {
   "cell_type": "code",
   "execution_count": 18,
   "id": "future-awareness",
   "metadata": {},
   "outputs": [],
   "source": [
    "%%capture\n",
    "\n",
    "# Set up save flag\n",
    "save = False\n",
    "\n",
    "# Planet injection setup\n",
    "plane_max_numbe = 1\n",
    "moon_max_numbe = 0\n",
    "type_orbit_archi = 'plan'\n",
    "\n",
    "injec_argum = []\n",
    "\n",
    "for i in plane_index:\n",
    "    injec_argum.append(\n",
    "        (curve[i], plane_max_numbe, moon_max_numbe, type_orbit_archi))\n",
    "\n",
    "# Planet and moon injection setup\n",
    "plane_max_numbe = 1\n",
    "moon_max_numbe = 1\n",
    "type_orbit_archi = 'planmoon'\n",
    "separ_plane_moon = True\n",
    "anima_path = None\n",
    "\n",
    "# Setup initial save file\n",
    "if len(curve_save_index) > 2:\n",
    "    with open(f'{main_path}tempo.txt', 'w') as f:\n",
    "        f.write('')\n",
    "    filen = f'{main_path}tempo.txt'\n",
    "    save = True\n",
    "\n",
    "if plane_moon_perce:\n",
    "    # Format the arguments for multiprocessing\n",
    "    for i in plane_moon_index:\n",
    "        injec_argum.append((curve[i], plane_max_numbe, moon_max_numbe,\n",
    "                            type_orbit_archi, separ_plane_moon, anima_path))\n",
    "\n",
    "\n",
    "for i in range(len(curve_save_index) - 1):\n",
    "    with multiprocess.Pool(proces_number) as pool:\n",
    "        curve[\n",
    "            curve_save_index[i]:curve_save_index[i + 1]] = pool.starmap(\n",
    "                utils.injec_signa,\n",
    "                injec_argum[curve_save_index[i]:curve_save_index[i + 1]])\n",
    "        if save:\n",
    "            if verbo >= 3:\n",
    "                # Send an update\n",
    "                utils.send_task_comple_email(\n",
    "                    f'{((curve_save_index[i + 1] - 1) / (curve_save_index[-1] - 1)):.1%} \\\n",
    "of the injection is complete')\n",
    "            # Remove previous version\n",
    "            os.remove(filen)\n",
    "            # Save new version\n",
    "            filen = f'{xom_data_path}injec_curve/curve-parti-{int(time.time())}.pkl'\n",
    "            with open(filen, 'wb') as f:\n",
    "                pkl.dump(curve, f)\n",
    "\n",
    "if save:\n",
    "    # Rename the final injected curve\n",
    "    os.rename(\n",
    "        filen,\n",
    "        f'{xom_data_path}injec_curve/curve-full-{int(time.time())}.pkl')\n",
    "\n",
    "curve = np.array(curve)"
   ]
  },
  {
   "cell_type": "code",
   "execution_count": 19,
   "id": "0901229c-24f3-4aa6-a6cf-fe9c9adeacbc",
   "metadata": {},
   "outputs": [],
   "source": [
    "# Add a random epsilon value to any flux values of 0\n",
    "# so they are not viewed as padding, and therefore\n",
    "# ignored by the masking\n",
    "EPSIL = 1e-10\n",
    "for i in range(len(curve)):\n",
    "    initi_paddi = curve[i, -1, 1]['initi_paddi']\n",
    "    for ii in range(initi_paddi, initi_paddi + len(curve[i, initi_paddi:-1])):\n",
    "        if curve[i, ii, 1] == 0:\n",
    "            curve[i, ii, 1] += EPSIL * random.random()"
   ]
  },
  {
   "cell_type": "raw",
   "id": "b7b029ce-4078-44a3-926f-64d09394da71",
   "metadata": {},
   "source": [
    "utils.show_curve(curve, [38, 50], highl_injec=True)"
   ]
  },
  {
   "cell_type": "raw",
   "id": "horizontal-smoke",
   "metadata": {},
   "source": [
    "# Remove all injection sections older than two weeks\n",
    "for injec_files in os.listdir(f'{xom_data_path}curve'):\n",
    "    if time.time() - int(injec_files.split('-')[-1].split('.')[0]) > 1210000:\n",
    "        os.remove(f'{xom_data_path}curve/{injec_files}')"
   ]
  },
  {
   "cell_type": "raw",
   "id": "found-flesh",
   "metadata": {
    "tags": []
   },
   "source": [
    "utils.show_histo(curve, 'plane_densi', 20)#, save_figur_path='/home/rfradkin/xom/graph/bar_histo/')"
   ]
  },
  {
   "cell_type": "raw",
   "id": "southern-missouri",
   "metadata": {},
   "source": [
    "utils.show_curve(curve, [0, 10], ['moon_numbe'])"
   ]
  },
  {
   "cell_type": "raw",
   "id": "female-tuition",
   "metadata": {},
   "source": [
    "utils.show_curve(\n",
    "    data=curve,\n",
    "    start_stop_tic_id=[0, 30],\n",
    "    featu=['ratio_plane_stell_radiu', 'ratio_moon_stell_radiu', 'ratio_moon_plane_radiu'],\n",
    "    highl_injec=True,\n",
    "    highl_cuts=False,\n",
    "    show_signa=False,\n",
    ")"
   ]
  },
  {
   "cell_type": "raw",
   "id": "cleared-indiana",
   "metadata": {},
   "source": [
    "utils.show_curve(\n",
    "    data=curve,\n",
    "    start_stop_tic_id=[0, 5],\n",
    "    featu=['stell_mass', 'stell_radiu'],\n",
    "    highl_injec=False,\n",
    "    highl_cuts=False,\n",
    "    show_signa=True,\n",
    ")"
   ]
  },
  {
   "cell_type": "markdown",
   "id": "following-float",
   "metadata": {},
   "source": [
    "### Detrending"
   ]
  },
  {
   "cell_type": "raw",
   "id": "magnetic-symphony",
   "metadata": {},
   "source": [
    "%%capture\n",
    "\n",
    "curve = np.copy(curve)\n",
    "# Copy dictionaries\n",
    "for i in range(len(curve)):\n",
    "    curve[i, -1, 1] = curve[i, -1, 1].copy()\n",
    "\n",
    "detre_scale = 0.4\n",
    "detre_type = 'spln'\n",
    "\n",
    "for i in range(len(curve)):\n",
    "    curre_detre = ephesus.bdtr_tser(\n",
    "        time=curve[i, utils.find_start(curve[i]):-1,\n",
    "                         0].astype(float),\n",
    "        lcur=curve[i, utils.find_start(curve[i]):-1,\n",
    "                         1].astype(float),\n",
    "        typebdtr=detre_type,\n",
    "        timescalbdtrspln=detre_scale,\n",
    "    )[0]\n",
    "    full_detre = curre_detre[0]\n",
    "    # Take detrended chunks and turn them into one curve\n",
    "    for j in range(1, len(curre_detre)):\n",
    "        full_detre = np.concatenate((full_detre, curre_detre[j]))\n",
    "\n",
    "    curve[i, utils.find_start(curve[i]):-1, 1] = full_detre\n",
    "    # Set feature values\n",
    "    curve[i, -1, 1]['curve_type'] = 'Detrended Curve'\n",
    "    curve[i, -1, 1]['detre_time_scale'] = detre_scale\n",
    "    curve[i, -1, 1]['detre_type'] = detre_type"
   ]
  },
  {
   "cell_type": "raw",
   "id": "premier-crowd",
   "metadata": {},
   "source": [
    "utils.show_curve(\n",
    "    data=curve,\n",
    "    start_stop_tic_id=[0, 5],\n",
    "    featu=['stell_mass', 'stell_radiu'],\n",
    "    highl_injec=False,\n",
    "    highl_cuts=False,\n",
    "    show_signa=False,\n",
    ")"
   ]
  },
  {
   "cell_type": "markdown",
   "id": "entire-threshold",
   "metadata": {},
   "source": [
    "### Cutting, Interpolating, and Padding"
   ]
  },
  {
   "cell_type": "code",
   "execution_count": 20,
   "id": "focal-miniature",
   "metadata": {},
   "outputs": [],
   "source": [
    "stand_lengt = 1901\n",
    "min_lengt = 600\n",
    "\n",
    "list_cuts = []\n",
    "for i in range(len(curve)):\n",
    "    pre_cut = np.copy(curve[i])\n",
    "    pre_cut[-1, 1] = pre_cut[-1, 1].copy()\n",
    "    # Find used cut times and add them to all the cuts since they are all the\n",
    "    # same object so they are shared \n",
    "    cut_times = []\n",
    "    pre_cut[-1, 1]['cut_times'] = cut_times\n",
    "    pre_cut = pre_cut.tolist()\n",
    "    pre_cut = utils.cut_curve(pre_cut, max_time_gap, min_lengt, stand_lengt)\n",
    "    # Cut number\n",
    "    cut_numbe = 0\n",
    "    for cut in pre_cut:\n",
    "        # Remove all cuts of only [0,0]\n",
    "        if cut[-2, 0]: \n",
    "            cut[-1, 1]['plane_moon_cut_injec'] = cut[-1, 1]['unmod_plane_moon_cut_injec'] = False\n",
    "            cut[-1, 1]['plane_cut_injec'] = False\n",
    "            if cut[-1, 1]['type_orbit_archi'] == 'planmoon':\n",
    "                cut[-1, 1]['plane_moon_cut_injec'] = cut[-1, 1]['unmod_plane_moon_cut_injec'] = \\\n",
    "utils.retur_curve_injec_statu(cut)\n",
    "            elif cut[-1, 1]['type_orbit_archi'] == 'plan':\n",
    "                cut[-1, 1]['plane_cut_injec'] = utils.retur_curve_injec_statu(cut)\n",
    "            cut[-1, 1]['cut_trans'] = cut[-1, 1]['plane_moon_cut_injec'] or cut[-1, 1]['plane_cut_injec']\n",
    "            cut[-1, 1]['cut_numbe'] = cut_numbe\n",
    "            cut[-1, 1]['inter_type'] = spln_type\n",
    "            cut[-1, 1]['cut_start_index'] = utils.binar_searc(curve[i, :-1, 0], cut[utils.find_start(cut), 0])\n",
    "            # Assign cut to list containing the rest of the cuts\n",
    "            list_cuts.append(cut.tolist())\n",
    "            # Increase cut number\n",
    "            cut_numbe += 1\n",
    "            cut_times.append([cut[utils.find_start(cut), 0], cut[-2, 0]])\n",
    "    # Assign cut times to the curve\n",
    "    curve[i, -1, 1]['cut_times'] = cut_times\n",
    "    \n",
    "padde_cuts = tf.keras.preprocessing.sequence.pad_sequences(list_cuts,\n",
    "                                                           maxlen=stand_lengt,\n",
    "                                                           dtype=object)"
   ]
  },
  {
   "cell_type": "markdown",
   "id": "a03e34b7-24ab-4ca8-a108-392e08ac69cd",
   "metadata": {},
   "source": [
    "### Calculate SNR"
   ]
  },
  {
   "cell_type": "code",
   "execution_count": 22,
   "id": "c6d4b40f-db05-4e97-80a5-f2fcfadfb36a",
   "metadata": {},
   "outputs": [],
   "source": [
    "# Calculate the Signal to Noise ratio\n",
    "for i in range(len(padde_cuts)):\n",
    "    if padde_cuts[i, -1, 1]['plane_moon_cut_injec']:\n",
    "        # Find what proportion the cut is of the initial curve\n",
    "        propo = len(np.where(padde_cuts[i, :-1, 1] != 0)[0]) / \\\n",
    "padde_cuts[i, -1, 1]['raw_curve_lengt']\n",
    "        noise = padde_cuts[i, -1, 1]['rms'] * propo * (padde_cuts[i, -1, 1]['plane_trans_durat']) ** (1/2)\n",
    "        padde_cuts[i, -1, 1]['snr'] = padde_cuts[i, -1, 1]['max_ampli'] / noise"
   ]
  },
  {
   "cell_type": "code",
   "execution_count": 23,
   "id": "6e4c74d1-6090-44b0-82e9-fb749bdb7111",
   "metadata": {},
   "outputs": [],
   "source": [
    "# Remove curves lower than specified snr\n",
    "SNR_MINIM_BOUND = 35\n",
    "# Find all the usable cuts\n",
    "usabl_cuts = []\n",
    "for i in range(len(padde_cuts)):\n",
    "    # Ignore cuts with too low of an snr\n",
    "    if padde_cuts[i, -1, 1]['snr'] == None or padde_cuts[i, -1, 1]['snr'] > SNR_MINIM_BOUND:\n",
    "        usabl_cuts.append(i)\n",
    "        \n",
    "padde_cuts = padde_cuts[usabl_cuts]"
   ]
  },
  {
   "cell_type": "markdown",
   "id": "desperate-anger",
   "metadata": {},
   "source": [
    "### Save Data"
   ]
  },
  {
   "cell_type": "code",
   "execution_count": null,
   "id": "cutting-congo",
   "metadata": {},
   "outputs": [],
   "source": [
    "numbe_raw_cuts = 0\n",
    "numbe_plane_cuts = 0\n",
    "numbe_plane_moon_cuts = 0\n",
    "for i in range(len(padde_cuts)):\n",
    "    if padde_cuts[i, -1, 1]['plane_moon_cut_injec']:\n",
    "        numbe_plane_moon_cuts += 1\n",
    "    elif padde_cuts[i, -1, 1]['plane_cut_injec']:\n",
    "        numbe_plane_cuts += 1\n",
    "    else:\n",
    "        numbe_raw_cuts += 1\n",
    "\n",
    "padde_cuts_path = f'{xom_data_path}padde_cuts/padde_cuts-{numbe_raw_cuts}-\\\n",
    "{numbe_plane_cuts}-{numbe_plane_moon_cuts}.pkl'\n",
    "\n",
    "with open(padde_cuts_path, 'wb') as f:\n",
    "    pkl.dump(padde_cuts, f)\n",
    "print(f'Padded Cuts Path: {padde_cuts_path}')"
   ]
  },
  {
   "cell_type": "raw",
   "id": "necessary-joyce",
   "metadata": {},
   "source": [
    "utils.show_curve(padde_cuts, [2006,2007], ['moon_numbe', 'plane_moon_cut_injec'], highl_injec=True)"
   ]
  },
  {
   "cell_type": "code",
   "execution_count": 18,
   "id": "incoming-science",
   "metadata": {},
   "outputs": [],
   "source": [
    "if verbo >= 1:\n",
    "    utils.send_task_comple_email(f'Injection and Cutting, {padde_cuts_path}')"
   ]
  },
  {
   "cell_type": "markdown",
   "id": "practical-waste",
   "metadata": {},
   "source": [
    "### Formatting"
   ]
  },
  {
   "cell_type": "raw",
   "id": "distinct-russian",
   "metadata": {},
   "source": [
    "forma = \\\n",
    "'''\n",
    "# %%capture\n",
    "\n",
    "# Number of cpus\n",
    "proces_number = 20\n",
    "\n",
    "# Set up save flag\n",
    "save = False\n",
    "\n",
    "# Planet injection setup\n",
    "plane_max_numbe = 1\n",
    "moon_max_numbe = 0\n",
    "type_orbit_archi = 'plan'\n",
    "\n",
    "injec_argum = []\n",
    "\n",
    "for i in plane_index:\n",
    "    injec_argum.append(\n",
    "        (curve[i], plane_max_numbe, moon_max_numbe, type_orbit_archi))\n",
    "\n",
    "# Planet and moon injection setup\n",
    "plane_max_numbe = 1\n",
    "moon_max_numbe = 1\n",
    "type_orbit_archi = 'planmoon'\n",
    "separ_plane_moon = False\n",
    "reinj = False\n",
    "anima_path = None\n",
    "\n",
    "# Setup initial save file\n",
    "if len(curve_save_index) > 2:\n",
    "    with open(f'{main_path}tempo.txt', 'w') as f:\n",
    "        f.write('')\n",
    "    filen = f'{main_path}tempo.txt'\n",
    "    save = True\n",
    "\n",
    "# Format the arguments for multiprocessing\n",
    "for i in plane_moon_index:\n",
    "    injec_argum.append((curve[i], plane_max_numbe, moon_max_numbe,\n",
    "                        type_orbit_archi, separ_plane_moon, reinj, anima_path))\n",
    "\n",
    "if __name__ == '__main__':\n",
    "    with multiprocess.Pool(proces_number) as pool:\n",
    "        for i in range(len(curve_save_index) - 1):\n",
    "            curve[\n",
    "                curve_save_index[i]:curve_save_index[i + 1]] = pool.starmap(\n",
    "                    utils.curve,\n",
    "                    injec_argum[curve_save_index[i]:curve_save_index[i + 1]])\n",
    "            if save:\n",
    "                # Send an update\n",
    "                utils.send_task_comple_email(f'{((curve_save_index[i + 1] - 1) / (curve_save_index[-1] - 1)):.1%} \\\n",
    "of the injection is complete')\n",
    "                # Remove previous version\n",
    "                os.remove(filen)\n",
    "                # Save new version\n",
    "                filen = f'{xom_data_path}curve/curve-parti-{int(time.time())}.pkl'\n",
    "                with open(filen, 'wb') as f:\n",
    "                    pkl.dump(curve, f)\n",
    "\n",
    "        pool.close()\n",
    "        pool.join()\n",
    "\n",
    "if save:\n",
    "    # Rename the final injected curve\n",
    "    os.rename(\n",
    "        filen,\n",
    "        f'{xom_data_path}curve/curve-full-{int(time.time())}.pkl')\n",
    "\n",
    "curve = np.array(curve)\n",
    "'''\n",
    "forma_done = FormatCode(forma, style_config='PEP8')\n",
    "print(forma_done[0])"
   ]
  },
  {
   "cell_type": "code",
   "execution_count": null,
   "id": "documentary-publication",
   "metadata": {},
   "outputs": [],
   "source": []
  }
 ],
 "metadata": {
  "kernelspec": {
   "display_name": "xom",
   "language": "python",
   "name": "xom"
  },
  "language_info": {
   "codemirror_mode": {
    "name": "ipython",
    "version": 3
   },
   "file_extension": ".py",
   "mimetype": "text/x-python",
   "name": "python",
   "nbconvert_exporter": "python",
   "pygments_lexer": "ipython3",
   "version": "3.8.5"
  }
 },
 "nbformat": 4,
 "nbformat_minor": 5
}
