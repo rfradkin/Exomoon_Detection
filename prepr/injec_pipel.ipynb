{
 "cells": [
  {
   "cell_type": "raw",
   "id": "sunrise-great",
   "metadata": {},
   "source": [
    "Formatting Guide:\n",
    "- Use yapf for PEP8 style guide (FormatCode())\n",
    "- Use blank lines sparingly, shows change in logic/focus\n",
    "- Variable names should be the first five letters of the description\n",
    "- Comment Code Accordingly\n",
    "- Anything with ### above and below needs to be updated\n",
    "\n",
    "Other Notes:\n",
    "- Fix EB labeler\n",
    "use argts and kwargs fpr graph inbfo\n",
    "-add predi option to save in infor"
   ]
  },
  {
   "cell_type": "code",
   "execution_count": 1,
   "id": "eligible-printing",
   "metadata": {},
   "outputs": [],
   "source": [
    "# Standard libraries\n",
    "import sys\n",
    "import math\n",
    "import random\n",
    "import time\n",
    "import os\n",
    "\n",
    "# Third-party imports\n",
    "import numpy as np\n",
    "import pandas as pd\n",
    "import pickle as pkl\n",
    "\n",
    "import matplotlib.pyplot as plt\n",
    "\n",
    "import tensorflow as tf\n",
    "\n",
    "import multiprocess\n",
    "import psutil\n",
    "\n",
    "import importlib\n",
    "from yapf.yapflib.yapf_api import FormatCode\n",
    "\n",
    "# Project imports\n",
    "import ephesus\n",
    "import utils\n",
    "from const import *"
   ]
  },
  {
   "cell_type": "code",
   "execution_count": null,
   "id": "steady-night",
   "metadata": {},
   "outputs": [],
   "source": [
    "# Verbosity\n",
    "# 0 = off\n",
    "# 1 is ending\n",
    "# 2 is phases\n",
    "# 3 is percent injection\n",
    "verbo = 1"
   ]
  },
  {
   "cell_type": "markdown",
   "id": "august-television",
   "metadata": {},
   "source": [
    "### Import Light Curves"
   ]
  },
  {
   "cell_type": "code",
   "execution_count": 2,
   "id": "given-trade",
   "metadata": {},
   "outputs": [],
   "source": [
    "# Around 500,000 total light curves\n",
    "numbe_of_curve = 10000\n",
    "\n",
    "# Access the file names\n",
    "files = utils.retur_secto_files()\n",
    "# Choose a random sample\n",
    "sampl = utils.retur_rando_sampl(numbe_of_curve, len(files))\n",
    "# Create a list containing the file names\n",
    "files = [files[index] for index in sampl]"
   ]
  },
  {
   "cell_type": "raw",
   "id": "quarterly-spine",
   "metadata": {},
   "source": [
    "# Check to see the current CPU usage\n",
    "cpu_usage = 0\n",
    "itera = 5000\n",
    "for i in range(itera):\n",
    "    cpu_usage += psutil.cpu_percent()\n",
    "print(f'About {(cpu_usage / itera):.1f}% of the total CPU is in use')"
   ]
  },
  {
   "cell_type": "code",
   "execution_count": 3,
   "id": "roman-denial",
   "metadata": {},
   "outputs": [],
   "source": [
    "# Number of processes\n",
    "proces_number = 20"
   ]
  },
  {
   "cell_type": "code",
   "execution_count": 4,
   "id": "geographic-contents",
   "metadata": {},
   "outputs": [],
   "source": [
    "with multiprocess.Pool(proces_number) as pool:\n",
    "    raw_fits_data = pool.map_async(utils.retur_fits_data, files).get()\n",
    "    \n",
    "# Delete files for memory space\n",
    "del files"
   ]
  },
  {
   "cell_type": "code",
   "execution_count": 5,
   "id": "pharmaceutical-sweden",
   "metadata": {},
   "outputs": [],
   "source": [
    "if verbo >= 2:\n",
    "    utils.send_task_comple_email('Fits Data')"
   ]
  },
  {
   "cell_type": "markdown",
   "id": "vietnamese-motor",
   "metadata": {},
   "source": [
    "### Interpolate and Format Light Curves"
   ]
  },
  {
   "cell_type": "raw",
   "id": "technical-failing",
   "metadata": {},
   "source": [
    "max_time_gap = 10  # mins\n",
    "caden = 2  # mins\n",
    "spln_type = 'cubic'\n",
    "\n",
    "# Insert interpolation spots\n",
    "inter_spot_argum = []\n",
    "for i in range(len(raw_fits_data)):\n",
    "    inter_spot_argum.append((raw_fits_data[i], max_time_gap, caden))\n",
    "utils.send_task_comple_email('argprep')\n",
    "with multiprocess.Pool(proces_number) as pool:\n",
    "    inter_spot_curve = pool.starmap(utils.inser_inter_spot, inter_spot_argum)\n",
    "utils.send_task_comple_email('half')\n",
    "# Interpolate curves\n",
    "inter_argum = []\n",
    "for i in range(len(inter_spot_curve)):\n",
    "    inter_argum.append((inter_spot_curve[i], spln_type))\n",
    "utils.send_task_comple_email('argprep1')    \n",
    "with multiprocess.Pool(proces_number) as pool:\n",
    "    inter_curve = pool.starmap(utils.inter_curve, inter_argum)\n",
    "utils.send_task_comple_email('inter')\n",
    "# Pad curves\n",
    "curve = tf.keras.preprocessing.sequence.pad_sequences(inter_curve,\n",
    "                                                       padding='pre',\n",
    "                                                       dtype=object)\n",
    "\n",
    "# Delete interpolated curve to free up memory space\n",
    "del inter_curve\n",
    "\n",
    "for i in range(len(curve)):\n",
    "    curve[i, -1, 1]['initi_paddi'] = utils.find_start(curve[i, :-1])"
   ]
  },
  {
   "cell_type": "code",
   "execution_count": 6,
   "id": "composite-insurance",
   "metadata": {},
   "outputs": [],
   "source": [
    "max_time_gap = 10  # mins\n",
    "caden = 2  # mins\n",
    "spln_type = 'cubic'\n",
    "\n",
    "for i in range(len(raw_fits_data)):\n",
    "    # Insert 'inter_spot' for later interpolation\n",
    "    curre_curve = utils.inser_inter_spot(raw_fits_data[i], max_time_gap, caden)\n",
    "    # Interpolate each cut\n",
    "    raw_fits_data[i] = utils.inter_curve(curre_curve, spln_type)\n",
    "\n",
    "curve = tf.keras.preprocessing.sequence.pad_sequences(raw_fits_data,\n",
    "                                                       padding='pre',\n",
    "                                                       dtype=object)\n",
    "\n",
    "# Delete raw_fits_data and curre_curve to free up memory space\n",
    "del raw_fits_data, curre_curve\n",
    "\n",
    "for i in range(len(curve)):\n",
    "    curve[i, -1, 1]['initi_paddi'] = utils.find_start(curve[i, :-1])"
   ]
  },
  {
   "cell_type": "raw",
   "id": "parental-service",
   "metadata": {},
   "source": [
    "import sys\n",
    "def sizeof_fmt(num, suffix='B'):\n",
    "    ''' by Fred Cirera,  https://stackoverflow.com/a/1094933/1870254, modified'''\n",
    "    for unit in ['','Ki','Mi','Gi','Ti','Pi','Ei','Zi']:\n",
    "        if abs(num) < 1024.0:\n",
    "            return \"%3.1f %s%s\" % (num, unit, suffix)\n",
    "        num /= 1024.0\n",
    "    return \"%.1f %s%s\" % (num, 'Yi', suffix)\n",
    "\n",
    "for name, size in sorted(((name, sys.getsizeof(value)) for name, value in locals().items()),\n",
    "                         key= lambda x: -x[1])[:10]:\n",
    "    print(\"{:>30}: {:>8}\".format(name, sizeof_fmt(size)))"
   ]
  },
  {
   "cell_type": "code",
   "execution_count": 8,
   "id": "nominated-theology",
   "metadata": {},
   "outputs": [],
   "source": [
    "if verbo >= 2:\n",
    "    utils.send_task_comple_email('Inter and Prep')"
   ]
  },
  {
   "cell_type": "raw",
   "id": "approved-flour",
   "metadata": {},
   "source": [
    "utils.show_curve(curve, [38425745], ['stell_mass', 'stell_radiu'])"
   ]
  },
  {
   "cell_type": "raw",
   "id": "apart-communist",
   "metadata": {},
   "source": [
    "utils.show_curve(\n",
    "    data=curve,\n",
    "    start_stop_tic_id=[0, 5],\n",
    "    featu=['stell_mass', 'stell_radiu'],\n",
    "    highl_injec=False,\n",
    "    highl_cuts=False,\n",
    "    show_signa=False\n",
    ")"
   ]
  },
  {
   "cell_type": "raw",
   "id": "geological-stanford",
   "metadata": {},
   "source": [
    "# Save data\n",
    "with open(f'{xom_data_path}raw_data/\\\n",
    "{numbe_of_curve}-{int(time.time())}.pkl','wb') as f:\n",
    "    pkl.dump(curve, f)"
   ]
  },
  {
   "cell_type": "raw",
   "id": "unusual-track",
   "metadata": {
    "tags": []
   },
   "source": [
    "# Open data\n",
    "with open(f'{xom_data_path}raw_data/\\\n",
    "75000-1642205028.pkl', 'rb') as f:\n",
    "    curve = pkl.load(f)"
   ]
  },
  {
   "cell_type": "raw",
   "id": "chubby-clerk",
   "metadata": {},
   "source": [
    "with open(f'{xom_data_path}injec_curve/\\\n",
    "curve-full-1642296693.pkl', 'rb') as f:\n",
    "    light_curve_toi = pkl.load(f)"
   ]
  },
  {
   "cell_type": "markdown",
   "id": "dominant-cincinnati",
   "metadata": {},
   "source": [
    "### Mark TOIs, EBs, and Stellar Parameters"
   ]
  },
  {
   "cell_type": "code",
   "execution_count": 9,
   "id": "duplicate-mystery",
   "metadata": {},
   "outputs": [],
   "source": [
    "# Find TIC ID of all TOIs\n",
    "toi_full = pd.read_csv(f'{tess_metad_path}toi.csv')\n",
    "toi_id = toi_full['TIC ID'].to_numpy()\n",
    "# Mark TOIs in light curve dataset\n",
    "utils.mark_TOI(curve, toi_id)\n",
    "# Remove the TOIs\n",
    "curve = utils.remov_TOI(curve)"
   ]
  },
  {
   "cell_type": "code",
   "execution_count": 10,
   "id": "compatible-outreach",
   "metadata": {},
   "outputs": [],
   "source": [
    "TIC8 = pd.read_csv(f'{tess_metad_path}nomi_miss_2min_info.csv')\n",
    "\n",
    "for i in range(len(curve)):\n",
    "    TIC_ID = curve[i, -1, 1]['tic_id']\n",
    "    # Find current TIC ID in TIC8\n",
    "    star_infor = TIC8[TIC8.tici == TIC_ID]\n",
    "    # Make sure TIC ID is in TIC8\n",
    "    if len(star_infor):\n",
    "        # Gather stellar radius, mass, temperature, and magnitude\n",
    "        if str(star_infor.radistar.iloc[0]) != 'nan':\n",
    "            curve[i, -1, 1]['stell_radiu'] = star_infor.radistar.iloc[0]\n",
    "        if str(star_infor.massstar.iloc[0]) != 'nan':\n",
    "            curve[i, -1, 1]['stell_mass'] = star_infor.massstar.iloc[0]\n",
    "        if str(star_infor.tmptstar.iloc[0]) != 'nan':\n",
    "            curve[i, -1, 1]['stell_effec_tempe'] = \\\n",
    "star_infor.tmptstar.iloc[0]\n",
    "        if str(star_infor.tmag.iloc[0]) != 'nan':\n",
    "            curve[i, -1, 1]['stell_magni'] = star_infor.tmag.iloc[0]\n",
    "            \n",
    "# Delete TIC8 for memory space\n",
    "del TIC8"
   ]
  },
  {
   "cell_type": "code",
   "execution_count": 11,
   "id": "removable-joshua",
   "metadata": {},
   "outputs": [],
   "source": [
    "if verbo >= 2:\n",
    "    utils.send_task_comple_email('TOI')"
   ]
  },
  {
   "cell_type": "markdown",
   "id": "quick-backup",
   "metadata": {},
   "source": [
    "### Injecting"
   ]
  },
  {
   "cell_type": "raw",
   "id": "appropriate-cambridge",
   "metadata": {},
   "source": [
    "# Find the most recent file in curve\n",
    "filen = utils.retur_most_recen(f'{xom_data_path}injec_curve/')\n",
    "# filen = 'curve-parti-1637666572.0820127.pkl'\n",
    "print(f'Most recent file: {filen}')\n",
    "\n",
    "# Open semi-injected data\n",
    "with open(f'{xom_data_path}injec_curve/{filen}', 'rb') as f:\n",
    "    curve = pkl.load(f)\n",
    "    \n",
    "for i in range(len(curve) - 1, -1, -1):\n",
    "    if curve[i, -1, 1]['curve_injec']:\n",
    "        last_injec = i\n",
    "        print(f'{i / len(curve):.2%} of the data is processed')\n",
    "        break\n",
    "\n",
    "conti_injec = True"
   ]
  },
  {
   "cell_type": "code",
   "execution_count": 12,
   "id": "sustained-clause",
   "metadata": {},
   "outputs": [],
   "source": [
    "# Divide Curve\n",
    "divid = len(curve) // 12\n",
    "# Index of planet injections\n",
    "plane_index = range(0, divid)\n",
    "\n",
    "# Find the last injected planmoon curve if continuing an injection\n",
    "# Otherwise, set it equal to the curve after the final planet injection\n",
    "try:\n",
    "    if conti_injec:\n",
    "        pass\n",
    "except:\n",
    "    last_injec = plane_index[-1] + 1\n",
    "    \n",
    "# Index of planet and moon injections\n",
    "plane_moon_index = range(last_injec, 11 * divid)\n",
    "\n",
    "# Find the number the last injection\n",
    "last_injec_numbe = max(plane_index[-1], plane_moon_index[-1]) + 1"
   ]
  },
  {
   "cell_type": "code",
   "execution_count": 13,
   "id": "labeled-haven",
   "metadata": {},
   "outputs": [],
   "source": [
    "# Save injections every curve_save_numbe curves\n",
    "curve_save_numbe = 10000\n",
    "curve_save_index = [last_injec_numbe]\n",
    "\n",
    "curre_save_index = 0\n",
    "\n",
    "# Just run the whole injection if the number of injected curves\n",
    "# is less than 4 times the minimum save amout\n",
    "if last_injec_numbe < curve_save_numbe * 4:\n",
    "    curve_save_index.insert(0, 0)\n",
    "else:\n",
    "    while curre_save_index < last_injec_numbe:\n",
    "        curve_save_index.insert(-1, curre_save_index)\n",
    "        curre_save_index += curve_save_numbe"
   ]
  },
  {
   "cell_type": "code",
   "execution_count": null,
   "id": "hired-sender",
   "metadata": {},
   "outputs": [],
   "source": [
    "%%capture\n",
    "\n",
    "# Set up save flag\n",
    "save = False\n",
    "\n",
    "# Planet injection setup\n",
    "plane_max_numbe = 1\n",
    "moon_max_numbe = 0\n",
    "type_orbit_archi = 'plan'\n",
    "\n",
    "injec_argum = []\n",
    "\n",
    "for i in plane_index:\n",
    "    injec_argum.append(\n",
    "        (curve[i], plane_max_numbe, moon_max_numbe, type_orbit_archi))\n",
    "\n",
    "# Planet and moon injection setup\n",
    "plane_max_numbe = 1\n",
    "moon_max_numbe = 1\n",
    "type_orbit_archi = 'planmoon'\n",
    "separ_plane_moon = True\n",
    "anima_path = None\n",
    "\n",
    "# Setup initial save file\n",
    "if len(curve_save_index) > 2:\n",
    "    with open(f'{main_path}tempo.txt', 'w') as f:\n",
    "        f.write('')\n",
    "    filen = f'{main_path}tempo.txt'\n",
    "    save = True\n",
    "\n",
    "# Format the arguments for multiprocessing\n",
    "for i in plane_moon_index:\n",
    "    injec_argum.append((curve[i], plane_max_numbe, moon_max_numbe,\n",
    "                        type_orbit_archi, separ_plane_moon, anima_path))\n",
    "\n",
    "\n",
    "for i in range(len(curve_save_index) - 1):\n",
    "    with multiprocess.Pool(proces_number) as pool:\n",
    "        curve[\n",
    "            curve_save_index[i]:curve_save_index[i + 1]] = pool.starmap_async(\n",
    "                utils.injec_signa,\n",
    "                injec_argum[curve_save_index[i]:curve_save_index[i + 1]]).get()\n",
    "        if save:\n",
    "            if verbo >= 3:\n",
    "                # Send an update\n",
    "                utils.send_task_comple_email(\n",
    "                    f'{((curve_save_index[i + 1] - 1) / (curve_save_index[-1] - 1)):.1%} \\\n",
    "of the injection is complete')\n",
    "            # Remove previous version\n",
    "            os.remove(filen)\n",
    "            # Save new version\n",
    "            filen = f'{xom_data_path}injec_curve/curve-parti-{int(time.time())}.pkl'\n",
    "            with open(filen, 'wb') as f:\n",
    "                pkl.dump(curve, f)\n",
    "\n",
    "#     pool.close()\n",
    "#     pool.join()\n",
    "\n",
    "if save:\n",
    "    # Rename the final injected curve\n",
    "    os.rename(\n",
    "        filen,\n",
    "        f'{xom_data_path}injec_curve/curve-full-{int(time.time())}.pkl')\n",
    "\n",
    "curve = np.array(curve)"
   ]
  },
  {
   "cell_type": "raw",
   "id": "thorough-beads",
   "metadata": {},
   "source": [
    "# Remove all injection sections older than two weeks\n",
    "for injec_files in os.listdir(f'{xom_data_path}curve'):\n",
    "    if time.time() - int(injec_files.split('-')[-1].split('.')[0]) > 1210000:\n",
    "        os.remove(f'{xom_data_path}curve/{injec_files}')"
   ]
  },
  {
   "cell_type": "raw",
   "id": "continuous-territory",
   "metadata": {
    "tags": []
   },
   "source": [
    "utils.show_histo(curve, 'plane_densi', 20)#, save_figur_path='/home/rfradkin/xom/graph/bar_histo/')"
   ]
  },
  {
   "cell_type": "raw",
   "id": "beneficial-deposit",
   "metadata": {},
   "source": [
    "utils.show_curve(curve, [0, 10], ['moon_numbe'])"
   ]
  },
  {
   "cell_type": "raw",
   "id": "featured-airport",
   "metadata": {},
   "source": [
    "utils.show_curve(\n",
    "    data=curve,\n",
    "    start_stop_tic_id=[0, 30],\n",
    "    featu=['ratio_plane_stell_radiu', 'ratio_moon_stell_radiu', 'ratio_moon_plane_radiu'],\n",
    "    highl_injec=True,\n",
    "    highl_cuts=False,\n",
    "    show_signa=False,\n",
    ")"
   ]
  },
  {
   "cell_type": "raw",
   "id": "frozen-charm",
   "metadata": {},
   "source": [
    "utils.show_curve(\n",
    "    data=curve,\n",
    "    start_stop_tic_id=[0, 5],\n",
    "    featu=['stell_mass', 'stell_radiu'],\n",
    "    highl_injec=False,\n",
    "    highl_cuts=False,\n",
    "    show_signa=True,\n",
    ")"
   ]
  },
  {
   "cell_type": "markdown",
   "id": "overall-offense",
   "metadata": {},
   "source": [
    "### Detrending"
   ]
  },
  {
   "cell_type": "raw",
   "id": "tough-pontiac",
   "metadata": {},
   "source": [
    "%%capture\n",
    "\n",
    "curve = np.copy(curve)\n",
    "# Copy dictionaries\n",
    "for i in range(len(curve)):\n",
    "    curve[i, -1, 1] = curve[i, -1, 1].copy()\n",
    "\n",
    "detre_scale = 0.4\n",
    "detre_type = 'spln'\n",
    "\n",
    "for i in range(len(curve)):\n",
    "    curre_detre = ephesus.bdtr_tser(\n",
    "        time=curve[i, utils.find_start(curve[i]):-1,\n",
    "                         0].astype(float),\n",
    "        lcur=curve[i, utils.find_start(curve[i]):-1,\n",
    "                         1].astype(float),\n",
    "        typebdtr=detre_type,\n",
    "        timescalbdtrspln=detre_scale,\n",
    "    )[0]\n",
    "    full_detre = curre_detre[0]\n",
    "    # Take detrended chunks and turn them into one curve\n",
    "    for j in range(1, len(curre_detre)):\n",
    "        full_detre = np.concatenate((full_detre, curre_detre[j]))\n",
    "\n",
    "    curve[i, utils.find_start(curve[i]):-1, 1] = full_detre\n",
    "    # Set feature values\n",
    "    curve[i, -1, 1]['curve_type'] = 'Detrended Curve'\n",
    "    curve[i, -1, 1]['detre_time_scale'] = detre_scale\n",
    "    curve[i, -1, 1]['detre_type'] = detre_type"
   ]
  },
  {
   "cell_type": "raw",
   "id": "spatial-economy",
   "metadata": {},
   "source": [
    "utils.show_curve(\n",
    "    data=curve,\n",
    "    start_stop_tic_id=[0, 5],\n",
    "    featu=['stell_mass', 'stell_radiu'],\n",
    "    highl_injec=False,\n",
    "    highl_cuts=False,\n",
    "    show_signa=False,\n",
    ")"
   ]
  },
  {
   "cell_type": "markdown",
   "id": "perfect-hypothesis",
   "metadata": {},
   "source": [
    "### Cutting, Interpolating, and Padding"
   ]
  },
  {
   "cell_type": "code",
   "execution_count": null,
   "id": "irish-question",
   "metadata": {},
   "outputs": [],
   "source": [
    "stand_lengt = 1901\n",
    "min_lengt = 600\n",
    "\n",
    "list_cuts = []\n",
    "for i in range(len(curve)):\n",
    "    pre_cut = np.copy(curve[i])\n",
    "    pre_cut[-1, 1] = pre_cut[-1, 1].copy()\n",
    "    # Find used cut times and add them to all the cuts since they are all the\n",
    "    # same object so they are shared \n",
    "    cut_times = []\n",
    "    pre_cut[-1, 1]['cut_times'] = cut_times\n",
    "    pre_cut = pre_cut.tolist()\n",
    "    pre_cut = utils.cut_curve(pre_cut, max_time_gap, min_lengt, stand_lengt)\n",
    "    # Cut number\n",
    "    cut_numbe = 0\n",
    "    for cut in pre_cut:\n",
    "        # Remove all cuts of only [0,0]\n",
    "        if cut[-2, 0]: \n",
    "            cut[-1, 1]['plane_moon_cut_injec'] = False\n",
    "            cut[-1, 1]['plane_cut_injec'] = False\n",
    "            if cut[-1, 1]['type_orbit_archi'] == 'planmoon':\n",
    "                cut[-1, 1]['plane_moon_cut_injec'] = utils.retur_curve_injec_statu(cut)\n",
    "            elif cut[-1, 1]['type_orbit_archi'] == 'plan':\n",
    "                cut[-1, 1]['plane_cut_injec'] = utils.retur_curve_injec_statu(cut)\n",
    "            cut[-1, 1]['cut_trans'] = cut[-1, 1]['plane_moon_cut_injec'] or cut[-1, 1]['plane_cut_injec']\n",
    "            cut[-1, 1]['cut_numbe'] = cut_numbe\n",
    "            cut[-1, 1]['inter_type'] = spln_type\n",
    "            cut[-1, 1]['cut_start_index'] = utils.binar_searc(curve[i, :-1, 0], cut[utils.find_start(cut), 0])\n",
    "            # Assign cut to list containing the rest of the cuts\n",
    "            list_cuts.append(cut.tolist())\n",
    "            # Increase cut number\n",
    "            cut_numbe += 1\n",
    "            cut_times.append([cut[utils.find_start(cut), 0], cut[-2, 0]])\n",
    "    # Assign cut times to the curve\n",
    "    curve[i, -1, 1]['cut_times'] = cut_times\n",
    "    \n",
    "padde_cuts = tf.keras.preprocessing.sequence.pad_sequences(list_cuts,\n",
    "                                                           maxlen=stand_lengt,\n",
    "                                                           dtype=object)"
   ]
  },
  {
   "cell_type": "raw",
   "id": "military-services",
   "metadata": {},
   "source": [
    "utils.show_curve(\n",
    "    data=curve,\n",
    "    start_stop_tic_id=[0, 5],\n",
    "    featu=['curve_injec', 'cut_trans'],\n",
    "    highl_injec=True,\n",
    "    highl_cuts=True,\n",
    "    show_signa=False,\n",
    ")"
   ]
  },
  {
   "cell_type": "raw",
   "id": "cognitive-slide",
   "metadata": {},
   "source": [
    "utils.show_curve(\n",
    "    data=padde_cuts,\n",
    "    start_stop_tic_id=[100, 190],\n",
    "    featu=['curve_injec', 'cut_trans'],\n",
    "    highl_injec=True,\n",
    "    highl_cuts=False,\n",
    "    show_signa=False,\n",
    ")"
   ]
  },
  {
   "cell_type": "code",
   "execution_count": null,
   "id": "lined-cache",
   "metadata": {},
   "outputs": [],
   "source": [
    "# Save data\n",
    "detre_statu = 'detre' if padde_cuts[0, -1,\n",
    "                                     1]['detre_time_scale'] else 'not_detre'\n",
    "\n",
    "separ_moon_signa_statu = 'not_separ_moon_signa'\n",
    "for i in range(len(padde_cuts)):\n",
    "    if padde_cuts[i, -1, 1]['moon_signa'] is not None:\n",
    "        separ_moon_signa_statu = 'separ_moon_signa'\n",
    "        break\n",
    "\n",
    "padde_cuts_path = f'{xom_data_path}padde_cuts/padde_cuts-{len(padde_cuts)}-\\\n",
    "{detre_statu}-{separ_moon_signa_statu}-{int(time.time())}.pkl'\n",
    "with open(padde_cuts_path, 'wb') as f:\n",
    "    pkl.dump(padde_cuts, f)\n",
    "print(f'Padded Cuts Path: {padde_cuts_path}')"
   ]
  },
  {
   "cell_type": "raw",
   "id": "sixth-romania",
   "metadata": {},
   "source": [
    "utils.show_curve(padde_cuts, [2006,2007], ['moon_numbe', 'plane_moon_cut_injec'], highl_injec=True)"
   ]
  },
  {
   "cell_type": "code",
   "execution_count": null,
   "id": "married-consent",
   "metadata": {},
   "outputs": [],
   "source": [
    "if verbo >= 1:\n",
    "    utils.send_task_comple_email('Injection and Cutting')"
   ]
  },
  {
   "cell_type": "markdown",
   "id": "reserved-gambling",
   "metadata": {},
   "source": [
    "### Formatting"
   ]
  },
  {
   "cell_type": "raw",
   "id": "loved-diana",
   "metadata": {},
   "source": [
    "forma = \\\n",
    "'''\n",
    "# %%capture\n",
    "\n",
    "# Number of cpus\n",
    "proces_number = 20\n",
    "\n",
    "# Set up save flag\n",
    "save = False\n",
    "\n",
    "# Planet injection setup\n",
    "plane_max_numbe = 1\n",
    "moon_max_numbe = 0\n",
    "type_orbit_archi = 'plan'\n",
    "\n",
    "injec_argum = []\n",
    "\n",
    "for i in plane_index:\n",
    "    injec_argum.append(\n",
    "        (curve[i], plane_max_numbe, moon_max_numbe, type_orbit_archi))\n",
    "\n",
    "# Planet and moon injection setup\n",
    "plane_max_numbe = 1\n",
    "moon_max_numbe = 1\n",
    "type_orbit_archi = 'planmoon'\n",
    "separ_plane_moon = False\n",
    "reinj = False\n",
    "anima_path = None\n",
    "\n",
    "# Setup initial save file\n",
    "if len(curve_save_index) > 2:\n",
    "    with open(f'{main_path}tempo.txt', 'w') as f:\n",
    "        f.write('')\n",
    "    filen = f'{main_path}tempo.txt'\n",
    "    save = True\n",
    "\n",
    "# Format the arguments for multiprocessing\n",
    "for i in plane_moon_index:\n",
    "    injec_argum.append((curve[i], plane_max_numbe, moon_max_numbe,\n",
    "                        type_orbit_archi, separ_plane_moon, reinj, anima_path))\n",
    "\n",
    "if __name__ == '__main__':\n",
    "    with multiprocess.Pool(proces_number) as pool:\n",
    "        for i in range(len(curve_save_index) - 1):\n",
    "            curve[\n",
    "                curve_save_index[i]:curve_save_index[i + 1]] = pool.starmap(\n",
    "                    utils.curve,\n",
    "                    injec_argum[curve_save_index[i]:curve_save_index[i + 1]])\n",
    "            if save:\n",
    "                # Send an update\n",
    "                utils.send_task_comple_email(f'{((curve_save_index[i + 1] - 1) / (curve_save_index[-1] - 1)):.1%} \\\n",
    "of the injection is complete')\n",
    "                # Remove previous version\n",
    "                os.remove(filen)\n",
    "                # Save new version\n",
    "                filen = f'{xom_data_path}curve/curve-parti-{int(time.time())}.pkl'\n",
    "                with open(filen, 'wb') as f:\n",
    "                    pkl.dump(curve, f)\n",
    "\n",
    "        pool.close()\n",
    "        pool.join()\n",
    "\n",
    "if save:\n",
    "    # Rename the final injected curve\n",
    "    os.rename(\n",
    "        filen,\n",
    "        f'{xom_data_path}curve/curve-full-{int(time.time())}.pkl')\n",
    "\n",
    "curve = np.array(curve)\n",
    "'''\n",
    "forma_done = FormatCode(forma, style_config='PEP8')\n",
    "print(forma_done[0])"
   ]
  },
  {
   "cell_type": "code",
   "execution_count": null,
   "id": "indonesian-column",
   "metadata": {},
   "outputs": [],
   "source": []
  }
 ],
 "metadata": {
  "kernelspec": {
   "display_name": "Python 3",
   "language": "python",
   "name": "python3"
  },
  "language_info": {
   "codemirror_mode": {
    "name": "ipython",
    "version": 3
   },
   "file_extension": ".py",
   "mimetype": "text/x-python",
   "name": "python",
   "nbconvert_exporter": "python",
   "pygments_lexer": "ipython3",
   "version": "3.9.2"
  }
 },
 "nbformat": 4,
 "nbformat_minor": 5
}
