{
 "cells": [
  {
   "cell_type": "raw",
   "id": "sacred-interview",
   "metadata": {},
   "source": [
    "Formatting Guide:\n",
    "- Use yapf for PEP8 style guide (FormatCode())\n",
    "- Use blank lines sparingly, shows change in logic/focus\n",
    "- Variable names should be the first five letters of the description\n",
    "- Comment Code Accordingly\n",
    "- Anything with ### above and below needs to be updated\n",
    "\n",
    "Other Notes:\n",
    "- Fix EB labeler\n",
    "use argts and kwargs fpr graph inbfo\n",
    "- remove tois from dset, not just mark"
   ]
  },
  {
   "cell_type": "code",
   "execution_count": 1,
   "id": "elementary-nickel",
   "metadata": {},
   "outputs": [],
   "source": [
    "# Standard libraries\n",
    "import sys\n",
    "import math\n",
    "import random\n",
    "import time\n",
    "import os\n",
    "\n",
    "# Third-party imports\n",
    "import numpy as np\n",
    "import pandas as pd\n",
    "import pickle as pkl\n",
    "\n",
    "import matplotlib.pyplot as plt\n",
    "\n",
    "import tensorflow as tf\n",
    "\n",
    "import importlib\n",
    "from yapf.yapflib.yapf_api import FormatCode\n",
    "\n",
    "# Project imports\n",
    "import ephesus\n",
    "import utils"
   ]
  },
  {
   "cell_type": "raw",
   "id": "cardiovascular-nancy",
   "metadata": {},
   "source": [
    "Formal Name and Information Dictionaries Below"
   ]
  },
  {
   "cell_type": "code",
   "execution_count": 2,
   "id": "demographic-prairie",
   "metadata": {
    "jupyter": {
     "source_hidden": true
    },
    "tags": []
   },
   "outputs": [],
   "source": [
    "forma_names = {\n",
    "    'curve_injec': 'Curve Injected',\n",
    "    'curve_type': 'Curve Type',\n",
    "    'cut_times': 'Cut Times',\n",
    "    'cut_trans': 'Cut Transit', \n",
    "    'cut_numbe': 'Cut Number',\n",
    "    'cut_start_index': 'Cut Start Index',\n",
    "    'detre_time_scale': 'Detrended Time Scale [days]',\n",
    "    'detre_type': 'Detrended Type',\n",
    "    'eb': 'Eclipsing Binary',\n",
    "    'file_name': 'File Name',\n",
    "    'injec_times': 'Injection Times',\n",
    "    'inter_type': 'Interpolation Spline',\n",
    "    'initi_paddi': 'Initial Padding',\n",
    "    'linea_limb_darke_coeff': 'Linear Limb Darkening Coefficient',\n",
    "    'max_ampli': 'Max Amplitude',\n",
    "    'moon_eccen': 'Moon Eccentricity',\n",
    "    'moon_epoch': 'Moon Epoch [BJD]',\n",
    "    'moon_incli': 'Moon Inclination [°]',\n",
    "    'moon_mass': 'Moon Mass [M⨂]',\n",
    "    'moon_numbe': 'Number of Moons',\n",
    "    'moon_perio': 'Moon Period [days]',\n",
    "    'moon_radiu': 'Moon Radius [R⨂]',\n",
    "    'moon_sin_w': 'Planet Sin Argument of Periapsis [AU]',\n",
    "    'plane_cut_injec': 'Cut Injected (Planet)',\n",
    "    'plane_eccen': 'Planet Eccentricity',\n",
    "    'plane_epoch': 'Planet Epoch [BJD]',\n",
    "    'plane_incli': 'Planet Inclination [°]',\n",
    "    'plane_mass': 'Planet Mass [M⨂]',\n",
    "    'plane_moon_cut_injec': 'Cut Injected (Planet, Moon)',\n",
    "    'plane_numbe': 'Number of Planets',\n",
    "    'plane_perio': 'Planet Period [days]',\n",
    "    'plane_radiu': 'Planet Radius [R⨂]',\n",
    "    'plane_sin_w': 'Planet Sin Argument of Periapsis [AU]',\n",
    "    'plane_type': 'Planet Type',\n",
    "    'quadr_limb_darke_coeff': 'Quadratic Limb Darkening Coefficient',\n",
    "    'ratio_moon_plane_radiu': 'Ratio of Moon to Planetary Radius',\n",
    "    'ratio_moon_stell_radiu': 'Ratio of Moon to Stellar Radius', \n",
    "    'ratio_plane_stell_radiu': 'Ratio of Planetary to Stellar Radius',\n",
    "    'signa': 'Signal',\n",
    "    'stell_effec_tempe': 'Stellar Effective Temperature [C°]',\n",
    "    'stell_magni': 'Stellar Magnitude',\n",
    "    'stell_mass': 'Stellar Mass [M☉]',\n",
    "    'stell_radiu': 'Stellar Radius [R☉]',\n",
    "    'tic_id': 'TIC ID',\n",
    "    'toi': 'TOI',\n",
    "    'trape_trans': 'Trapezoidal Transits',\n",
    "    'type_calcu': 'Type Calculation',\n",
    "    'type_limb_darke': 'Type of Limb Darkening',\n",
    "    'type_orbit_archi': 'Type of Orbital Architecture'\n",
    "}\n",
    "\n",
    "infor = {\n",
    "    'curve_injec': False, \n",
    "    'curve_type': None,\n",
    "    'cut_times': None,\n",
    "    'cut_trans': None,\n",
    "    'cut_numbe': None,\n",
    "    'cut_start_index': None,\n",
    "    'detre_time_scale': None,\n",
    "    'detre_type': None,\n",
    "    'eb': None,\n",
    "    'file_name': None,\n",
    "    'forma_names': forma_names,\n",
    "    'injec_times': None,\n",
    "    'inter_type': None,\n",
    "    'initi_paddi': None,\n",
    "    'linea_limb_darke_coeff': None,\n",
    "    'max_ampli': None,\n",
    "    'moon_eccen': None,\n",
    "    'moon_epoch': None,\n",
    "    'moon_incli': None,\n",
    "    'moon_mass': None,\n",
    "    'moon_numbe': None,\n",
    "    'moon_perio': None,\n",
    "    'moon_radiu': None,\n",
    "    'moon_sin_w': None,\n",
    "    'plane_cut_injec': None,\n",
    "    'plane_eccen': None,\n",
    "    'plane_epoch': None,\n",
    "    'plane_incli': None,\n",
    "    'plane_mass': None,\n",
    "    'plane_moon_cut_injec': None,\n",
    "    'plane_numbe': None,\n",
    "    'plane_perio': None,\n",
    "    'plane_radiu': None,\n",
    "    'plane_sin_w': None,\n",
    "    'plane_type': None,\n",
    "    'quadr_limb_darke_coeff': None,\n",
    "    'ratio_moon_plane_radiu': None,\n",
    "    'ratio_moon_stell_radiu': None,\n",
    "    'ratio_plane_stell_radiu': None,\n",
    "    'signa': None,\n",
    "    'stell_effec_tempe': None,\n",
    "    'stell_magni': None,\n",
    "    'stell_mass': None,\n",
    "    'stell_radiu': None,\n",
    "    'tic_id': None,\n",
    "    'toi': None,\n",
    "    'trape_trans': None,\n",
    "    'type_calcu': None,\n",
    "    'type_limb_darke': None,\n",
    "    'type_orbit_archi': None\n",
    "}"
   ]
  },
  {
   "cell_type": "code",
   "execution_count": 3,
   "id": "rolled-holder",
   "metadata": {},
   "outputs": [],
   "source": [
    "main_path = '/home/rfradkin/xom/'\n",
    "raw_tess_path = '/scratch/data/tess/lcur/spoc/raws/'\n",
    "tess_metad_path = '/data/scratch/data/tess/meta/'\n",
    "xom_data_path = '/data/scratch/data/moon/'"
   ]
  },
  {
   "cell_type": "markdown",
   "id": "distant-commercial",
   "metadata": {},
   "source": [
    "### Import Light Curves"
   ]
  },
  {
   "cell_type": "code",
   "execution_count": 4,
   "id": "entitled-commander",
   "metadata": {},
   "outputs": [],
   "source": [
    "from_secto = 1\n",
    "to_secto = 3 # Not inclusive\n",
    "numbe_of_curve = 0"
   ]
  },
  {
   "cell_type": "code",
   "execution_count": 5,
   "id": "southeast-column",
   "metadata": {},
   "outputs": [],
   "source": [
    "files = utils.retur_secto_files([from_secto, to_secto], f'{raw_tess_path}')\n",
    "compl_set = ''\n",
    "if numbe_of_curve: \n",
    "    sampl = utils.retur_rando_sampl(numbe_of_curve, len(files))\n",
    "    files = [files[index] for index in sampl]\n",
    "    compl_set = '-parti'"
   ]
  },
  {
   "cell_type": "code",
   "execution_count": 6,
   "id": "alternative-testament",
   "metadata": {},
   "outputs": [],
   "source": [
    "light_curve = utils.retur_fits_data(files, infor, f'{raw_tess_path}')"
   ]
  },
  {
   "cell_type": "raw",
   "id": "cooked-accused",
   "metadata": {},
   "source": [
    "utils.show_curve(\n",
    "    data=light_curve,\n",
    "    start_stop_tic_id=[0, 5],\n",
    "    featu=['stell_mass', 'stell_radiu'],\n",
    "    highl_injec=False,\n",
    "    highl_cuts=False,\n",
    "    show_signa=False,\n",
    ")"
   ]
  },
  {
   "cell_type": "raw",
   "id": "romantic-order",
   "metadata": {},
   "source": [
    "utils.show_curve(light_curve, [38425745], ['stell_mass', 'stell_radiu'])"
   ]
  },
  {
   "cell_type": "raw",
   "id": "iraqi-bahrain",
   "metadata": {},
   "source": [
    "# Save data\n",
    "with open(f'{xom_data_path}raw_data/\\\n",
    "forma_curve-{first_secto}_{last_secto}{comple_set}.pkl','wb') as f:\n",
    "    pkl.dump(light_curve, f)"
   ]
  },
  {
   "cell_type": "raw",
   "id": "reserved-warehouse",
   "metadata": {
    "tags": []
   },
   "source": [
    "# Open data\n",
    "with open(f'{xom_data_path}raw_data/\\\n",
    "forma_curve-{first_secto}_{last_secto}{comple_set}.pkl', 'rb') as f:\n",
    "    light_curve = pkl.load(f)"
   ]
  },
  {
   "cell_type": "markdown",
   "id": "offshore-strand",
   "metadata": {},
   "source": [
    "### Mark TOIs, EBs, and Stellar Parameters"
   ]
  },
  {
   "cell_type": "code",
   "execution_count": 7,
   "id": "mediterranean-proposition",
   "metadata": {},
   "outputs": [],
   "source": [
    "# Find TIC ID of all TOIs\n",
    "toi_full = pd.read_csv(f'{tess_metad_path}toi.csv')\n",
    "toi_id = toi_full['TIC ID'].to_numpy()\n",
    "# Mark TOIs in light curve dataset\n",
    "utils.mark_TOI(light_curve, toi_id)"
   ]
  },
  {
   "cell_type": "code",
   "execution_count": 8,
   "id": "protecting-observer",
   "metadata": {},
   "outputs": [],
   "source": [
    "TIC8 = pd.read_csv(f'{tess_metad_path}nomi_miss_2min_info.csv')\n",
    "\n",
    "for i in range(len(light_curve)):\n",
    "    TIC_ID = light_curve[i, -1, 1]['tic_id']\n",
    "    # Find current TIC ID in TIC8\n",
    "    star_infor = TIC8[TIC8.tici == TIC_ID]\n",
    "    # Gather stellar radius, mass, temperature, and magnitude\n",
    "    if str(star_infor.radistar.iloc[0]) != 'nan':\n",
    "        light_curve[i, -1, 1]['stell_radiu'] = star_infor.radistar.iloc[0]\n",
    "    if str(star_infor.massstar.iloc[0]) != 'nan':\n",
    "        light_curve[i, -1, 1]['stell_mass'] = star_infor.massstar.iloc[0]\n",
    "    if str(star_infor.tmptstar.iloc[0]) != 'nan':\n",
    "        light_curve[i, -1, 1]['stell_effec_tempe'] = \\\n",
    "star_infor.tmptstar.iloc[0]\n",
    "    if str(star_infor.tmag.iloc[0]) != 'nan':\n",
    "        light_curve[i, -1, 1]['stell_magni'] = star_infor.tmag.iloc[0]"
   ]
  },
  {
   "cell_type": "markdown",
   "id": "synthetic-tulsa",
   "metadata": {},
   "source": [
    "### Injecting"
   ]
  },
  {
   "cell_type": "raw",
   "id": "treated-modeling",
   "metadata": {},
   "source": [
    "# Find the most recent file in injec_curve\n",
    "filen = utils.retur_most_recen(f'{xom_data_path}injec_curve/')\n",
    "# filen = 'injec_curve-parti-1637666572.0820127.pkl'\n",
    "print(f'Most recent file: {filen}')\n",
    "\n",
    "\n",
    "# Open semi-injected data\n",
    "with open(f'{xom_data_path}injec_curve/{filen}', 'rb') as f:\n",
    "    light_curve = pkl.load(f)\n",
    "    \n",
    "for i in range(len(light_curve) - 1, -1, -1):\n",
    "    if light_curve[i, -1, 1]['curve_injec']:\n",
    "        print(f'{i / len(light_curve):.2%} of the data is processed')\n",
    "        break"
   ]
  },
  {
   "cell_type": "code",
   "execution_count": 29,
   "id": "anonymous-duplicate",
   "metadata": {},
   "outputs": [],
   "source": [
    "# Divide Curve\n",
    "divid = len(light_curve) // 4\n",
    "# Index of planet injections\n",
    "plane_index = [0, divid]\n",
    "# Index of planet and moon injections\n",
    "plane_moon_index = [divid, 3 * divid]\n",
    "\n",
    "injec_curve = np.copy(light_curve)\n",
    "# Copy dictionaries\n",
    "for i in range(len(injec_curve)):\n",
    "    injec_curve[i, -1, 1] = injec_curve[i, -1, 1].copy()"
   ]
  },
  {
   "cell_type": "code",
   "execution_count": null,
   "id": "executed-research",
   "metadata": {},
   "outputs": [],
   "source": [
    "%%capture\n",
    "\n",
    "# Inject planets\n",
    "injec_curve[plane_index[0]:plane_index[1]] = utils.injec_curve(\n",
    "    injec_curve[plane_index[0]:plane_index[1]], 1, 0, 'plan')"
   ]
  },
  {
   "cell_type": "code",
   "execution_count": null,
   "id": "contemporary-society",
   "metadata": {},
   "outputs": [],
   "source": [
    "%%capture\n",
    "\n",
    "anima_path = None\n",
    "# anima_path = f'{main_path}anima/'\n",
    "\n",
    "# Inject planets and moons\n",
    "# Save sections of planet moon injections if more than 300 injections\n",
    "if plane_moon_index[1] - plane_moon_index[0] > 300:\n",
    "    # Create a temporary text file that os can remove, since a\n",
    "    # valid argument must be passed\n",
    "    with open(f'{main_path}tempo.txt', 'w') as f:\n",
    "        f.write('')\n",
    "    filen = f'{main_path}tempo.txt'\n",
    "    for i in range(plane_moon_index[0], plane_moon_index[1], 300):\n",
    "        plane_moon_injec = utils.injec_curve(injec_curve[i:i + 300], 1, 1,\n",
    "                                             'planmoon', anima_path=anima_path)\n",
    "        # Add section to full injec_curve\n",
    "        injec_curve[i:i + 300] = plane_moon_injec\n",
    "        for ii in range(len(injec_curve[i:i + 300])):\n",
    "            # If any curve is injected, add create a new copy\n",
    "            # Created to stop resaving of partially injected data\n",
    "            if not np.all(injec_curve[i + ii, :-1, 1] == light_curve[i + ii, :-1, 1]):\n",
    "                # Remove previous version\n",
    "                os.remove(filen)\n",
    "                # Save new version\n",
    "                filen = f'{xom_data_path}injec_curve/injec_curve-parti-{float(time.time())}.pkl'\n",
    "                with open(filen, 'wb') as f:\n",
    "                    pkl.dump(injec_curve, f)\n",
    "                break\n",
    "    if filen != f'{main_path}tempo.txt':\n",
    "        os.rename(filen, f'{xom_data_path}injec_curve/injec_curve-full-{float(time.time())}.pkl')\n",
    "\n",
    "else:\n",
    "    injec_curve[plane_moon_index[0]:plane_moon_index[1]] = utils.injec_curve(\n",
    "        injec_curve[plane_moon_index[0]:plane_moon_index[1]], 1, 1, 'planmoon', \n",
    "        anima_path=anima_path)\n",
    "    \n",
    "# Remove all injection sections older than two weeks\n",
    "for injec_files in os.listdir(f'{xom_data_path}injec_curve'):\n",
    "    if float(time.time()) - int(injec_files.split('-')[-1].split('.')[0]) > 1210000:\n",
    "        os.remove(f'{xom_data_path}injec_curve/{injec_files}')"
   ]
  },
  {
   "cell_type": "raw",
   "id": "under-williams",
   "metadata": {},
   "source": [
    "utils.show_curve(\n",
    "    data=injec_curve,\n",
    "    start_stop_tic_id=[0, 30],\n",
    "    featu=['ratio_plane_stell_radiu', 'ratio_moon_stell_radiu', 'ratio_moon_plane_radiu'],\n",
    "    highl_injec=True,\n",
    "    highl_cuts=False,\n",
    "    show_signa=False,\n",
    ")"
   ]
  },
  {
   "cell_type": "raw",
   "id": "finite-exploration",
   "metadata": {},
   "source": [
    "utils.show_curve(\n",
    "    data=injec_curve,\n",
    "    start_stop_tic_id=[0, 5],\n",
    "    featu=['stell_mass', 'stell_radiu'],\n",
    "    highl_injec=False,\n",
    "    highl_cuts=False,\n",
    "    show_signa=True,\n",
    ")"
   ]
  },
  {
   "cell_type": "markdown",
   "id": "metropolitan-python",
   "metadata": {},
   "source": [
    "### Detrending"
   ]
  },
  {
   "cell_type": "code",
   "execution_count": 129,
   "id": "pressed-float",
   "metadata": {},
   "outputs": [],
   "source": [
    "%%capture\n",
    "\n",
    "detre_curve = np.copy(injec_curve)\n",
    "# Copy dictionaries\n",
    "for i in range(len(detre_curve)):\n",
    "    detre_curve[i, -1, 1] = detre_curve[i, -1, 1].copy()\n",
    "\n",
    "detre_scale = 0.4\n",
    "detre_type = 'spln'\n",
    "\n",
    "for i in range(len(injec_curve)):\n",
    "    curre_detre = ephesus.bdtr_tser(\n",
    "        time=injec_curve[i, utils.find_start(injec_curve[i]):-1,\n",
    "                         0].astype(float),\n",
    "        lcur=injec_curve[i, utils.find_start(injec_curve[i]):-1,\n",
    "                         1].astype(float),\n",
    "        typebdtr=detre_type,\n",
    "        timescalbdtrspln=detre_scale,\n",
    "    )[0]\n",
    "    full_detre = curre_detre[0]\n",
    "    # Take detrended chunks and turn them into one curve\n",
    "    for j in range(1, len(curre_detre)):\n",
    "        full_detre = np.concatenate((full_detre, curre_detre[j]))\n",
    "\n",
    "    detre_curve[i, utils.find_start(injec_curve[i]):-1, 1] = full_detre\n",
    "    # Set feature values\n",
    "    detre_curve[i, -1, 1]['curve_type'] = 'Detrended Curve'\n",
    "    detre_curve[i, -1, 1]['detre_time_scale'] = detre_scale\n",
    "    detre_curve[i, -1, 1]['detre_type'] = detre_type"
   ]
  },
  {
   "cell_type": "raw",
   "id": "harmful-checklist",
   "metadata": {},
   "source": [
    "utils.show_curve(\n",
    "    data=detre_curve,\n",
    "    start_stop_tic_id=[0, 5],\n",
    "    featu=['stell_mass', 'stell_radiu'],\n",
    "    highl_injec=False,\n",
    "    highl_cuts=False,\n",
    "    show_signa=False,\n",
    ")"
   ]
  },
  {
   "cell_type": "markdown",
   "id": "conservative-chancellor",
   "metadata": {},
   "source": [
    "### Cutting, Interpolating, and Padding"
   ]
  },
  {
   "cell_type": "raw",
   "id": "endless-stack",
   "metadata": {},
   "source": [
    "# If detrending is not to be used\n",
    "detre_curve = np.copy(injec_curve)\n",
    "for i in range(len(detre_curve)):\n",
    "    detre_curve[i, -1, 1] = detre_curve[i, -1, 1].copy()"
   ]
  },
  {
   "cell_type": "code",
   "execution_count": 148,
   "id": "corporate-centre",
   "metadata": {},
   "outputs": [],
   "source": [
    "stand_lengt = 1901\n",
    "min_lengt = 600\n",
    "max_time_gap = 10  # mins\n",
    "caden = 2  # mins\n",
    "spln_type = 'cubic'\n",
    "\n",
    "list_cuts = []\n",
    "for i in range(len(detre_curve)):\n",
    "    pre_cut = np.copy(detre_curve[i])\n",
    "    pre_cut[-1, 1] = pre_cut[-1, 1].copy()\n",
    "    # Insert 'inter_spot' for later interpolation\n",
    "    pre_cut = utils.inser_inter_spot(pre_cut, max_time_gap, caden)\n",
    "    # Cut curve and assign cut times to the detrended curve\n",
    "    pre_cut = utils.cut_curve(pre_cut, max_time_gap, min_lengt, stand_lengt)\n",
    "    # Cut number\n",
    "    cut_numbe = 0\n",
    "    # Find used cut times\n",
    "    cut_times = []\n",
    "    for curre_cut in pre_cut:\n",
    "        # Remove all cuts of only [0,0]\n",
    "        if curre_cut[-2, 0]: \n",
    "            # Interpolate each cut\n",
    "            cut = utils.inter_curve(curre_cut, spln_type)\n",
    "            # Assign feature values\n",
    "            cut[-1, 1]['plane_moon_cut_injec'] = False\n",
    "            cut[-1, 1]['plane_cut_injec'] = False\n",
    "            if cut[-1, 1]['type_orbit_archi'] == 'planmoon':\n",
    "                cut[-1, 1]['plane_moon_cut_injec'] = utils.retur_curve_injec_statu(cut)\n",
    "            elif cut[-1, 1]['type_orbit_archi'] == 'plan':\n",
    "                cut[-1, 1]['plane_cut_injec'] = utils.retur_curve_injec_statu(cut)\n",
    "            cut[-1, 1]['cut_trans'] = cut[-1, 1]['plane_moon_cut_injec'] or cut[-1, 1]['plane_cut_injec']\n",
    "            cut[-1, 1]['cut_numbe'] = cut_numbe\n",
    "            cut[-1, 1]['inter_type'] = spln_type\n",
    "            # Assign cut to list containing the rest of the cuts\n",
    "            list_cuts.append(cut.tolist())\n",
    "            # Increase cut number\n",
    "            cut_numbe += 1\n",
    "            cut_times.append([cut[utils.find_start(cut), 0], cut[-2, 0]])\n",
    "    # Assign cut times to the corresponding light, injected, and detrended curve\n",
    "    light_curve[i, -1, 1]['cut_times'] = cut_times\n",
    "    injec_curve[i, -1, 1]['cut_times'] = cut_times\n",
    "    detre_curve[i, -1, 1]['cut_times'] = cut_times\n",
    "    \n",
    "padde_cuts = tf.keras.preprocessing.sequence.pad_sequences(list_cuts,\n",
    "                                                           maxlen=stand_lengt,\n",
    "                                                           dtype=object)"
   ]
  },
  {
   "cell_type": "raw",
   "id": "ranging-franchise",
   "metadata": {},
   "source": [
    "utils.show_curve(\n",
    "    data=detre_curve,\n",
    "    start_stop_tic_id=[0, 5],\n",
    "    featu=['curve_injec', 'cut_trans'],\n",
    "    highl_injec=True,\n",
    "    highl_cuts=True,\n",
    "    show_signa=False,\n",
    ")"
   ]
  },
  {
   "cell_type": "raw",
   "id": "solar-cable",
   "metadata": {},
   "source": [
    "utils.show_curve(\n",
    "    data=padde_cuts,\n",
    "    start_stop_tic_id=[100, 190],\n",
    "    featu=['curve_injec', 'cut_trans'],\n",
    "    highl_injec=True,\n",
    "    highl_cuts=False,\n",
    "    show_signa=False,\n",
    ")"
   ]
  },
  {
   "cell_type": "code",
   "execution_count": 151,
   "id": "entire-significance",
   "metadata": {},
   "outputs": [
    {
     "name": "stdout",
     "output_type": "stream",
     "text": [
      "Detrended Status: not_detre-\n",
      "Padded Cuts Path: /data/scratch/data/moon/padde_cuts/padde_cuts-not_detre-1_3-1637795787.3582556.pkl\n"
     ]
    }
   ],
   "source": [
    "# Save data\n",
    "detre_status = 'detre-' if padde_cuts[0, -1,\n",
    "                                     1]['detre_time_scale'] else 'not_detre-'\n",
    "print(f'Detrended Status: {detre_status[:-1]}')\n",
    "padde_cuts_path = f'{xom_data_path}padde_cuts/padde_cuts-{detre_status}{from_secto}_{to_secto}{compl_set}-{float(time.time())}.pkl'\n",
    "with open(padde_cuts_path, 'wb') as f:\n",
    "    pkl.dump(padde_cuts, f)\n",
    "print(f'Padded Cuts Path: {padde_cuts_path}')"
   ]
  },
  {
   "cell_type": "code",
   "execution_count": 150,
   "id": "scientific-henry",
   "metadata": {},
   "outputs": [],
   "source": [
    "utils.send_task_comple_email('Injection and Cutting')"
   ]
  },
  {
   "cell_type": "markdown",
   "id": "northern-villa",
   "metadata": {},
   "source": [
    "### Formatting"
   ]
  },
  {
   "cell_type": "raw",
   "id": "quarterly-panel",
   "metadata": {},
   "source": [
    "forma = \\\n",
    "'''\n",
    "# Save data\n",
    "detre_status = 'detre' if padde_cuts[0, -1, 1]['detre_time_scale'] else 'not_detre'\n",
    "padde_cuts_path = f'{xom_data_path}padde_cuts/padde_cuts-{detre_status}\\\n",
    "{from_secto}_{to_secto}{compl_set}-{float(time.time())}.pkl'\n",
    "with open(padde_cuts_path, 'wb') as f:\n",
    "    pkl.dump(padde_cuts, f)\n",
    "print(f'Padded Cuts Path: {padde_cuts_path}')\n",
    "'''\n",
    "forma_done = FormatCode(forma, style_config='PEP8')\n",
    "print(forma_done[0])"
   ]
  },
  {
   "cell_type": "code",
   "execution_count": null,
   "id": "handy-prior",
   "metadata": {},
   "outputs": [],
   "source": []
  }
 ],
 "metadata": {
  "kernelspec": {
   "display_name": "Python 3",
   "language": "python",
   "name": "python3"
  },
  "language_info": {
   "codemirror_mode": {
    "name": "ipython",
    "version": 3
   },
   "file_extension": ".py",
   "mimetype": "text/x-python",
   "name": "python",
   "nbconvert_exporter": "python",
   "pygments_lexer": "ipython3",
   "version": "3.9.2"
  }
 },
 "nbformat": 4,
 "nbformat_minor": 5
}
