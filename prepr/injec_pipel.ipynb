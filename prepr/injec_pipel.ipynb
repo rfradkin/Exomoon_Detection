{
 "cells": [
  {
   "cell_type": "raw",
   "id": "written-locking",
   "metadata": {},
   "source": [
    "Formatting Guide:\n",
    "- Use yapf for PEP8 style guide (FormatCode())\n",
    "- Use blank lines sparingly, shows change in logic/focus\n",
    "- Variable names should be the first five letters of the description\n",
    "- Comment Code Accordingly\n",
    "- Anything with ### above and below needs to be updated\n",
    "\n",
    "Other Notes:\n",
    "- Fix EB labeler\n",
    "use argts and kwargs fpr graph inbfo\n",
    "- remove tois from dset, not just mark\n",
    "-add predi option to save in infor"
   ]
  },
  {
   "cell_type": "code",
   "execution_count": 1,
   "id": "complex-barrier",
   "metadata": {},
   "outputs": [],
   "source": [
    "# Standard libraries\n",
    "import sys\n",
    "import math\n",
    "import random\n",
    "import time\n",
    "import os\n",
    "\n",
    "# Third-party imports\n",
    "import numpy as np\n",
    "import pandas as pd\n",
    "import pickle as pkl\n",
    "\n",
    "import matplotlib.pyplot as plt\n",
    "\n",
    "import tensorflow as tf\n",
    "\n",
    "import multiprocess\n",
    "import psutil\n",
    "\n",
    "import importlib\n",
    "from yapf.yapflib.yapf_api import FormatCode\n",
    "\n",
    "# Project imports\n",
    "import ephesus\n",
    "import utils"
   ]
  },
  {
   "cell_type": "raw",
   "id": "finite-finish",
   "metadata": {},
   "source": [
    "Formal Name and Information Dictionaries Below"
   ]
  },
  {
   "cell_type": "code",
   "execution_count": 2,
   "id": "acquired-means",
   "metadata": {
    "jupyter": {
     "source_hidden": true
    },
    "tags": []
   },
   "outputs": [],
   "source": [
    "infor = {\n",
    "    'curve_injec': False, \n",
    "    'curve_type': None,\n",
    "    'cut_times': None,\n",
    "    'cut_trans': None,\n",
    "    'cut_numbe': None,\n",
    "    'cut_start_index': None,\n",
    "    'detre_time_scale': None,\n",
    "    'detre_type': None,\n",
    "    'eb': None,\n",
    "    'file_name': None,\n",
    "    'injec_times': None,\n",
    "    'inter_type': None,\n",
    "    'initi_paddi': None,\n",
    "    'linea_limb_darke_coeff': None,\n",
    "    'max_ampli': None,\n",
    "    'model_file': None,\n",
    "    'moon_densi': None,\n",
    "    'moon_eccen': None,\n",
    "    'moon_epoch': None,\n",
    "    'moon_incli': None,\n",
    "    'moon_mass': None,\n",
    "    'moon_numbe': None,\n",
    "    'moon_perio': None,\n",
    "    'moon_radiu': None,\n",
    "    'moon_sin_w': None,\n",
    "    'moon_signa': None,\n",
    "    'plane_cut_injec': None,\n",
    "    'plane_densi': None,\n",
    "    'plane_eccen': None,\n",
    "    'plane_epoch': None,\n",
    "    'plane_incli': None,\n",
    "    'plane_mass': None,\n",
    "    'plane_moon_cut_injec': None,\n",
    "    'plane_numbe': None,\n",
    "    'plane_perio': None,\n",
    "    'plane_radiu': None,\n",
    "    'plane_sin_w': None,\n",
    "    'plane_signa': None,\n",
    "    'plane_type': None,\n",
    "    'predi': None,\n",
    "    'quadr_limb_darke_coeff': None,\n",
    "    'ratio_moon_plane_radiu': None,\n",
    "    'ratio_moon_stell_radiu': None,\n",
    "    'ratio_plane_stell_radiu': None,\n",
    "    'signa': None,\n",
    "    'stell_effec_tempe': None,\n",
    "    'stell_magni': None,\n",
    "    'stell_mass': None,\n",
    "    'stell_radiu': None,\n",
    "    'tic_id': None,\n",
    "    'toi': None,\n",
    "    'trape_trans': None,\n",
    "    'type_calcu': None,\n",
    "    'type_limb_darke': None,\n",
    "    'type_orbit_archi': None\n",
    "}"
   ]
  },
  {
   "cell_type": "code",
   "execution_count": 3,
   "id": "heard-disposition",
   "metadata": {},
   "outputs": [],
   "source": [
    "main_path = '/home/rfradkin/xom/'\n",
    "raw_tess_path = '/scratch/data/tess/lcur/spoc/raws/'\n",
    "tess_metad_path = '/data/scratch/data/tess/meta/'\n",
    "xom_data_path = '/data/scratch/data/moon/'"
   ]
  },
  {
   "cell_type": "markdown",
   "id": "silver-lucas",
   "metadata": {},
   "source": [
    "### Import Light Curves"
   ]
  },
  {
   "cell_type": "code",
   "execution_count": 4,
   "id": "operating-effectiveness",
   "metadata": {},
   "outputs": [],
   "source": [
    "numbe_of_curve = 600\n",
    "\n",
    "# Access the file names\n",
    "files = utils.retur_secto_files(f'{raw_tess_path}')\n",
    "# Choose a random sample\n",
    "sampl = utils.retur_rando_sampl(numbe_of_curve, len(files))\n",
    "# Create a list containing the file names\n",
    "files = [files[index] for index in sampl]"
   ]
  },
  {
   "cell_type": "code",
   "execution_count": 5,
   "id": "incorrect-employer",
   "metadata": {},
   "outputs": [],
   "source": [
    "light_curve_toi = utils.retur_fits_data(files, infor, f'{raw_tess_path}')"
   ]
  },
  {
   "cell_type": "raw",
   "id": "surface-singing",
   "metadata": {},
   "source": [
    "utils.show_curve(\n",
    "    data=light_curve,\n",
    "    start_stop_tic_id=[0, 5],\n",
    "    featu=['stell_mass', 'stell_radiu'],\n",
    "    highl_injec=False,\n",
    "    highl_cuts=False,\n",
    "    show_signa=False\n",
    ")"
   ]
  },
  {
   "cell_type": "raw",
   "id": "unknown-madrid",
   "metadata": {},
   "source": [
    "utils.show_curve(light_curve, [38425745], ['stell_mass', 'stell_radiu'])"
   ]
  },
  {
   "cell_type": "raw",
   "id": "confirmed-canon",
   "metadata": {},
   "source": [
    "# Save data\n",
    "with open(f'{xom_data_path}raw_data/\\\n",
    "forma_curve-{first_secto}_{last_secto}{comple_set}.pkl','wb') as f:\n",
    "    pkl.dump(light_curve, f)"
   ]
  },
  {
   "cell_type": "raw",
   "id": "occupational-marijuana",
   "metadata": {
    "tags": []
   },
   "source": [
    "# Open data\n",
    "with open(f'{xom_data_path}raw_data/\\\n",
    "forma_curve-{first_secto}_{last_secto}{comple_set}.pkl', 'rb') as f:\n",
    "    light_curve = pkl.load(f)"
   ]
  },
  {
   "cell_type": "markdown",
   "id": "fifth-black",
   "metadata": {},
   "source": [
    "### Mark TOIs, EBs, and Stellar Parameters"
   ]
  },
  {
   "cell_type": "code",
   "execution_count": 6,
   "id": "sharing-grain",
   "metadata": {},
   "outputs": [],
   "source": [
    "# Find TIC ID of all TOIs\n",
    "toi_full = pd.read_csv(f'{tess_metad_path}toi.csv')\n",
    "toi_id = toi_full['TIC ID'].to_numpy()\n",
    "# Mark TOIs in light curve dataset\n",
    "utils.mark_TOI(light_curve_toi, toi_id)\n",
    "# Remove the TOIs\n",
    "light_curve = utils.remov_TOI(light_curve_toi)"
   ]
  },
  {
   "cell_type": "code",
   "execution_count": 7,
   "id": "academic-exercise",
   "metadata": {},
   "outputs": [],
   "source": [
    "TIC8 = pd.read_csv(f'{tess_metad_path}nomi_miss_2min_info.csv')\n",
    "\n",
    "for i in range(len(light_curve)):\n",
    "    TIC_ID = light_curve[i, -1, 1]['tic_id']\n",
    "    # Find current TIC ID in TIC8\n",
    "    star_infor = TIC8[TIC8.tici == TIC_ID]\n",
    "    # Make sure TIC ID is in TIC8\n",
    "    if len(star_infor):\n",
    "        # Gather stellar radius, mass, temperature, and magnitude\n",
    "        if str(star_infor.radistar.iloc[0]) != 'nan':\n",
    "            light_curve[i, -1, 1]['stell_radiu'] = star_infor.radistar.iloc[0]\n",
    "        if str(star_infor.massstar.iloc[0]) != 'nan':\n",
    "            light_curve[i, -1, 1]['stell_mass'] = star_infor.massstar.iloc[0]\n",
    "        if str(star_infor.tmptstar.iloc[0]) != 'nan':\n",
    "            light_curve[i, -1, 1]['stell_effec_tempe'] = \\\n",
    "star_infor.tmptstar.iloc[0]\n",
    "        if str(star_infor.tmag.iloc[0]) != 'nan':\n",
    "            light_curve[i, -1, 1]['stell_magni'] = star_infor.tmag.iloc[0]"
   ]
  },
  {
   "cell_type": "markdown",
   "id": "bridal-hayes",
   "metadata": {},
   "source": [
    "### Injecting"
   ]
  },
  {
   "cell_type": "raw",
   "id": "written-inflation",
   "metadata": {},
   "source": [
    "# Find the most recent file in injec_curve\n",
    "filen = utils.retur_most_recen(f'{xom_data_path}injec_curve/')\n",
    "# filen = 'injec_curve-parti-1637666572.0820127.pkl'\n",
    "print(f'Most recent file: {filen}')\n",
    "\n",
    "# Open semi-injected data\n",
    "with open(f'{xom_data_path}injec_curve/{filen}', 'rb') as f:\n",
    "    light_curve = pkl.load(f)\n",
    "    \n",
    "for i in range(len(light_curve) - 1, -1, -1):\n",
    "    if light_curve[i, -1, 1]['curve_injec']:\n",
    "        last_injec = i\n",
    "        print(f'{i / len(light_curve):.2%} of the data is processed')\n",
    "        break\n",
    "\n",
    "conti_injec = True"
   ]
  },
  {
   "cell_type": "code",
   "execution_count": 8,
   "id": "alive-geometry",
   "metadata": {},
   "outputs": [],
   "source": [
    "# Divide Curve\n",
    "divid = len(light_curve) // 8\n",
    "# Index of planet injections\n",
    "plane_index = range(0, divid)\n",
    "\n",
    "# Find the last injected planmoon curve if continuing an injection\n",
    "# Otherwise, set it equal to the curve after the final planet injection\n",
    "try:\n",
    "    if conti_injec:\n",
    "        pass\n",
    "except:\n",
    "    last_injec = plane_index[-1] + 1\n",
    "    \n",
    "# Index of planet and moon injections\n",
    "plane_moon_index = range(last_injec, 7 * divid)\n",
    "\n",
    "# Find the number the last injection\n",
    "last_injec_numbe = max(plane_index[-1], plane_moon_index[-1]) + 1\n",
    "\n",
    "injec_curve = np.copy(light_curve)\n",
    "# Copy dictionaries\n",
    "for i in range(len(injec_curve)):\n",
    "    injec_curve[i, -1, 1] = injec_curve[i, -1, 1].copy()"
   ]
  },
  {
   "cell_type": "raw",
   "id": "proof-pontiac",
   "metadata": {},
   "source": [
    "%%capture\n",
    "\n",
    "# Inject planets\n",
    "injec_curve[plane_index[0]:plane_index[1]] = utils.injec_curve(\n",
    "    injec_curve[plane_index[0]:plane_index[1]], 1, 0, 'plan')"
   ]
  },
  {
   "cell_type": "raw",
   "id": "competitive-trick",
   "metadata": {},
   "source": [
    "utils.send_task_comple_email('Planets Injected')"
   ]
  },
  {
   "cell_type": "raw",
   "id": "dominant-evolution",
   "metadata": {
    "tags": []
   },
   "source": [
    "def singl_core():\n",
    "#\n",
    "# VARIABLES MUST BE GLOBALLY DEFINED\n",
    "#\n",
    "    anima_path = None\n",
    "    # anima_path = f'{main_path}anima/'\n",
    "    separ_plane_moon = False\n",
    "    reinj = False\n",
    "\n",
    "    # Inject planets and moons\n",
    "    # Save sections of planet moon injections if more than 300 injections\n",
    "    if plane_moon_index[1] - plane_moon_index[0] > 300:\n",
    "        # Create a temporary text file that os can remove, since a\n",
    "        # valid argument must be passed\n",
    "        with open(f'{main_path}tempo.txt', 'w') as f:\n",
    "            f.write('')\n",
    "        filen = f'{main_path}tempo.txt'\n",
    "        for i in range(plane_moon_index[0], plane_moon_index[1], 300):\n",
    "            utils.send_task_comple_email\\\n",
    "(f'{(i - plane_moon_index[0]) / (plane_moon_index[1] - plane_moon_index[0]):.2%} Complete')\n",
    "            plane_moon_injec = utils.injec_curve(injec_curve[i:i + 300], 1, 1,\n",
    "                                                 'planmoon', anima_path=anima_path,\n",
    "                                                 reinj=reinj,\n",
    "                                                 separ_plane_moon=separ_plane_moon)\n",
    "            # Add section to full injec_curve\n",
    "            injec_curve[i:i + 300] = plane_moon_injec\n",
    "            for ii in range(len(injec_curve[i:i + 300])):\n",
    "                # If any curve is injected, add create a new copy\n",
    "                # Created to stop resaving of partially injected data\n",
    "                if not np.all(injec_curve[i + ii, :-1, 1] == light_curve[i + ii, :-1, 1]):\n",
    "                    # Remove previous version\n",
    "                    os.remove(filen)\n",
    "                    # Save new version\n",
    "                    filen = f'{xom_data_path}injec_curve/injec_curve-parti-{int(time.time())}.pkl'\n",
    "                    with open(filen, 'wb') as f:\n",
    "                        pkl.dump(injec_curve, f)\n",
    "                    break\n",
    "        if filen != f'{main_path}tempo.txt':\n",
    "            os.rename(filen, f'{xom_data_path}injec_curve/injec_curve-full-{int(time.time())}.pkl')\n",
    "\n",
    "    else:\n",
    "        injec_curve[plane_moon_index[0]:plane_moon_index[1]] = utils.injec_curve(\n",
    "            injec_curve[plane_moon_index[0]:plane_moon_index[1]], 1, 1, 'planmoon', \n",
    "            anima_path=anima_path, reinj=reinj, separ_plane_moon=separ_plane_moon)\n",
    "\n",
    "    # Remove all injection sections older than two weeks\n",
    "    for injec_files in os.listdir(f'{xom_data_path}injec_curve'):\n",
    "        if time.time() - int(injec_files.split('-')[-1].split('.')[0]) > 1210000:\n",
    "            os.remove(f'{xom_data_path}injec_curve/{injec_files}')"
   ]
  },
  {
   "cell_type": "raw",
   "id": "verified-vehicle",
   "metadata": {},
   "source": [
    "importlib.reload(utils);"
   ]
  },
  {
   "cell_type": "raw",
   "id": "hairy-monitoring",
   "metadata": {},
   "source": [
    "t = np.copy(injec_curve[:8])"
   ]
  },
  {
   "cell_type": "raw",
   "id": "adequate-retail",
   "metadata": {},
   "source": [
    "args = []\n",
    "curve = injec_curve\n",
    "plane_max_numbe = 1\n",
    "moon_max_numbe = 1\n",
    "type_orbit_archi = 'planmoon'\n",
    "separ_plane_moon = False\n",
    "reinj = False\n",
    "anima_path = None\n",
    "for i in range(len(t)):\n",
    "    args.append((t[i], plane_max_numbe, moon_max_numbe, type_orbit_archi, separ_plane_moon, reinj, anima_path))"
   ]
  },
  {
   "cell_type": "code",
   "execution_count": 9,
   "id": "sunset-mineral",
   "metadata": {},
   "outputs": [
    {
     "name": "stdout",
     "output_type": "stream",
     "text": [
      "About 9.8% of the total CPU is in use\n"
     ]
    }
   ],
   "source": [
    "# Check to see the current CPU usage\n",
    "cpu_usage = 0\n",
    "itera = 5000\n",
    "for i in range(itera):\n",
    "    cpu_usage += psutil.cpu_percent()\n",
    "print(f'About {(cpu_usage / itera):.1f}% of the total CPU is in use')"
   ]
  },
  {
   "cell_type": "code",
   "execution_count": 17,
   "id": "interesting-mattress",
   "metadata": {},
   "outputs": [],
   "source": [
    "# Save injections every curve_save_numbe curves\n",
    "curve_save_numbe = 100\n",
    "curve_save_index = [last_injec_numbe]\n",
    "\n",
    "curre_save_index = 0\n",
    "\n",
    "# Just run the whole injection if the number of injected curves\n",
    "# is less than 4 times the minimum save amout\n",
    "if last_injec_numbe < curve_save_numbe * 4:\n",
    "    pass\n",
    "else:\n",
    "    while curre_save_index < last_injec_numbe:\n",
    "        curve_save_index.insert(-1, curre_save_index)\n",
    "        curre_save_index += curve_save_numbe"
   ]
  },
  {
   "cell_type": "code",
   "execution_count": 11,
   "id": "missing-canadian",
   "metadata": {},
   "outputs": [
    {
     "ename": "ValueError",
     "evalue": "cannot copy sequence with size 18 to array axis with dimension 92",
     "output_type": "error",
     "traceback": [
      "\u001b[0;31m---------------------------------------------------------------------------\u001b[0m",
      "\u001b[0;31mValueError\u001b[0m                                Traceback (most recent call last)",
      "\u001b[0;32m<ipython-input-11-56e0cb952281>\u001b[0m in \u001b[0;36m<module>\u001b[0;34m\u001b[0m\n\u001b[1;32m     39\u001b[0m     \u001b[0;32mwith\u001b[0m \u001b[0mmultiprocess\u001b[0m\u001b[0;34m.\u001b[0m\u001b[0mPool\u001b[0m\u001b[0;34m(\u001b[0m\u001b[0mcpu_number\u001b[0m\u001b[0;34m)\u001b[0m \u001b[0;32mas\u001b[0m \u001b[0mpool\u001b[0m\u001b[0;34m:\u001b[0m\u001b[0;34m\u001b[0m\u001b[0;34m\u001b[0m\u001b[0m\n\u001b[1;32m     40\u001b[0m         \u001b[0;32mfor\u001b[0m \u001b[0mi\u001b[0m \u001b[0;32min\u001b[0m \u001b[0mrange\u001b[0m\u001b[0;34m(\u001b[0m\u001b[0mlen\u001b[0m\u001b[0;34m(\u001b[0m\u001b[0mcurve_save_index\u001b[0m\u001b[0;34m)\u001b[0m \u001b[0;34m-\u001b[0m \u001b[0;36m1\u001b[0m\u001b[0;34m)\u001b[0m\u001b[0;34m:\u001b[0m\u001b[0;34m\u001b[0m\u001b[0;34m\u001b[0m\u001b[0m\n\u001b[0;32m---> 41\u001b[0;31m             injec_curve[\n\u001b[0m\u001b[1;32m     42\u001b[0m                 \u001b[0mcurve_save_index\u001b[0m\u001b[0;34m[\u001b[0m\u001b[0mi\u001b[0m\u001b[0;34m]\u001b[0m\u001b[0;34m:\u001b[0m\u001b[0mcurve_save_index\u001b[0m\u001b[0;34m[\u001b[0m\u001b[0mi\u001b[0m \u001b[0;34m+\u001b[0m \u001b[0;36m1\u001b[0m\u001b[0;34m]\u001b[0m\u001b[0;34m]\u001b[0m \u001b[0;34m=\u001b[0m \u001b[0mpool\u001b[0m\u001b[0;34m.\u001b[0m\u001b[0mstarmap\u001b[0m\u001b[0;34m(\u001b[0m\u001b[0;34m\u001b[0m\u001b[0;34m\u001b[0m\u001b[0m\n\u001b[1;32m     43\u001b[0m                     \u001b[0mutils\u001b[0m\u001b[0;34m.\u001b[0m\u001b[0minjec_curve\u001b[0m\u001b[0;34m,\u001b[0m\u001b[0;34m\u001b[0m\u001b[0;34m\u001b[0m\u001b[0m\n",
      "\u001b[0;31mValueError\u001b[0m: cannot copy sequence with size 18 to array axis with dimension 92"
     ]
    }
   ],
   "source": [
    "%%capture\n",
    "\n",
    "# Number of cpus\n",
    "cpu_number = 20\n",
    "\n",
    "# Set up save flag\n",
    "save = False\n",
    "\n",
    "# Planet injection setup\n",
    "plane_max_numbe = 1\n",
    "moon_max_numbe = 0\n",
    "type_orbit_archi = 'plan'\n",
    "\n",
    "injec_argum = []\n",
    "\n",
    "for i in plane_index:\n",
    "    injec_argum.append(\n",
    "        (injec_curve[i], plane_max_numbe, moon_max_numbe, type_orbit_archi))\n",
    "\n",
    "# Planet and moon injection setup\n",
    "plane_max_numbe = 1\n",
    "moon_max_numbe = 1\n",
    "type_orbit_archi = 'planmoon'\n",
    "separ_plane_moon = False\n",
    "reinj = False\n",
    "anima_path = None\n",
    "\n",
    "# Setup initial save file\n",
    "if len(curve_save_index) > 2:\n",
    "    with open(f'{main_path}tempo.txt', 'w') as f:\n",
    "        f.write('')\n",
    "    filen = f'{main_path}tempo.txt'\n",
    "    save = True\n",
    "\n",
    "# Format the arguments for multiprocessing\n",
    "for i in plane_moon_index:\n",
    "    injec_argum.append((injec_curve[i], plane_max_numbe, moon_max_numbe,\n",
    "                        type_orbit_archi, separ_plane_moon, reinj, anima_path))\n",
    "\n",
    "if __name__ == '__main__':\n",
    "    with multiprocess.Pool(cpu_number) as pool:\n",
    "        for i in range(len(curve_save_index) - 1):\n",
    "            injec_curve[\n",
    "                curve_save_index[i]:curve_save_index[i + 1]] = pool.starmap(\n",
    "                    utils.injec_curve,\n",
    "                    injec_argum[curve_save_index[i]:curve_save_index[i + 1]])\n",
    "            if save:\n",
    "                # Remove previous version\n",
    "                os.remove(filen)\n",
    "                # Save new version\n",
    "                filen = f'{xom_data_path}injec_curve/injec_curve-parti-{int(time.time())}.pkl'\n",
    "                with open(filen, 'wb') as f:\n",
    "                    pkl.dump(injec_curve, f)\n",
    "\n",
    "        pool.close()\n",
    "        pool.join()\n",
    "\n",
    "if save:\n",
    "    # Rename the final injected curve\n",
    "    os.rename(\n",
    "        filen,\n",
    "        f'{xom_data_path}injec_curve/injec_curve-full-{int(time.time())}.pkl')\n",
    "\n",
    "injec_curve = np.array(injec_curve)"
   ]
  },
  {
   "cell_type": "code",
   "execution_count": 13,
   "id": "regular-reflection",
   "metadata": {},
   "outputs": [
    {
     "data": {
      "text/plain": [
       "[0, 100, 200, 300, 400, 500, 600, 518]"
      ]
     },
     "execution_count": 13,
     "metadata": {},
     "output_type": "execute_result"
    }
   ],
   "source": [
    "curve_save_index"
   ]
  },
  {
   "cell_type": "raw",
   "id": "continued-voice",
   "metadata": {},
   "source": [
    "# Remove all injection sections older than two weeks\n",
    "for injec_files in os.listdir(f'{xom_data_path}injec_curve'):\n",
    "    if time.time() - int(injec_files.split('-')[-1].split('.')[0]) > 1210000:\n",
    "        os.remove(f'{xom_data_path}injec_curve/{injec_files}')"
   ]
  },
  {
   "cell_type": "code",
   "execution_count": 12,
   "id": "sweet-beaver",
   "metadata": {},
   "outputs": [],
   "source": [
    "utils.send_task_comple_email('Moons and Planets Injected')"
   ]
  },
  {
   "cell_type": "raw",
   "id": "conditional-netscape",
   "metadata": {
    "jupyter": {
     "source_hidden": true
    },
    "tags": []
   },
   "source": [
    "def show_histo(data,\n",
    "               featu,\n",
    "               bins=20,\n",
    "               featu_min=-np.inf,\n",
    "               featu_max=np.inf,\n",
    "               trans_type='plane_moon_cut_injec',\n",
    "               ignor_strin_none=True,\n",
    "               save_figur_path='',\n",
    "               save_figur_as='.pdf',\n",
    "               line_histo_chara={'histtype': 'step', 'color': 'mediumblue'},\n",
    "               backg_histo_chara={'alpha': 0.3, 'color': 'mediumblue'},\n",
    "               bar_graph_chara={'color':['red', 'blue', 'brown']},\n",
    "               figur_chara={'figsize': [15, 5]},\n",
    "               title_chara={'size': 16},\n",
    "               x_chara={'size': 14},\n",
    "               y_chara={'size': 14}):\n",
    "\n",
    "    featu_data = []\n",
    "    quant = None\n",
    "    for i in range(len(data)):\n",
    "        curre_data = data[i, -1, 1][featu]\n",
    "        if curre_data is not None:\n",
    "            if isinstance(curre_data, (int, float)):\n",
    "                featu_data.append(curre_data)\n",
    "                quant = True\n",
    "            elif isinstance(curre_data, (str)):\n",
    "                featu_data = bin_data(data, featu, bins, False, ignor_strin_none)\n",
    "                quant = False\n",
    "            else:\n",
    "                raise TypeError(f'Feature must be an int, float, or a string. Currently \\\n",
    "{type(curre_data)}.')\n",
    "      \n",
    "    plt.figure(**figur_chara)\n",
    "    plt.xlabel(f'{forma_names[featu]}', **x_chara)\n",
    "    plt.ylabel(f'Occurences', **y_chara)\n",
    "    \n",
    "    if quant:\n",
    "        plt.hist(featu_data, bins, **line_histo_chara)\n",
    "        plt.hist(featu_data, bins, **backg_histo_chara)\n",
    "        plt.title(f'Histogram of {forma_names[featu].split(\" [\")[0]}', **title_chara)\n",
    "        if save_figur_path:\n",
    "            filen = f'{save_figur_path}histo-{featu}-{int(time.time())}'\n",
    "            plt.savefig(f'{filen}{save_figur_as}')\n",
    "    else:\n",
    "        heigh = []\n",
    "        for i in range(len(featu_data)):\n",
    "            heigh.append(len(featu_data[i]))\n",
    "        plt.bar(featu_data[:, 0], heigh, **bar_graph_chara)\n",
    "        plt.title(f'Bar Graph of {forma_names[featu].split(\" [\")[0]}', **title_chara)\n",
    "        if save_figur_path:\n",
    "            filen = f'{save_figur_path}bar-{featu}-{int(time.time())}'\n",
    "            plt.savefig(f'{filen}{save_figur_as}')\n",
    "    plt.show()       "
   ]
  },
  {
   "cell_type": "raw",
   "id": "optional-glenn",
   "metadata": {},
   "source": [
    "show_histo(injec_curve, 'plane_densi', 20)#, save_figur_path='/home/rfradkin/xom/graph/bar_histo/')"
   ]
  },
  {
   "cell_type": "raw",
   "id": "parliamentary-submission",
   "metadata": {},
   "source": [
    "injec_curve[0, -1, 1]"
   ]
  },
  {
   "cell_type": "raw",
   "id": "caroline-helicopter",
   "metadata": {},
   "source": [
    "utils.show_curve(injec_curve, [0, 10], ['moon_numbe'])"
   ]
  },
  {
   "cell_type": "raw",
   "id": "common-offering",
   "metadata": {},
   "source": [
    "utils.show_curve(\n",
    "    data=injec_curve,\n",
    "    start_stop_tic_id=[0, 30],\n",
    "    featu=['ratio_plane_stell_radiu', 'ratio_moon_stell_radiu', 'ratio_moon_plane_radiu'],\n",
    "    highl_injec=True,\n",
    "    highl_cuts=False,\n",
    "    show_signa=False,\n",
    ")"
   ]
  },
  {
   "cell_type": "raw",
   "id": "heavy-marine",
   "metadata": {},
   "source": [
    "utils.show_curve(\n",
    "    data=injec_curve,\n",
    "    start_stop_tic_id=[0, 5],\n",
    "    featu=['stell_mass', 'stell_radiu'],\n",
    "    highl_injec=False,\n",
    "    highl_cuts=False,\n",
    "    show_signa=True,\n",
    ")"
   ]
  },
  {
   "cell_type": "markdown",
   "id": "later-target",
   "metadata": {},
   "source": [
    "### Detrending"
   ]
  },
  {
   "cell_type": "raw",
   "id": "polish-handling",
   "metadata": {},
   "source": [
    "%%capture\n",
    "\n",
    "detre_curve = np.copy(injec_curve)\n",
    "# Copy dictionaries\n",
    "for i in range(len(detre_curve)):\n",
    "    detre_curve[i, -1, 1] = detre_curve[i, -1, 1].copy()\n",
    "\n",
    "detre_scale = 0.4\n",
    "detre_type = 'spln'\n",
    "\n",
    "for i in range(len(injec_curve)):\n",
    "    curre_detre = ephesus.bdtr_tser(\n",
    "        time=injec_curve[i, utils.find_start(injec_curve[i]):-1,\n",
    "                         0].astype(float),\n",
    "        lcur=injec_curve[i, utils.find_start(injec_curve[i]):-1,\n",
    "                         1].astype(float),\n",
    "        typebdtr=detre_type,\n",
    "        timescalbdtrspln=detre_scale,\n",
    "    )[0]\n",
    "    full_detre = curre_detre[0]\n",
    "    # Take detrended chunks and turn them into one curve\n",
    "    for j in range(1, len(curre_detre)):\n",
    "        full_detre = np.concatenate((full_detre, curre_detre[j]))\n",
    "\n",
    "    detre_curve[i, utils.find_start(injec_curve[i]):-1, 1] = full_detre\n",
    "    # Set feature values\n",
    "    detre_curve[i, -1, 1]['curve_type'] = 'Detrended Curve'\n",
    "    detre_curve[i, -1, 1]['detre_time_scale'] = detre_scale\n",
    "    detre_curve[i, -1, 1]['detre_type'] = detre_type"
   ]
  },
  {
   "cell_type": "raw",
   "id": "automated-conflict",
   "metadata": {},
   "source": [
    "utils.show_curve(\n",
    "    data=detre_curve,\n",
    "    start_stop_tic_id=[0, 5],\n",
    "    featu=['stell_mass', 'stell_radiu'],\n",
    "    highl_injec=False,\n",
    "    highl_cuts=False,\n",
    "    show_signa=False,\n",
    ")"
   ]
  },
  {
   "cell_type": "markdown",
   "id": "outstanding-egypt",
   "metadata": {},
   "source": [
    "### Cutting, Interpolating, and Padding"
   ]
  },
  {
   "cell_type": "code",
   "execution_count": null,
   "id": "basic-population",
   "metadata": {},
   "outputs": [],
   "source": [
    "# If detrending is not to be used\n",
    "detre_curve = np.copy(injec_curve)\n",
    "for i in range(len(detre_curve)):\n",
    "    detre_curve[i, -1, 1] = detre_curve[i, -1, 1].copy()"
   ]
  },
  {
   "cell_type": "code",
   "execution_count": null,
   "id": "vulnerable-power",
   "metadata": {},
   "outputs": [],
   "source": [
    "stand_lengt = 1901\n",
    "min_lengt = 600\n",
    "max_time_gap = 10  # mins\n",
    "caden = 2  # mins\n",
    "spln_type = 'cubic'\n",
    "\n",
    "list_cuts = []\n",
    "for i in range(len(detre_curve)):\n",
    "    pre_cut = np.copy(detre_curve[i])\n",
    "    pre_cut[-1, 1] = pre_cut[-1, 1].copy()\n",
    "    # Insert 'inter_spot' for later interpolation\n",
    "    pre_cut = utils.inser_inter_spot(pre_cut, max_time_gap, caden)\n",
    "    # Cut curve and assign cut times to the detrended curve\n",
    "    pre_cut = utils.cut_curve(pre_cut, max_time_gap, min_lengt, stand_lengt)\n",
    "    # Cut number\n",
    "    cut_numbe = 0\n",
    "    # Find used cut times\n",
    "    cut_times = []\n",
    "    for curre_cut in pre_cut:\n",
    "        # Remove all cuts of only [0,0]\n",
    "        if curre_cut[-2, 0]: \n",
    "            # Interpolate each cut\n",
    "            cut = utils.inter_curve(curre_cut, spln_type)\n",
    "            # Assign feature values\n",
    "            cut[-1, 1]['plane_moon_cut_injec'] = False\n",
    "            cut[-1, 1]['plane_cut_injec'] = False\n",
    "            if cut[-1, 1]['type_orbit_archi'] == 'planmoon':\n",
    "                cut[-1, 1]['plane_moon_cut_injec'] = utils.retur_curve_injec_statu(cut)\n",
    "            elif cut[-1, 1]['type_orbit_archi'] == 'plan':\n",
    "                cut[-1, 1]['plane_cut_injec'] = utils.retur_curve_injec_statu(cut)\n",
    "            cut[-1, 1]['cut_trans'] = cut[-1, 1]['plane_moon_cut_injec'] or cut[-1, 1]['plane_cut_injec']\n",
    "            cut[-1, 1]['cut_numbe'] = cut_numbe\n",
    "            cut[-1, 1]['inter_type'] = spln_type\n",
    "            # Assign cut to list containing the rest of the cuts\n",
    "            list_cuts.append(cut.tolist())\n",
    "            # Increase cut number\n",
    "            cut_numbe += 1\n",
    "            cut_times.append([cut[utils.find_start(cut), 0], cut[-2, 0]])\n",
    "    # Assign cut times to the corresponding light, injected, and detrended curve\n",
    "    light_curve[i, -1, 1]['cut_times'] = cut_times\n",
    "    injec_curve[i, -1, 1]['cut_times'] = cut_times\n",
    "    detre_curve[i, -1, 1]['cut_times'] = cut_times\n",
    "    \n",
    "padde_cuts = tf.keras.preprocessing.sequence.pad_sequences(list_cuts,\n",
    "                                                           maxlen=stand_lengt,\n",
    "                                                           dtype=object)"
   ]
  },
  {
   "cell_type": "raw",
   "id": "aggregate-louis",
   "metadata": {},
   "source": [
    "utils.show_curve(\n",
    "    data=detre_curve,\n",
    "    start_stop_tic_id=[0, 5],\n",
    "    featu=['curve_injec', 'cut_trans'],\n",
    "    highl_injec=True,\n",
    "    highl_cuts=True,\n",
    "    show_signa=False,\n",
    ")"
   ]
  },
  {
   "cell_type": "raw",
   "id": "alike-firmware",
   "metadata": {},
   "source": [
    "utils.show_curve(\n",
    "    data=padde_cuts,\n",
    "    start_stop_tic_id=[100, 190],\n",
    "    featu=['curve_injec', 'cut_trans'],\n",
    "    highl_injec=True,\n",
    "    highl_cuts=False,\n",
    "    show_signa=False,\n",
    ")"
   ]
  },
  {
   "cell_type": "code",
   "execution_count": null,
   "id": "computational-tractor",
   "metadata": {},
   "outputs": [],
   "source": [
    "# Save data\n",
    "detre_status = 'detre-' if padde_cuts[0, -1,\n",
    "                                     1]['detre_time_scale'] else 'not_detre-'\n",
    "print(f'Detrended Status: {detre_status[:-1]}')\n",
    "padde_cuts_path = f'{xom_data_path}padde_cuts/padde_cuts-\\\n",
    "{detre_status}{from_secto}_{to_secto}{compl_set}-{int(time.time())}.pkl'\n",
    "with open(padde_cuts_path, 'wb') as f:\n",
    "    pkl.dump(padde_cuts, f)\n",
    "print(f'Padded Cuts Path: {padde_cuts_path}')"
   ]
  },
  {
   "cell_type": "code",
   "execution_count": null,
   "id": "innovative-applicant",
   "metadata": {},
   "outputs": [],
   "source": [
    "utils.send_task_comple_email('Injection and Cutting')"
   ]
  },
  {
   "cell_type": "markdown",
   "id": "biological-nevada",
   "metadata": {},
   "source": [
    "### Formatting"
   ]
  },
  {
   "cell_type": "code",
   "execution_count": 29,
   "id": "homeless-diameter",
   "metadata": {},
   "outputs": [
    {
     "name": "stdout",
     "output_type": "stream",
     "text": [
      "# %%capture\n",
      "\n",
      "# Number of cpus\n",
      "cpu_number = 5\n",
      "\n",
      "# Set up save flag\n",
      "save = False\n",
      "\n",
      "# Planet injection setup\n",
      "plane_max_numbe = 1\n",
      "moon_max_numbe = 0\n",
      "type_orbit_archi = 'plan'\n",
      "\n",
      "injec_argum = []\n",
      "\n",
      "for i in plane_index:\n",
      "    injec_argum.append(\n",
      "        (injec_curve[i], plane_max_numbe, moon_max_numbe, type_orbit_archi))\n",
      "\n",
      "# Planet and moon injection setup\n",
      "plane_max_numbe = 1\n",
      "moon_max_numbe = 1\n",
      "type_orbit_archi = 'planmoon'\n",
      "separ_plane_moon = False\n",
      "reinj = False\n",
      "anima_path = None\n",
      "\n",
      "# Setup initial save file\n",
      "if len(curve_save_index) > 2:\n",
      "    with open(f'{main_path}tempo.txt', 'w') as f:\n",
      "        f.write('')\n",
      "    filen = f'{main_path}tempo.txt'\n",
      "    save = True\n",
      "\n",
      "# Format the arguments for multiprocessing\n",
      "for i in plane_moon_index:\n",
      "    injec_argum.append((injec_curve[i], plane_max_numbe, moon_max_numbe,\n",
      "                        type_orbit_archi, separ_plane_moon, reinj, anima_path))\n",
      "\n",
      "if __name__ == '__main__':\n",
      "    with multiprocess.Pool(cpu_number) as pool:\n",
      "        for i in range(len(curve_save_index) - 1):\n",
      "            injec_curve[\n",
      "                curve_save_index[i]:curve_save_index[i + 1]] = pool.starmap(\n",
      "                    utils.injec_curve,\n",
      "                    injec_argum[curve_save_index[i]:curve_save_index[i + 1]])\n",
      "            if save:\n",
      "                # Remove previous version\n",
      "                os.remove(filen)\n",
      "                # Save new version\n",
      "                filen = f'{xom_data_path}injec_curve/injec_curve-parti-{int(time.time())}.pkl'\n",
      "                with open(filen, 'wb') as f:\n",
      "                    pkl.dump(injec_curve, f)\n",
      "\n",
      "        pool.close()\n",
      "        pool.join()\n",
      "\n",
      "if save:\n",
      "    # Rename the final injected curve\n",
      "    os.rename(\n",
      "        filen,\n",
      "        f'{xom_data_path}injec_curve/injec_curve-full-{int(time.time())}.pkl')\n",
      "\n",
      "injec_curve = np.array(injec_curve)\n",
      "\n"
     ]
    }
   ],
   "source": [
    "forma = \\\n",
    "'''\n",
    "# %%capture\n",
    "\n",
    "# Number of cpus\n",
    "cpu_number = 5\n",
    "\n",
    "# Set up save flag\n",
    "save = False\n",
    "\n",
    "# Planet injection setup\n",
    "plane_max_numbe = 1\n",
    "moon_max_numbe = 0\n",
    "type_orbit_archi = 'plan'\n",
    "\n",
    "injec_argum = []\n",
    "\n",
    "for i in plane_index:\n",
    "    injec_argum.append((injec_curve[i], plane_max_numbe, moon_max_numbe, type_orbit_archi))\n",
    "\n",
    "# Planet and moon injection setup\n",
    "plane_max_numbe = 1\n",
    "moon_max_numbe = 1\n",
    "type_orbit_archi = 'planmoon'\n",
    "separ_plane_moon = False\n",
    "reinj = False\n",
    "anima_path = None\n",
    "    \n",
    "# Setup initial save file\n",
    "if len(curve_save_index) > 2:\n",
    "    with open(f'{main_path}tempo.txt', 'w') as f:\n",
    "        f.write('')\n",
    "    filen = f'{main_path}tempo.txt'\n",
    "    save = True\n",
    "\n",
    "# Format the arguments for multiprocessing\n",
    "for i in plane_moon_index:\n",
    "    injec_argum.append((injec_curve[i], plane_max_numbe, moon_max_numbe, type_orbit_archi, separ_plane_moon, reinj, anima_path))\n",
    "\n",
    "if __name__=='__main__':\n",
    "    with multiprocess.Pool(cpu_number) as pool:\n",
    "        for i in range(len(curve_save_index) - 1):\n",
    "            injec_curve[curve_save_index[i]: curve_save_index[i+1]] = pool.starmap(utils.injec_curve, injec_argum[curve_save_index[i]: curve_save_index[i+1]])\n",
    "            if save:\n",
    "                # Remove previous version\n",
    "                os.remove(filen)\n",
    "                # Save new version\n",
    "                filen = f'{xom_data_path}injec_curve/injec_curve-parti-{int(time.time())}.pkl'\n",
    "                with open(filen, 'wb') as f:\n",
    "                    pkl.dump(injec_curve, f)\n",
    "                \n",
    "        pool.close()\n",
    "        pool.join()\n",
    "        \n",
    "if save:\n",
    "    # Rename the final injected curve\n",
    "    os.rename(filen, f'{xom_data_path}injec_curve/injec_curve-full-{int(time.time())}.pkl')\n",
    "        \n",
    "injec_curve = np.array(injec_curve)\n",
    "'''\n",
    "forma_done = FormatCode(forma, style_config='PEP8')\n",
    "print(forma_done[0])"
   ]
  },
  {
   "cell_type": "code",
   "execution_count": null,
   "id": "superb-hindu",
   "metadata": {},
   "outputs": [],
   "source": []
  }
 ],
 "metadata": {
  "kernelspec": {
   "display_name": "Python 3",
   "language": "python",
   "name": "python3"
  },
  "language_info": {
   "codemirror_mode": {
    "name": "ipython",
    "version": 3
   },
   "file_extension": ".py",
   "mimetype": "text/x-python",
   "name": "python",
   "nbconvert_exporter": "python",
   "pygments_lexer": "ipython3",
   "version": "3.9.2"
  }
 },
 "nbformat": 4,
 "nbformat_minor": 5
}
