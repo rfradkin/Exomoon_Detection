{
 "cells": [
  {
   "cell_type": "raw",
   "metadata": {},
   "source": [
    "Formatting Guide:\n",
    "- Use yapf for PEP8 style guide (FormatCode())\n",
    "- Use blank lines sparingly, shows change in logic/focus\n",
    "- Variable names should be the first five letters of the description\n",
    "- Comment Code Accordingly\n",
    "- Anything with ### above and below needs to be updated\n",
    "\n",
    "Other Notes:\n",
    "- Fix logging function\n",
    "- Add feature to dictionary specifying whether the cut contains a transit of any kind, to be used with graphing functions where transit type matters, also simplifys otther shit"
   ]
  },
  {
   "cell_type": "code",
   "execution_count": 22,
   "metadata": {},
   "outputs": [],
   "source": [
    "# Standard libraries\n",
    "import sys\n",
    "import math\n",
    "import random\n",
    "import time\n",
    "import os\n",
    "\n",
    "# Third-party imports\n",
    "import numpy as np\n",
    "import pandas as pd\n",
    "import pickle as pkl\n",
    "\n",
    "import matplotlib.pyplot as plt\n",
    "\n",
    "import tensorflow as tf\n",
    "from tensorflow import keras\n",
    "from tensorflow.keras import layers\n",
    "\n",
    "import csv\n",
    "\n",
    "import importlib\n",
    "from yapf.yapflib.yapf_api import FormatCode\n",
    "\n",
    "# Project imports\n",
    "import ephesus\n",
    "import utils\n",
    "from const import *"
   ]
  },
  {
   "cell_type": "code",
   "execution_count": 24,
   "metadata": {},
   "outputs": [],
   "source": [
    "# Verbosity\n",
    "# 0 = off\n",
    "# 1 is ending\n",
    "# 2 is phases\n",
    "# 3 is percent injection\n",
    "verbo = 1"
   ]
  },
  {
   "cell_type": "markdown",
   "metadata": {},
   "source": [
    "### GPU Setup"
   ]
  },
  {
   "cell_type": "raw",
   "metadata": {},
   "source": [
    "GPUtil.showUtilization()"
   ]
  },
  {
   "cell_type": "raw",
   "metadata": {},
   "source": [
    "# Only CPU\n",
    "os.environ[\"CUDA_DEVICE_ORDER\"] = \"PCI_BUS_ID\" \n",
    "os.environ[\"CUDA_VISIBLE_DEVICES\"] = \"\""
   ]
  },
  {
   "cell_type": "code",
   "execution_count": 15,
   "metadata": {},
   "outputs": [
    {
     "name": "stdout",
     "output_type": "stream",
     "text": [
      "WARNING:tensorflow:NCCL is not supported when using virtual GPUs, fallingback to reduction to one device\n",
      "WARNING:tensorflow:Collective ops is not configured at program startup. Some performance features may not be enabled.\n",
      "INFO:tensorflow:Using MirroredStrategy with devices ('/job:localhost/replica:0/task:0/device:GPU:0',)\n"
     ]
    }
   ],
   "source": [
    "# Specific GPUs\n",
    "gpus = tf.config.experimental.list_physical_devices('GPU')\n",
    "tf.config.set_visible_devices(gpus[3:4], 'GPU')\n",
    "mirro_strat = tf.distribute.MirroredStrategy()"
   ]
  },
  {
   "cell_type": "raw",
   "metadata": {},
   "source": [
    "# All GPUs\n",
    "gpus = tf.config.experimental.list_physical_devices('GPU')\n",
    "if gpus:\n",
    "    try:\n",
    "        for gpu in gpus:\n",
    "            tf.config.experimental.set_memory_growth(gpu, True)\n",
    "\n",
    "    except RuntimeError as e:\n",
    "        print(e)\n",
    "mirro_strat = tf.distribute.MirroredStrategy()"
   ]
  },
  {
   "cell_type": "markdown",
   "metadata": {},
   "source": [
    "### Predictions"
   ]
  },
  {
   "cell_type": "code",
   "execution_count": 16,
   "metadata": {},
   "outputs": [
    {
     "name": "stdout",
     "output_type": "stream",
     "text": [
      "WARNING:tensorflow:Error in loading the saved optimizer state. As a result, your model is starting with a freshly initialized optimizer.\n"
     ]
    }
   ],
   "source": [
    "# Mask the data\n",
    "masking = layers.Masking(mask_value=0., input_shape = (1900, 1))\n",
    "\n",
    "model_file = f'combi-padde_cuts-1255247-1644454393.pkl-0-1645790147.h5'\n",
    "model = tf.keras.models.load_model(f'{xom_data_path}plane_moon_model/{model_file}');\n",
    "\n",
    "# Create a prediction csv filename\n",
    "predi_log_name = f'{model_file}-{int(time.time())}.csv'"
   ]
  },
  {
   "cell_type": "code",
   "execution_count": 26,
   "metadata": {},
   "outputs": [],
   "source": [
    "for curre_secto in range(1, 27):\n",
    "    \n",
    "    predi_data = []\n",
    "    # Data Preprocessing\n",
    "    # Find the most recent file in injec_curve\n",
    "    datas = f'forma_curve-{curre_secto}.pkl'\n",
    "    # CHANGE TO JUST UNDERSCORE\n",
    "\n",
    "    with open(f'{xom_data_path}forma_raw_curve/{datas}','rb') as f:\n",
    "        raw_x_data = pkl.load(f)\n",
    "        \n",
    "    # Normalize the data from 0 to 1\n",
    "    x_data = np.copy(raw_x_data[:, :-1, 1].astype(float))\n",
    "\n",
    "    for i in range(len(x_data)):\n",
    "        chang_slots = np.where(x_data[i] != 0)[0]\n",
    "        x_data[i, chang_slots] = utils.norma_data(x_data[i, chang_slots])\n",
    "\n",
    "    x_data = np.expand_dims(x_data, 2)\n",
    "\n",
    "    # Make predictions\n",
    "    predi = model.predict(x_data).squeeze()\n",
    "\n",
    "    for i in range(len(raw_x_data)):\n",
    "        predi_data.append([predi[i], raw_x_data[i, -1, 1]['tic_id'], raw_x_data[i, -1, 1]['cut_numbe'], \\\n",
    "raw_x_data[i, -1, 1]['toi'], raw_x_data[i, -1, 1]['file_name']])\n",
    "        \n",
    "    with open(f'{xom_data_path}predi_logs/{predi_log_name}','a') as f:\n",
    "        write = csv.writer(f)\n",
    "        write.writerows(predi_data)\n",
    "        \n",
    "    if verbo >= 1:\n",
    "        utils.send_task_comple_email(f'Predicting Complete -- Sector {curre_secto}') "
   ]
  },
  {
   "cell_type": "code",
   "execution_count": 38,
   "metadata": {},
   "outputs": [],
   "source": [
    "# Order by index and resave csv\n",
    "sorte_csv = pd.read_csv(f'{xom_data_path}predi_logs/{predi_log_name}', \n",
    "                 names=['predi', 'tic_id', 'cut_numbe', 'toi', 'file_name'])\n",
    "\n",
    "sorte_csv.sort_values('predi', ascending=False, inplace=True)\n",
    "sorte_csv.set_index('predi', inplace=True)\n",
    "sorte_csv.to_csv(f'{xom_data_path}predi_logs/{predi_log_name}')"
   ]
  },
  {
   "cell_type": "markdown",
   "metadata": {},
   "source": [
    "#### Formatting"
   ]
  },
  {
   "cell_type": "raw",
   "metadata": {},
   "source": [
    "forma = \\\n",
    "'''\n",
    "def show_featu_preci_recal(data,\n",
    "                           predi,\n",
    "                           y_data,\n",
    "                           cutof,\n",
    "                           featu=None,\n",
    "                           bins=20,\n",
    "                           equal_width_bins=True,\n",
    "                           stand_axis=True,\n",
    "                           trans_type='plane_moon_cut_injec',\n",
    "                           save_figur_path='',\n",
    "                           figur_chara={'figsize': [15, 5]},\n",
    "                           title_chara={'size':16},\n",
    "                           x_chara={'size':14},\n",
    "                           y_left_chara={'c':'blue', 'size':14},\n",
    "                           y_right_chara={'c':'green', 'size':14},\n",
    "                           legen_left_chara={'loc':'upper left'},\n",
    "                           legen_right_chara={'loc':'upper right'}):\n",
    "\n",
    "    # Plot standard precision and recall curve\n",
    "    if featu is None or featu == 'predi' or data is None:\n",
    "        show_preci_recal(predi, y_data, cutof, save_figur_path, width, heigh)\n",
    "    # Plot precision and recall as a function of a numerical feature\n",
    "    else:\n",
    "        binne_data = utils.bin_data(data, featu, bins, equal_width_bins)\n",
    "        preci = []\n",
    "        recal = []\n",
    "        previ_infor_lengt = 0\n",
    "        for i in range(len(binne_data)):\n",
    "            tp = 0\n",
    "            fp = 0\n",
    "            fn = 0\n",
    "            for ii in range(len(binne_data[i])):\n",
    "                # Keep track of true positives, false positives, and false negatives\n",
    "                tp += data[binne_data[i][ii][0].astype(int), -1, 1][trans_type] and \\\n",
    "predi[previ_infor_lengt + ii] > cutof\n",
    "                fp += not data[\n",
    "                    binne_data[i][ii][0].astype(int), -1,\n",
    "                    1][trans_type] and predi[previ_infor_lengt +\n",
    "                                             ii] > cutof\n",
    "                fn += data[binne_data[i][ii][0].astype(int), -1,\n",
    "                                        1][trans_type] and not predi[\n",
    "                                            previ_infor_lengt + ii] > cutof\n",
    "            # If divide by 0, ignore\n",
    "            try:\n",
    "                if tp or fp:\n",
    "                    # Calculate precision\n",
    "                    preci.append([np.mean(binne_data[i][:, 1]), tp / (tp + fp)])\n",
    "            except:\n",
    "                pass\n",
    "            try:\n",
    "                if tp or fn:\n",
    "                    # Calculate the recall\n",
    "                    recal.append([np.mean(binne_data[i][:, 1]), tp / (tp + fn)])\n",
    "            except:\n",
    "                pass\n",
    "            previ_infor_lengt += len(binne_data[i])\n",
    "        # Convert precision and recall from lists to numpy arrays\n",
    "        preci = np.array(preci)\n",
    "        recal = np.array(recal)\n",
    "        # Create a plot\n",
    "        figur, axes1 = plt.subplots(1, 1, **figur_chara)\n",
    "        axes2 = axes1.twinx()\n",
    "\n",
    "\n",
    "        axes1.plot(preci[:, 0],\n",
    "                   preci[:, 1],\n",
    "                   c=y_left_chara['c'])\n",
    "        axes2.plot(recal[:, 0],\n",
    "                   recal[:, 1],\n",
    "                   c=y_right_chara['c'])\n",
    "        \n",
    "        # Standardize the axis values from 0 to 1\n",
    "        if stand_axis:\n",
    "            axes1.set_ylim([0, 1])\n",
    "            axes2.set_ylim([0, 1])\n",
    "\n",
    "        # Set labels\n",
    "        axes1.set_ylabel('Precision', **y_left_chara)\n",
    "        axes2.set_ylabel('Recall', **y_right_chara)\n",
    "#         axes1.legend(**legen_left_chara)\n",
    "#         axes2.legend(**legen_right_chara)\n",
    "        axes1.set_xlabel(f'{data[0, -1, 1][\"forma_names\"][featu]}',\n",
    "                         **x_chara)\n",
    "        # Remove units from title\n",
    "        axes1.set_title(\n",
    "            f'Precision and Recall as a Function of {data[0, -1, 1][\"forma_names\"][featu].split(\" [\")[0]}',\n",
    "            **title_chara)\n",
    "\n",
    "        figur.tight_layout()\n",
    "        if save_figur_path:\n",
    "            plt.savefig(f'{save_figur_path}pr_curve-{float(time.time())}.pdf')\n",
    "        figur.show()\n",
    "'''\n",
    "forma_done = FormatCode(forma, style_config='PEP8')\n",
    "print(forma_done[0])"
   ]
  },
  {
   "cell_type": "code",
   "execution_count": null,
   "metadata": {},
   "outputs": [],
   "source": []
  }
 ],
 "metadata": {
  "accelerator": "TPU",
  "colab": {
   "collapsed_sections": [],
   "name": "RNN_V2.ipynb",
   "provenance": []
  },
  "kernelspec": {
   "display_name": "Python 3",
   "language": "python",
   "name": "python3"
  },
  "language_info": {
   "codemirror_mode": {
    "name": "ipython",
    "version": 3
   },
   "file_extension": ".py",
   "mimetype": "text/x-python",
   "name": "python",
   "nbconvert_exporter": "python",
   "pygments_lexer": "ipython3",
   "version": "3.9.2"
  }
 },
 "nbformat": 4,
 "nbformat_minor": 4
}
