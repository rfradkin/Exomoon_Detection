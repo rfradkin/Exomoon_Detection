{
 "cells": [
  {
   "cell_type": "raw",
   "metadata": {},
   "source": [
    "Formatting Guide:\n",
    "- Use yapf for PEP8 style guide (FormatCode())\n",
    "- Use blank lines sparingly, shows change in logic/focus\n",
    "- Variable names should be the first five letters of the description\n",
    "- Comment Code Accordingly\n",
    "- Anything with ### above and below needs to be updated\n",
    "\n",
    "Other Notes:\n"
   ]
  },
  {
   "cell_type": "code",
   "execution_count": 1,
   "metadata": {},
   "outputs": [],
   "source": [
    "# Standard libraries\n",
    "import sys\n",
    "import math\n",
    "import random\n",
    "import time\n",
    "import os\n",
    "\n",
    "# Third-party imports\n",
    "import numpy as np\n",
    "import pandas as pd\n",
    "import pickle as pkl\n",
    "import json\n",
    "\n",
    "import matplotlib.pyplot as plt\n",
    "\n",
    "import tensorflow as tf\n",
    "from tensorflow import keras\n",
    "from tensorflow.keras import layers\n",
    "\n",
    "from tensorflow.keras.callbacks import TensorBoard, EarlyStopping, ModelCheckpoint\n",
    "\n",
    "import keras_tuner as kt\n",
    "\n",
    "import importlib\n",
    "from yapf.yapflib.yapf_api import FormatCode\n",
    "import GPUtil\n",
    "\n",
    "# Project imports\n",
    "import ephesus\n",
    "import utils\n",
    "from const import *"
   ]
  },
  {
   "cell_type": "markdown",
   "metadata": {},
   "source": [
    "#### GPU Setup"
   ]
  },
  {
   "cell_type": "raw",
   "metadata": {},
   "source": [
    "GPUtil.showUtilization()"
   ]
  },
  {
   "cell_type": "code",
   "execution_count": 2,
   "metadata": {},
   "outputs": [
    {
     "name": "stdout",
     "output_type": "stream",
     "text": [
      "WARNING:tensorflow:NCCL is not supported when using virtual GPUs, fallingback to reduction to one device\n",
      "INFO:tensorflow:Using MirroredStrategy with devices ('/job:localhost/replica:0/task:0/device:GPU:0', '/job:localhost/replica:0/task:0/device:GPU:1')\n"
     ]
    }
   ],
   "source": [
    "# Specific GPUs\n",
    "desir_gpus = [1,2]\n",
    "gpus = tf.config.experimental.list_physical_devices('GPU')\n",
    "tf.config.set_visible_devices([gpus[i] for i in desir_gpus], 'GPU')\n",
    "for gpu in gpus:\n",
    "    tf.config.experimental.set_memory_growth(gpu, True)\n",
    "mirro_strat = tf.distribute.MirroredStrategy()"
   ]
  },
  {
   "cell_type": "markdown",
   "metadata": {},
   "source": [
    "#### Data Preprocessing"
   ]
  },
  {
   "cell_type": "code",
   "execution_count": 8,
   "metadata": {
    "id": "oJZltv7qiPYr"
   },
   "outputs": [
    {
     "ename": "NameError",
     "evalue": "name 'uti3s' is not defined",
     "output_type": "error",
     "traceback": [
      "\u001b[0;31m---------------------------------------------------------------------------\u001b[0m",
      "\u001b[0;31mNameError\u001b[0m                                 Traceback (most recent call last)",
      "\u001b[0;32m<ipython-input-8-fbc71c9851db>\u001b[0m in \u001b[0;36m<module>\u001b[0;34m\u001b[0m\n\u001b[1;32m      1\u001b[0m \u001b[0;31m# Find the most recent file in injec_curve\u001b[0m\u001b[0;34m\u001b[0m\u001b[0;34m\u001b[0m\u001b[0;34m\u001b[0m\u001b[0m\n\u001b[0;32m----> 2\u001b[0;31m \u001b[0mdatas\u001b[0m \u001b[0;34m=\u001b[0m \u001b[0muti3s\u001b[0m\u001b[0;34m.\u001b[0m\u001b[0mretur_most_recen\u001b[0m\u001b[0;34m(\u001b[0m\u001b[0;34mf'{xom_data_path}padde_cuts/'\u001b[0m\u001b[0;34m)\u001b[0m\u001b[0;34m\u001b[0m\u001b[0;34m\u001b[0m\u001b[0m\n\u001b[0m\u001b[1;32m      3\u001b[0m \u001b[0;31m# datas = 'padde_cuts-34745-2850-6998.pkl'\u001b[0m\u001b[0;34m\u001b[0m\u001b[0;34m\u001b[0m\u001b[0;34m\u001b[0m\u001b[0m\n\u001b[1;32m      4\u001b[0m \u001b[0mprint\u001b[0m\u001b[0;34m(\u001b[0m\u001b[0;34mf'Most recent file: {datas}'\u001b[0m\u001b[0;34m)\u001b[0m\u001b[0;34m\u001b[0m\u001b[0;34m\u001b[0m\u001b[0m\n\u001b[1;32m      5\u001b[0m \u001b[0;34m\u001b[0m\u001b[0m\n",
      "\u001b[0;31mNameError\u001b[0m: name 'uti3s' is not defined"
     ]
    }
   ],
   "source": [
    "# Find the most recent file in injec_curve\n",
    "datas = utils.retur_most_recen(f'{xom_data_path}padde_cuts/')\n",
    "# datas = 'padde_cuts-34745-2850-6998.pkl'\n",
    "print(f'Most recent file: {datas}')\n",
    "\n",
    "with open(f'{xom_data_path}padde_cuts/{datas}','rb') as f:\n",
    "    raw_x_data = pkl.load(f)"
   ]
  },
  {
   "cell_type": "code",
   "execution_count": 16,
   "metadata": {},
   "outputs": [
    {
     "data": {
      "text/plain": [
       "[<matplotlib.lines.Line2D at 0x7fbcc01e8e20>]"
      ]
     },
     "execution_count": 16,
     "metadata": {},
     "output_type": "execute_result"
    },
    {
     "data": {
      "image/png": "[encoded data removed]",
      "text/plain": [
       "<Figure size 432x288 with 1 Axes>"
      ]
     },
     "metadata": {
      "needs_background": "light"
     },
     "output_type": "display_data"
    }
   ],
   "source": [
    "plt.plot(raw_x_data[20000, -1, 1]['moon_signa'])"
   ]
  },
  {
   "cell_type": "code",
   "execution_count": 4,
   "metadata": {},
   "outputs": [],
   "source": [
    "# Dataset composition setup\n",
    "DETEC_TYPE = 'plane_moon_cut_injec'\n",
    "NUMBE_RELEV = 2000\n",
    "NUMBE_IRREL = 2000"
   ]
  },
  {
   "cell_type": "code",
   "execution_count": 5,
   "metadata": {},
   "outputs": [
    {
     "name": "stdout",
     "output_type": "stream",
     "text": [
      "50.00% of the dataset contains a full injection\n"
     ]
    }
   ],
   "source": [
    "# Separate full dataset into relevant and irrelevant components\n",
    "full_relev_index = []\n",
    "for i in range(len(raw_x_data)):\n",
    "    if raw_x_data[i, -1, 1][DETEC_TYPE]:\n",
    "        full_relev_index.append(i)\n",
    "        \n",
    "# Take a random sample of a relevant\n",
    "relev_index = random.sample(full_relev_index, NUMBE_RELEV)\n",
    "relev_curve = np.copy(raw_x_data[relev_index])\n",
    "# Take a random sample of a irrelevant\n",
    "irrel_curve = np.delete(raw_x_data, full_relev_index, axis=0)\n",
    "irrel_curve = irrel_curve[utils.retur_rando_sampl(NUMBE_IRREL, len(irrel_curve))]\n",
    "\n",
    "# Shuffle the order of the data\n",
    "rando_shuff_x_data = np.concatenate((relev_curve, irrel_curve), axis=0)\n",
    "np.random.shuffle(rando_shuff_x_data)\n",
    "\n",
    "# Normalize the data from 0 to 1\n",
    "norma_full_x_data = np.copy(rando_shuff_x_data)\n",
    "x_data = np.copy(rando_shuff_x_data[:, :-1, 1].astype(float))\n",
    "\n",
    "for i in range(len(x_data)):\n",
    "    chang_slots = np.where(x_data[i] != 0)[0]\n",
    "    x_data[i, chang_slots] = utils.norma_data(x_data[i, chang_slots])\n",
    "    norma_full_x_data[i, :-1, 1] = x_data[i]\n",
    "\n",
    "x_data = np.expand_dims(x_data, 2)\n",
    "\n",
    "# Create the corresponding y dataset\n",
    "y_data = np.zeros(len(norma_full_x_data))\n",
    "for i in range(len(norma_full_x_data)):\n",
    "    y_data[i] = norma_full_x_data[i, -1, 1][DETEC_TYPE]\n",
    "\n",
    "print(\n",
    "    f'{sum(y_data)/len(y_data):.2%} of the dataset contains a full injection')"
   ]
  },
  {
   "cell_type": "code",
   "execution_count": 6,
   "metadata": {},
   "outputs": [],
   "source": [
    "# Split the data into training and testing\n",
    "\n",
    "stop = len(x_data) - len(y_data) % 100\n",
    "split = int(stop * 0.7)\n",
    "    \n",
    "x_train = np.array(x_data[:split])\n",
    "full_x_train = norma_full_x_data[:split]\n",
    "x_test = np.array(x_data[split:stop])\n",
    "full_x_test = norma_full_x_data[split:stop]\n",
    "y_train = y_data[:split]\n",
    "y_test = y_data[split:stop]"
   ]
  },
  {
   "cell_type": "code",
   "execution_count": 7,
   "metadata": {},
   "outputs": [],
   "source": [
    "# Remove non-full batches (because they cause problems)\n",
    "BATCH_SIZE = 100\n",
    "\n",
    "# If no remainder, skip\n",
    "if x_train.shape[0] % BATCH_SIZE:\n",
    "    x_train = x_train[:-(x_train.shape[0] % BATCH_SIZE)]\n",
    "    full_x_train = full_x_train[:-(full_x_train.shape[0] % BATCH_SIZE)]\n",
    "    y_train = y_train[:-(y_train.shape[0] % BATCH_SIZE)]\n",
    "\n",
    "if x_test.shape[0] % BATCH_SIZE:\n",
    "    x_test = x_test[:-(x_test.shape[0] % BATCH_SIZE)]\n",
    "    full_x_test = full_x_test[:-(full_x_test.shape[0] % BATCH_SIZE)]\n",
    "    y_test = y_test[:-(y_test.shape[0] % BATCH_SIZE)]"
   ]
  },
  {
   "cell_type": "code",
   "execution_count": 8,
   "metadata": {},
   "outputs": [],
   "source": [
    "# Baseline calculations for email updates\n",
    "# Baseline accuracy, precision, and recall are all the same\n",
    "basel_value = sum(y_test) / len(y_test) \n",
    "if basel_value < 0.5:\n",
    "    basel_value = 1 - basel_value"
   ]
  },
  {
   "cell_type": "markdown",
   "metadata": {},
   "source": [
    "### Training"
   ]
  },
  {
   "cell_type": "code",
   "execution_count": 9,
   "metadata": {},
   "outputs": [],
   "source": [
    "# Log Directory\n",
    "\n",
    "# Open previously used tuner\n",
    "log_direc = f'{main_path}moon/keras_tuner/14-05-2022_16:53:21_kt'\n",
    "PROJE_NAME = 'exomo_rnn'\n",
    "try:\n",
    "    os.mkdir(f'{log_direc}/deep_train')\n",
    "except FileExistsError:\n",
    "    pass"
   ]
  },
  {
   "cell_type": "markdown",
   "metadata": {},
   "source": [
    "#### Tuner Opening"
   ]
  },
  {
   "cell_type": "code",
   "execution_count": 10,
   "metadata": {},
   "outputs": [],
   "source": [
    "###"
   ]
  },
  {
   "cell_type": "raw",
   "metadata": {},
   "source": [
    "def tuner_model(hyper):\n",
    "  pass"
   ]
  },
  {
   "cell_type": "raw",
   "metadata": {},
   "source": [
    "initi = True\n",
    "tuner = kt.BayesianOptimization(hypermodel=tuner_model,\n",
    "                                objective='val_accuracy',\n",
    "                                max_trials=1,\n",
    "                                executions_per_trial=1,\n",
    "                                distribution_strategy=mirro_strat,\n",
    "                                overwrite=False,\n",
    "                                directory=log_direc,\n",
    "                                project_name=PROJE_NAME)"
   ]
  },
  {
   "cell_type": "raw",
   "metadata": {},
   "source": [
    "score_trial = []\n",
    "for direc in os.scandir(f'{log_direc}/{PROJE_NAME}/'):\n",
    "    if str(direc.name)[:5] == 'trial':\n",
    "        with open(f'{direc.path}/trial.json', 'r') as file:\n",
    "            trial_infor = json.load(file)\n",
    "            score_trial.append([trial_infor['score'], trial_infor['trial_id']])\n",
    "            \n",
    "score_trial.sort(reverse=True)\n",
    "# Take the top half of models\n",
    "score_trial = score_trial[:len(score_trial)//2]\n",
    "# Extract only the trial id\n",
    "deep_train = []\n",
    "for trial_id in score_trial:\n",
    "    deep_train.append(trial_id[1])"
   ]
  },
  {
   "cell_type": "raw",
   "metadata": {},
   "source": [
    "trial = tuner.oracle.get_trial(deep_train_id[0])"
   ]
  },
  {
   "cell_type": "raw",
   "metadata": {},
   "source": [
    "model = tuner.hypermodel.build(trial.hyperparameters)"
   ]
  },
  {
   "cell_type": "code",
   "execution_count": 11,
   "metadata": {},
   "outputs": [],
   "source": [
    "###"
   ]
  },
  {
   "cell_type": "code",
   "execution_count": 12,
   "metadata": {},
   "outputs": [],
   "source": [
    "# Open the models\n",
    "\n",
    "model_files = os.listdir(f'{log_direc}/redun_model')"
   ]
  },
  {
   "cell_type": "code",
   "execution_count": 13,
   "metadata": {},
   "outputs": [],
   "source": [
    "score_file = []\n",
    "for curre_file in model_files:\n",
    "    score_file.append([int(curre_file.split('.')[1]), curre_file])\n",
    "score_file.sort(reverse=True)\n",
    "# Take the top tenth of models\n",
    "score_file = score_file[:len(score_file)//10]\n",
    "# Extract only the file name\n",
    "deep_train = []\n",
    "for trial_file in score_file:\n",
    "    deep_train.append(f'{log_direc}/redun_model/{trial_file[1]}')"
   ]
  },
  {
   "cell_type": "code",
   "execution_count": 10,
   "metadata": {},
   "outputs": [],
   "source": [
    "# Max number of epochs\n",
    "EPOCH = 250\n",
    "# Early stopping patience\n",
    "PATIE = 10"
   ]
  },
  {
   "cell_type": "code",
   "execution_count": 237,
   "metadata": {},
   "outputs": [],
   "source": [
    "# Callbacks\n",
    "\n",
    "# tensorboard = TensorBoard(log_dir=f'{main_path}tensorboard/{datas}_{int(time.time())}')\n",
    "# resto_valid_accur = utils.resto_best_valid_accur()\n",
    "# deep_train_model_name = ''\n",
    "# resto_valid_accur = ModelCheckpoint(f'{log_direc}/deep_train/curre_model.pb', \n",
    "                                    # monitor='val_accuracy', save_best_only=True)\n",
    "early_stopp = EarlyStopping(monitor='val_accuracy', patience=PATIE, restore_best_weights=True)\n",
    "\n",
    "callb = [early_stopp]#, resto_valid_accur]#, tensorboard]\n",
    "\n",
    "# Dependiencies for custom metrics\n",
    "\n",
    "depen = {\n",
    "    'preci': utils.preci,\n",
    "    'recal':utils.recal\n",
    "}\n",
    "\n",
    "# Features for the true/false positive/negative graphs\n",
    "tp_tn_fp_fn_featu = ['ratio_moon_stell_radiu',\n",
    "                     'moon_radiu', \n",
    "                     'stell_radiu', \n",
    "                     'curve_injec', \n",
    "                     'plane_moon_cut_injec']"
   ]
  },
  {
   "cell_type": "raw",
   "metadata": {
    "jupyter": {
     "source_hidden": true
    },
    "tags": []
   },
   "source": [
    "def retur_tp_tn_fp_fn(predi, y_true, cutof=0.5):\n",
    "    '''Classifies each curve as a true/false positive/negative. \\\n",
    "Returns a list of list of indexes in the order of tp, tn, fp, fn.'''\n",
    "    if len(predi) != len(y_true):\n",
    "        raise ValueError(\n",
    "            f'The length of the prediction and y_true arrays must be the same. Currently \\\n",
    "{len(predi)} and {len(y_true)} respectively.')\n",
    "    tp = []\n",
    "    tn = []\n",
    "    fp = []\n",
    "    fn = []\n",
    "    for i in range(len(predi)):\n",
    "        if predi[i] > cutof and y_true[i]:\n",
    "            tp.append(i)\n",
    "        elif predi[i] < cutof and not y_true[i]:\n",
    "            tn.append(i)\n",
    "        elif predi[i] > cutof and not y_true[i]:\n",
    "            fp.append(i)\n",
    "        else:\n",
    "            fn.append(i)\n",
    "    return [tp, tn, fp, fn]"
   ]
  },
  {
   "cell_type": "code",
   "execution_count": 252,
   "metadata": {},
   "outputs": [
    {
     "data": {
      "text/plain": [
       "<module 'utils' from '/home/rfradkin/xom/py_script/utils.py'>"
      ]
     },
     "execution_count": 252,
     "metadata": {},
     "output_type": "execute_result"
    }
   ],
   "source": [
    "importlib.reload(utils)"
   ]
  },
  {
   "cell_type": "code",
   "execution_count": 253,
   "metadata": {},
   "outputs": [],
   "source": [
    "a = '/data/scratch/data/moon/keras_tuner/14-05-2022_16:53:21_kt/deep_train/t:1_va:0.541.pb'"
   ]
  },
  {
   "cell_type": "code",
   "execution_count": 254,
   "metadata": {},
   "outputs": [],
   "source": [
    "%%capture\n",
    "utils.graph_tp_tn_fp_fn(predi, full_x_test, save_figur_path=a, highl_injec=True,\n",
    "                  featu=tp_tn_fp_fn_featu);"
   ]
  },
  {
   "cell_type": "raw",
   "metadata": {
    "jupyter": {
     "source_hidden": true
    },
    "tags": []
   },
   "source": [
    "def graph_tp_tn_fp_fn(predi,\n",
    "                      full_datas,\n",
    "                      max_numbe_of_curve=50,\n",
    "                      cutof=0.5,\n",
    "                      featu=[],\n",
    "                      highl_injec=False,\n",
    "                      highl_cuts=False,\n",
    "                      show_signa=False,\n",
    "                      ignor_zeros=True,\n",
    "                      save_figur_path=None,\n",
    "                      show_figur=False,\n",
    "                      figur_chara={'figsize': [15, 5]},\n",
    "                      title_chara={},\n",
    "                      x_chara={},\n",
    "                      y_chara={},\n",
    "                      legen_chara={},\n",
    "                      detec_type='plane_moon_cut_injec'):\n",
    "    '''Creates indivdual true/false positive/negative graphs.'''\n",
    "    class_type = ['tp', 'tn', 'fp', 'fn']\n",
    "    if save_figur_path is not None:\n",
    "        # Create the folders to save the different graphs\n",
    "        try:\n",
    "            os.mkdir(f'{save_figur_path}/graph')\n",
    "        except FileExistsError:\n",
    "            pass\n",
    "        for curre_type in class_type:\n",
    "            try:\n",
    "                os.mkdir(f'{save_figur_path}/graph/{curre_type}')\n",
    "            except FileExistsError:\n",
    "                pass\n",
    "\n",
    "    # Create a y_true dataset from the full information dataset\n",
    "    y_true = []\n",
    "    for i in range(len(full_datas)):\n",
    "        y_true.append(full_datas[i, -1, 1][detec_type])\n",
    "    # Classify the curves into true/false positive/negative\n",
    "    tp_tn_fp_fn_index = retur_tp_tn_fp_fn(predi, y_true, cutof)\n",
    "\n",
    "    for i in range(len(class_type)):\n",
    "        curre_numbe_save_curve = max_numbe_of_curve\n",
    "        if len(tp_tn_fp_fn_index[i]) < max_numbe_of_curve:\n",
    "            curre_numbe_save_curve = len(tp_tn_fp_fn_index[i])\n",
    "        for ii in range(curre_numbe_save_curve):\n",
    "            curre_figur_name = f\"{class_type[i]}_{full_datas[tp_tn_fp_fn_index[i][ii], -1, 1]['tic_id']}\"\n",
    "            show_curve(\n",
    "                full_datas,\n",
    "                start_stop_tic_id=[\n",
    "                    tp_tn_fp_fn_index[i][ii], tp_tn_fp_fn_index[i][ii] + 1\n",
    "                ],\n",
    "                featu=featu,\n",
    "                highl_injec=highl_injec,\n",
    "                highl_cuts=highl_cuts,\n",
    "                show_signa=show_signa,\n",
    "                ignor_zeros=ignor_zeros,\n",
    "                save_figur_path=f'{save_figur_path}/graph/{class_type[i]}/',\n",
    "                save_figur_name=curre_figur_name,\n",
    "                show_figur=show_figur,\n",
    "                figur_chara=figur_chara,\n",
    "                title_chara=title_chara,\n",
    "                x_chara=x_chara,\n",
    "                y_chara=y_chara,\n",
    "                legen_chara=legen_chara)"
   ]
  },
  {
   "cell_type": "code",
   "execution_count": null,
   "metadata": {},
   "outputs": [],
   "source": [
    "%%capture\n",
    "# Capture used to supress graph_tp_tn_fp_fn output\n",
    "for model_file in deep_train:\n",
    "    with mirro_strat.scope(): \n",
    "        metri = [\"accuracy\", utils.preci, utils.recal]\n",
    "        model = tf.keras.models.load_model(model_file,custom_objects=depen)\n",
    "        optim = tf.keras.optimizers.Nadam(learning_rate=model.optimizer.get_config()['learning_rate'],\n",
    "                                          decay=model.optimizer.get_config()['decay'])\n",
    "        model.compile(loss='BinaryCrossentropy',\n",
    "              optimizer=optim,\n",
    "              metrics=metri)\n",
    "    resul = model.fit(x_train,\n",
    "                    y_train,\n",
    "                    epochs=EPOCH,\n",
    "                    batch_size=BATCH_SIZE,\n",
    "                    callbacks=callb,\n",
    "                    validation_data=(x_test, y_test))\n",
    "    save_path = f'{log_direc}/deep_train'\n",
    "    model_name = f\"{model_file.split('/')[-1].split('0')[0]}{max(resul.history['val_accuracy']):.3}\"\n",
    "    full_model_path = f'{save_path}/{model_name}'\n",
    "    model.save(full_model_path)\n",
    "    predi = model.predict(x_test).squeeze()\n",
    "    graph_tp_tn_fp_fn(predi, \n",
    "                      full_x_test, \n",
    "                      save_figur_path=full_model_path,\n",
    "                      show_figur=False,\n",
    "                      featu=tp_tn_fp_fn_featu)"
   ]
  },
  {
   "cell_type": "markdown",
   "metadata": {},
   "source": [
    "#### Formatting"
   ]
  },
  {
   "cell_type": "raw",
   "metadata": {},
   "source": [
    "forma = \\\n",
    "\"\"\"\n",
    "def retur_tp_tn_fp_fn(predi, y_true, cutof=0.5):\n",
    "    '''Classifies each curve as a true/false positive/negative. Returns a list of list of indexes \\\n",
    "in the order of tp, tn, fp, fn.'''\n",
    "    if len(predi) != len(y_true):\n",
    "        raise ValueError(f'The length of the prediction and y_true arrays must be the same. Currently \\\n",
    "        {len(predi)} and {len(y_true)} respectively.')\n",
    "    tp = []\n",
    "    tn = []\n",
    "    fp = []\n",
    "    fn = []\n",
    "    for i in range(len(predi)):\n",
    "        if predi[i] > cutof and y_true[i]:\n",
    "            tp.append(i)\n",
    "        elif predi[i] < cutof and not y_true[i]:\n",
    "            tn.append(i)\n",
    "        elif predi[i] > cutof and not y_true[i]:\n",
    "            fp.append(i)\n",
    "        else:\n",
    "            fn.append(i)\n",
    "    return [tp, tn, fp, fn]\n",
    "\"\"\"\n",
    "forma_done = FormatCode(forma, style_config='PEP8')\n",
    "print(forma_done[0])"
   ]
  },
  {
   "cell_type": "code",
   "execution_count": null,
   "metadata": {},
   "outputs": [],
   "source": []
  },
  {
   "cell_type": "code",
   "execution_count": null,
   "metadata": {},
   "outputs": [],
   "source": []
  },
  {
   "cell_type": "code",
   "execution_count": null,
   "metadata": {},
   "outputs": [],
   "source": []
  }
 ],
 "metadata": {
  "kernelspec": {
   "display_name": "xom",
   "language": "python",
   "name": "xom"
  },
  "language_info": {
   "codemirror_mode": {
    "name": "ipython",
    "version": 3
   },
   "file_extension": ".py",
   "mimetype": "text/x-python",
   "name": "python",
   "nbconvert_exporter": "python",
   "pygments_lexer": "ipython3",
   "version": "3.8.5"
  }
 },
 "nbformat": 4,
 "nbformat_minor": 4
}
