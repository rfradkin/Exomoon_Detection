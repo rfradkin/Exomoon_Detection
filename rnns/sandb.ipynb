{
 "cells": [
  {
   "cell_type": "code",
   "execution_count": 5,
   "id": "fiscal-quarterly",
   "metadata": {},
   "outputs": [],
   "source": [
    "import os\n",
    "for i in range(1, 27):\n",
    "    dir_name = f\"/home/rfradkin/Blackholes/Sector_Files/Sector{i}LC\"\n",
    "    test = os.listdir(dir_name)\n",
    "\n",
    "    for item in test:\n",
    "        if item.endswith(\".fits\"):\n",
    "            os.remove(os.path.join(dir_name, item))"
   ]
  },
  {
   "cell_type": "code",
   "execution_count": null,
   "id": "afraid-centre",
   "metadata": {},
   "outputs": [],
   "source": []
  },
  {
   "cell_type": "code",
   "execution_count": 6,
   "id": "partial-newark",
   "metadata": {},
   "outputs": [
    {
     "data": {
      "text/plain": [
       "600000000.0"
      ]
     },
     "execution_count": 6,
     "metadata": {},
     "output_type": "execute_result"
    }
   ],
   "source": [
    "6e8"
   ]
  },
  {
   "cell_type": "code",
   "execution_count": null,
   "id": "absent-stranger",
   "metadata": {},
   "outputs": [],
   "source": []
  }
 ],
 "metadata": {
  "kernelspec": {
   "display_name": "Python 3",
   "language": "python",
   "name": "python3"
  },
  "language_info": {
   "codemirror_mode": {
    "name": "ipython",
    "version": 3
   },
   "file_extension": ".py",
   "mimetype": "text/x-python",
   "name": "python",
   "nbconvert_exporter": "python",
   "pygments_lexer": "ipython3",
   "version": "3.9.2"
  }
 },
 "nbformat": 4,
 "nbformat_minor": 5
}
