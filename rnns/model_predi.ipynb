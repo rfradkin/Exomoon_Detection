{
 "cells": [
  {
   "cell_type": "raw",
   "metadata": {},
   "source": [
    "Formatting Guide:\n",
    "- Use yapf for PEP8 style guide (FormatCode())\n",
    "- Use blank lines sparingly, shows change in logic/focus\n",
    "- Variable names should be the first five letters of the description\n",
    "- Comment Code Accordingly\n",
    "- Anything with ### above and below needs to be updated\n",
    "\n",
    "Other Notes:\n",
    "- Fix logging function\n",
    "- Add feature to dictionary specifying whether the cut contains a transit of any kind, to be used with graphing functions where transit type matters, also simplifys otther shit"
   ]
  },
  {
   "cell_type": "code",
   "execution_count": 2,
   "metadata": {},
   "outputs": [],
   "source": [
    "# Standard libraries\n",
    "import sys\n",
    "import math\n",
    "import random\n",
    "import time\n",
    "import os\n",
    "\n",
    "# Third-party imports\n",
    "import numpy as np\n",
    "import pandas as pd\n",
    "import pickle as pkl\n",
    "\n",
    "import matplotlib.pyplot as plt\n",
    "\n",
    "import tensorflow as tf\n",
    "from tensorflow import keras\n",
    "\n",
    "import importlib\n",
    "from yapf.yapflib.yapf_api import FormatCode\n",
    "import GPUtil\n",
    "\n",
    "# Project imports\n",
    "import utils"
   ]
  },
  {
   "cell_type": "code",
   "execution_count": 3,
   "metadata": {},
   "outputs": [],
   "source": [
    "main_path = '/home/rfradkin/xom/'\n",
    "raw_tess_path = '/scratch/data/tess/lcur/spoc/raws/'\n",
    "tess_metad_path = '/data/scratch/data/tess/meta/'\n",
    "xom_data_path = '/data/scratch/data/moon/'"
   ]
  },
  {
   "cell_type": "markdown",
   "metadata": {},
   "source": [
    "### GPU Setup"
   ]
  },
  {
   "cell_type": "code",
   "execution_count": 10,
   "metadata": {},
   "outputs": [
    {
     "name": "stdout",
     "output_type": "stream",
     "text": [
      "| ID | GPU | MEM |\n",
      "------------------\n",
      "|  0 | 50% | 19% |\n",
      "|  1 | 52% | 12% |\n",
      "|  2 | 54% | 12% |\n",
      "|  3 | 55% | 12% |\n"
     ]
    }
   ],
   "source": [
    "GPUtil.showUtilization()"
   ]
  },
  {
   "cell_type": "raw",
   "metadata": {},
   "source": [
    "# Only CPU\n",
    "os.environ[\"CUDA_DEVICE_ORDER\"] = \"PCI_BUS_ID\" \n",
    "os.environ[\"CUDA_VISIBLE_DEVICES\"] = \"\""
   ]
  },
  {
   "cell_type": "raw",
   "metadata": {},
   "source": [
    "# Specific GPUs\n",
    "gpus = tf.config.experimental.list_physical_devices('GPU')\n",
    "tf.config.set_visible_devices(gpus[1:4], 'GPU')\n",
    "mirrored_strategy = tf.distribute.MirroredStrategy()"
   ]
  },
  {
   "cell_type": "code",
   "execution_count": 6,
   "metadata": {},
   "outputs": [
    {
     "name": "stdout",
     "output_type": "stream",
     "text": [
      "WARNING:tensorflow:Collective ops is not configured at program startup. Some performance features may not be enabled.\n",
      "INFO:tensorflow:Using MirroredStrategy with devices ('/job:localhost/replica:0/task:0/device:GPU:0', '/job:localhost/replica:0/task:0/device:GPU:1', '/job:localhost/replica:0/task:0/device:GPU:2', '/job:localhost/replica:0/task:0/device:GPU:3')\n"
     ]
    }
   ],
   "source": [
    "# All GPUs\n",
    "gpus = tf.config.experimental.list_physical_devices('GPU')\n",
    "if gpus:\n",
    "    try:\n",
    "        for gpu in gpus:\n",
    "            tf.config.experimental.set_memory_growth(gpu, True)\n",
    "\n",
    "    except RuntimeError as e:\n",
    "        print(e)\n",
    "mirror_strat = tf.distribute.MirroredStrategy()"
   ]
  },
  {
   "cell_type": "markdown",
   "metadata": {},
   "source": [
    "### Data Preprocessing"
   ]
  },
  {
   "cell_type": "code",
   "execution_count": null,
   "metadata": {},
   "outputs": [],
   "source": [
    "cuts_type = 'padde_cuts-detre-'\n",
    "model_file = f'padde_cuts-1_1-parti-1637036581.5612013.pkl-88.491.h5'\n",
    "cutof = 0.5\n",
    "candi = []"
   ]
  },
  {
   "cell_type": "code",
   "execution_count": null,
   "metadata": {},
   "outputs": [],
   "source": [
    "numbe_sampl = -1\n",
    "masking = layers.Masking(mask_value=0., input_shape=(1900, 1))\n",
    "model = tf.keras.models.load_model(\n",
    "    f'{xom_data_path}plane_moon_model/{model_file}')\n",
    "\n",
    "for secto in range(1, 27):\n",
    "\n",
    "    datas = f'{cuts_type}{secto}_{secto + 1}.pkl'\n",
    "    with open(f'{xom_data_path}padde_cuts/{datas}', 'rb') as f:\n",
    "        raw_x_data = pkl.load(f)\n",
    "\n",
    "    # Create a shuffled sample of the data\n",
    "    rando_shuff_x_data = raw_x_data[utils.retur_rando_sampl(\n",
    "        numbe_sampl, len(raw_x_data))]\n",
    "    np.random.shuffle(rando_shuff_x_data)\n",
    "\n",
    "    # Normalize the data from 0 to 1\n",
    "    norma_full_x_data = np.copy(rando_shuff_x_data)\n",
    "    x_data = np.copy(rando_shuff_x_data[:, :-1, 1].astype(float))\n",
    "\n",
    "    for i in range(len(x_data)):\n",
    "        chang_slots = np.where(x_data[i] != 0)[0]\n",
    "        x_data[i, chang_slots] = utils.norma_data(x_data[i, chang_slots])\n",
    "        norma_full_x_data[i, :-1, 1] = x_data[i]\n",
    "\n",
    "    x_data = np.expand_dims(x_data, 2)\n",
    "\n",
    "    # Create the corresponding y dataset\n",
    "    y_data = np.zeros(len(norma_full_x_data))\n",
    "    for i in range(len(norma_full_x_data)):\n",
    "        y_data[i] = norma_full_x_data[i, -1, 1][\n",
    "            'plane_moon_cut_injec'] or norma_full_x_data[i, -1,\n",
    "                                                         1]['plane_cut_injec']\n",
    "\n",
    "    x_test_np = np.array(x_data)\n",
    "    full_x_test = norma_full_x_data\n",
    "    y_test_np = y_data\n",
    "\n",
    "    # Mask the data\n",
    "    x_test_unmas = tf.convert_to_tensor(x_test_np)\n",
    "    y_test = tf.convert_to_tensor(y_test_np)\n",
    "    x_test = masking(x_test_unmas)\n",
    "\n",
    "    # Make predictions\n",
    "    predi = model.predict(x_test).squeeze()\n",
    "    binar_predi = predi > cutof\n",
    "\n",
    "    for i in range(len(predi)):\n",
    "        if binar_predi:\n",
    "            candi.append([\n",
    "                predi[i], secto, full_x_test[i, -1, 1]['tic_id'],\n",
    "                full_x_test[i]\n",
    "            ])\n",
    "\n",
    "print(f'{len(candi)} candidates identified.')"
   ]
  },
  {
   "cell_type": "markdown",
   "metadata": {},
   "source": [
    "### Formatting"
   ]
  },
  {
   "cell_type": "raw",
   "metadata": {},
   "source": [
    "forma = \\\n",
    "'''\n",
    "numbe_sampl = -1\n",
    "masking = layers.Masking(mask_value=0., input_shape = (1900, 1))\n",
    "model = tf.keras.models.load_model(f'{xom_data_path}plane_moon_model/{model_file}');\n",
    "\n",
    "for secto in range(1, 27):\n",
    "    \n",
    "    datas = f'{cuts_type}{secto}_{secto + 1}.pkl'\n",
    "    with open(f'{xom_data_path}padde_cuts/{datas}','rb') as f:\n",
    "        raw_x_data = pkl.load(f)\n",
    "\n",
    "    # Create a shuffled sample of the data\n",
    "    rando_shuff_x_data = raw_x_data[utils.retur_rando_sampl(\n",
    "        numbe_sampl, len(raw_x_data))]\n",
    "    np.random.shuffle(rando_shuff_x_data)\n",
    "\n",
    "    # Normalize the data from 0 to 1\n",
    "    norma_full_x_data = np.copy(rando_shuff_x_data)\n",
    "    x_data = np.copy(rando_shuff_x_data[:, :-1, 1].astype(float))\n",
    "\n",
    "    for i in range(len(x_data)):\n",
    "        chang_slots = np.where(x_data[i] != 0)[0]\n",
    "        x_data[i, chang_slots] = utils.norma_data(x_data[i, chang_slots])\n",
    "        norma_full_x_data[i, :-1, 1] = x_data[i]\n",
    "\n",
    "    x_data = np.expand_dims(x_data, 2)\n",
    "\n",
    "    # Create the corresponding y dataset\n",
    "    y_data = np.zeros(len(norma_full_x_data))\n",
    "    for i in range(len(norma_full_x_data)):\n",
    "        y_data[i] = norma_full_x_data[i, -1, 1]['plane_moon_cut_injec'] or norma_full_x_data[i, -1, 1]['plane_cut_injec']\n",
    "\n",
    "    print(\n",
    "        f'{sum(y_data)/len(y_data):.2%} of the dataset contains a full injection')\n",
    "\n",
    "    x_test_np = np.array(x_data)\n",
    "    full_x_test = norma_full_x_data\n",
    "    y_test_np = y_data\n",
    "    \n",
    "    # Mask the data\n",
    "    x_test_unmas = tf.convert_to_tensor(x_test_np)\n",
    "    y_test = tf.convert_to_tensor(y_test_np)\n",
    "    x_test = masking(x_test_unmas)\n",
    "    \n",
    "    # Make predictions\n",
    "    predi = model.predict(x_test).squeeze()\n",
    "    binar_predi = predi > cutof\n",
    "    \n",
    "    for i in range(len(predi)):\n",
    "        if binar_predi:\n",
    "            binar_predi.append([predi[i], secto, full_x_test[i, -1, 1]['tic_id'], full_x_test[i]])\n",
    "'''\n",
    "forma_done = FormatCode(forma, style_config='PEP8')\n",
    "print(forma_done[0])"
   ]
  },
  {
   "cell_type": "code",
   "execution_count": null,
   "metadata": {},
   "outputs": [],
   "source": []
  }
 ],
 "metadata": {
  "accelerator": "TPU",
  "colab": {
   "collapsed_sections": [],
   "name": "RNN_V2.ipynb",
   "provenance": []
  },
  "kernelspec": {
   "display_name": "Python 3",
   "language": "python",
   "name": "python3"
  },
  "language_info": {
   "codemirror_mode": {
    "name": "ipython",
    "version": 3
   },
   "file_extension": ".py",
   "mimetype": "text/x-python",
   "name": "python",
   "nbconvert_exporter": "python",
   "pygments_lexer": "ipython3",
   "version": "3.9.2"
  }
 },
 "nbformat": 4,
 "nbformat_minor": 4
}
