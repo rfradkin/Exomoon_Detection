{
 "cells": [
  {
   "cell_type": "raw",
   "metadata": {},
   "source": [
    "Formatting Guide:\n",
    "- Use yapf for PEP8 style guide (FormatCode())\n",
    "- Use blank lines sparingly, shows change in logic/focus\n",
    "- Variable names should be the first five letters of the description\n",
    "- Comment Code Accordingly\n",
    "- Anything with ### above and below needs to be updated\n",
    "\n",
    "Other Notes:\n",
    "- Fix logging function\n",
    "- Add feature to dictionary specifying whether the cut contains a transit of any kind, to be used with graphing functions where transit type matters, also simplifys otther shit"
   ]
  },
  {
   "cell_type": "code",
   "execution_count": 1,
   "metadata": {},
   "outputs": [],
   "source": [
    "# Standard libraries\n",
    "import sys\n",
    "import math\n",
    "import random\n",
    "import time\n",
    "import os\n",
    "\n",
    "# Third-party imports\n",
    "import numpy as np\n",
    "import pandas as pd\n",
    "import pickle as pkl\n",
    "\n",
    "import matplotlib.pyplot as plt\n",
    "\n",
    "import tensorflow as tf\n",
    "from tensorflow import keras\n",
    "from tensorflow.keras import layers\n",
    "\n",
    "from tensorflow.keras.callbacks import TensorBoard\n",
    "from tensorflow.keras.callbacks import EarlyStopping\n",
    "\n",
    "from tensorflow.keras.metrics import Precision\n",
    "from tensorflow.keras.metrics import Recall\n",
    "\n",
    "import importlib\n",
    "from yapf.yapflib.yapf_api import FormatCode\n",
    "import GPUtil\n",
    "\n",
    "# Project imports\n",
    "import ephesus\n",
    "import utils\n",
    "from const import *"
   ]
  },
  {
   "cell_type": "markdown",
   "metadata": {},
   "source": [
    "### GPU Setup"
   ]
  },
  {
   "cell_type": "raw",
   "metadata": {},
   "source": [
    "GPUtil.showUtilization()"
   ]
  },
  {
   "cell_type": "code",
   "execution_count": 5,
   "metadata": {},
   "outputs": [
    {
     "name": "stdout",
     "output_type": "stream",
     "text": [
      "INFO:tensorflow:Using MirroredStrategy with devices ('/job:localhost/replica:0/task:0/device:GPU:0', '/job:localhost/replica:0/task:0/device:GPU:1', '/job:localhost/replica:0/task:0/device:GPU:2', '/job:localhost/replica:0/task:0/device:GPU:3')\n"
     ]
    }
   ],
   "source": [
    "# Specific GPUs\n",
    "gpus = tf.config.experimental.list_physical_devices('GPU')\n",
    "tf.config.set_visible_devices(gpus[0:4], 'GPU')\n",
    "for gpu in gpus:\n",
    "    tf.config.experimental.set_memory_growth(gpu, True)\n",
    "mirro_strat = tf.distribute.MirroredStrategy()"
   ]
  },
  {
   "cell_type": "markdown",
   "metadata": {},
   "source": [
    "### Data Preprocessing"
   ]
  },
  {
   "cell_type": "code",
   "execution_count": 6,
   "metadata": {},
   "outputs": [],
   "source": [
    "###      DOUBLE CHECK      ###\n",
    "detec_type = 'plane_moon_cut_injec'"
   ]
  },
  {
   "cell_type": "code",
   "execution_count": 7,
   "metadata": {},
   "outputs": [
    {
     "name": "stdout",
     "output_type": "stream",
     "text": [
      "File: padde_cuts-34925-1370-8598.pkl\n"
     ]
    }
   ],
   "source": [
    "# Find the most recent file in injec_curve\n",
    "datas = utils.retur_most_recen(f'{xom_data_path}padde_cuts/')\n",
    "# datas = 'padde_cuts-34925-1370-8598.pkl'\n",
    "print(f'File: {datas}')\n",
    "\n",
    "with open(f'{xom_data_path}padde_cuts/{datas}','rb') as f:\n",
    "    raw_x_data = pkl.load(f)"
   ]
  },
  {
   "cell_type": "raw",
   "metadata": {},
   "source": [
    "raw_x_data = raw_x_data[:10000]"
   ]
  },
  {
   "cell_type": "raw",
   "metadata": {},
   "source": [
    "utils.chang_moon_injec(raw_x_data)"
   ]
  },
  {
   "cell_type": "code",
   "execution_count": 8,
   "metadata": {},
   "outputs": [
    {
     "name": "stdout",
     "output_type": "stream",
     "text": [
      "19.15% of the dataset contains a full injection\n"
     ]
    }
   ],
   "source": [
    "numbe_sampl = -1\n",
    "\n",
    "# Create a shuffled sample of the data\n",
    "rando_shuff_x_data = raw_x_data[utils.retur_rando_sampl(\n",
    "    numbe_sampl, len(raw_x_data))]\n",
    "np.random.shuffle(rando_shuff_x_data)\n",
    "\n",
    "# Normalize the data from 0 to 1\n",
    "norma_full_x_data = np.copy(rando_shuff_x_data)\n",
    "x_data = np.copy(rando_shuff_x_data[:, :-1, 1].astype(float))\n",
    "\n",
    "for i in range(len(x_data)):\n",
    "    chang_slots = np.where(x_data[i] != 0)[0]\n",
    "    x_data[i, chang_slots] = utils.norma_data(x_data[i, chang_slots])\n",
    "    norma_full_x_data[i, :-1, 1] = x_data[i]\n",
    "\n",
    "x_data = np.expand_dims(x_data, 2)\n",
    "\n",
    "# Create the corresponding y dataset\n",
    "y_data = np.zeros(len(norma_full_x_data))\n",
    "for i in range(len(norma_full_x_data)):\n",
    "    y_data[i] = norma_full_x_data[i, -1, 1][detec_type]\n",
    "\n",
    "print(\n",
    "    f'{sum(y_data)/len(y_data):.2%} of the dataset contains a full injection')"
   ]
  },
  {
   "cell_type": "code",
   "execution_count": 9,
   "metadata": {
    "id": "0oEhKBPgicMV"
   },
   "outputs": [],
   "source": [
    "# Split the data into training and testing\n",
    "\n",
    "stop = len(x_data) - len(y_data) % 100\n",
    "split = int(stop * 0.7)\n",
    "    \n",
    "x_train_np = x_data[:split]\n",
    "full_x_train = norma_full_x_data[:split]\n",
    "x_test_np = x_data[split:stop]\n",
    "full_x_test = norma_full_x_data[split:stop]\n",
    "y_train_np = y_data[:split]\n",
    "y_test_np = y_data[split:stop]"
   ]
  },
  {
   "cell_type": "code",
   "execution_count": 10,
   "metadata": {},
   "outputs": [],
   "source": [
    "# Mask the data\n",
    "masking = layers.Masking(mask_value=0., input_shape = (1900, 1))\n",
    "\n",
    "x_train_unmas = tf.convert_to_tensor(x_train_np)\n",
    "x_test_unmas = tf.convert_to_tensor(x_test_np)\n",
    "y_train = tf.convert_to_tensor(y_train_np)\n",
    "y_test = tf.convert_to_tensor(y_test_np)\n",
    "x_train = masking(x_train_unmas)\n",
    "x_test = masking(x_test_unmas)"
   ]
  },
  {
   "cell_type": "code",
   "execution_count": 11,
   "metadata": {},
   "outputs": [],
   "source": [
    "# Remove non-full batches (because they cause problems)\n",
    "batch_size = 20\n",
    "\n",
    "x_train = x_train[:-(x_train.shape[0] % batch_size)]\n",
    "y_train = y_train[:-(y_train.shape[0] % batch_size)]\n",
    "x_test = x_test[:-(x_test.shape[0] % batch_size)]\n",
    "y_test = y_test[:-(y_test.shape[0] % batch_size)]"
   ]
  },
  {
   "cell_type": "markdown",
   "metadata": {},
   "source": [
    "### Training"
   ]
  },
  {
   "cell_type": "code",
   "execution_count": 12,
   "metadata": {},
   "outputs": [],
   "source": [
    "# Callbacks\n",
    "\n",
    "# tensorboard = TensorBoard(log_dir=f'{main_path}tensorboard/{dataset}_{int(time.time())}')\n",
    "early_stopp = EarlyStopping(monitor='val_accuracy', patience=5)\n",
    "resto_valid_accur = utils.resto_best_valid_accur()\n",
    "callb = [resto_valid_accur, early_stopp]#, tensorboard]"
   ]
  },
  {
   "cell_type": "markdown",
   "metadata": {},
   "source": [
    "#### New Model"
   ]
  },
  {
   "cell_type": "code",
   "execution_count": 13,
   "metadata": {},
   "outputs": [
    {
     "name": "stdout",
     "output_type": "stream",
     "text": [
      "INFO:tensorflow:Reduce to /job:localhost/replica:0/task:0/device:CPU:0 then broadcast to ('/job:localhost/replica:0/task:0/device:CPU:0',).\n",
      "INFO:tensorflow:Reduce to /job:localhost/replica:0/task:0/device:CPU:0 then broadcast to ('/job:localhost/replica:0/task:0/device:CPU:0',).\n",
      "INFO:tensorflow:Reduce to /job:localhost/replica:0/task:0/device:CPU:0 then broadcast to ('/job:localhost/replica:0/task:0/device:CPU:0',).\n",
      "INFO:tensorflow:Reduce to /job:localhost/replica:0/task:0/device:CPU:0 then broadcast to ('/job:localhost/replica:0/task:0/device:CPU:0',).\n",
      "INFO:tensorflow:Reduce to /job:localhost/replica:0/task:0/device:CPU:0 then broadcast to ('/job:localhost/replica:0/task:0/device:CPU:0',).\n",
      "INFO:tensorflow:Reduce to /job:localhost/replica:0/task:0/device:CPU:0 then broadcast to ('/job:localhost/replica:0/task:0/device:CPU:0',).\n",
      "INFO:tensorflow:Reduce to /job:localhost/replica:0/task:0/device:CPU:0 then broadcast to ('/job:localhost/replica:0/task:0/device:CPU:0',).\n",
      "INFO:tensorflow:Reduce to /job:localhost/replica:0/task:0/device:CPU:0 then broadcast to ('/job:localhost/replica:0/task:0/device:CPU:0',).\n",
      "INFO:tensorflow:Reduce to /job:localhost/replica:0/task:0/device:CPU:0 then broadcast to ('/job:localhost/replica:0/task:0/device:CPU:0',).\n",
      "INFO:tensorflow:Reduce to /job:localhost/replica:0/task:0/device:CPU:0 then broadcast to ('/job:localhost/replica:0/task:0/device:CPU:0',).\n"
     ]
    }
   ],
   "source": [
    "# Model\n",
    "\n",
    "l2_norma_gradi = 0.25\n",
    "with mirro_strat.scope():\n",
    "    model = keras.Sequential()\n",
    "\n",
    "    model.add(\n",
    "        layers.GRU(68,\n",
    "                   activation='tanh',\n",
    "                   input_shape=(1900, 1),\n",
    "                   return_sequences=True))\n",
    "    model.add(layers.GRU(48, activation='tanh'))\n",
    "\n",
    "    model.add(layers.Dense(40, activation='tanh'))\n",
    "    model.add(layers.Dropout(0.15))\n",
    "\n",
    "    model.add(layers.Dense(16, activation='tanh'))\n",
    "    model.add(layers.Dropout(0.15))\n",
    "\n",
    "    model.add(layers.Dense(1, activation='sigmoid'))\n",
    "\n",
    "    opt = tf.keras.optimizers.Nadam(learning_rate=3e-4,\n",
    "                                    clipnorm=l2_norma_gradi)\n",
    "    \n",
    "    # Metrics\n",
    "    metri = ['accuracy', Precision(), Recall()]\n",
    "    \n",
    "    model.compile(loss='BinaryCrossentropy',\n",
    "                  optimizer=opt,\n",
    "                  metrics=metri)"
   ]
  },
  {
   "cell_type": "code",
   "execution_count": 16,
   "metadata": {},
   "outputs": [
    {
     "name": "stdout",
     "output_type": "stream",
     "text": [
      "Model: \"sequential\"\n",
      "_________________________________________________________________\n",
      " Layer (type)                Output Shape              Param #   \n",
      "=================================================================\n",
      " gru (GRU)                   (None, 1900, 68)          14484     \n",
      "                                                                 \n",
      " gru_1 (GRU)                 (None, 48)                16992     \n",
      "                                                                 \n",
      " dense (Dense)               (None, 40)                1960      \n",
      "                                                                 \n",
      " dropout (Dropout)           (None, 40)                0         \n",
      "                                                                 \n",
      " dense_1 (Dense)             (None, 16)                656       \n",
      "                                                                 \n",
      " dropout_1 (Dropout)         (None, 16)                0         \n",
      "                                                                 \n",
      " dense_2 (Dense)             (None, 1)                 17        \n",
      "                                                                 \n",
      "=================================================================\n",
      "Total params: 34,109\n",
      "Trainable params: 34,109\n",
      "Non-trainable params: 0\n",
      "_________________________________________________________________\n"
     ]
    }
   ],
   "source": [
    "model.summary()"
   ]
  },
  {
   "cell_type": "code",
   "execution_count": 20,
   "metadata": {},
   "outputs": [
    {
     "name": "stdout",
     "output_type": "stream",
     "text": [
      "Epoch 1/5\n",
      "1649/1650 [============================>.] - ETA: 0s - loss: 0.4912 - accuracy: 0.8089 - precision: 0.0000e+00 - recall: 0.0000e+00"
     ]
    },
    {
     "ename": "CancelledError",
     "evalue": "Graph execution error:\n\nDetected at node 'replica_2/assert_greater_equal/Assert/AssertGuard/Assert/data_2' defined at (most recent call last):\n    File \"/home/rfradkin/miniconda3/envs/xom/lib/python3.9/threading.py\", line 930, in _bootstrap\n      self._bootstrap_inner()\n    File \"/home/rfradkin/miniconda3/envs/xom/lib/python3.9/threading.py\", line 973, in _bootstrap_inner\n      self.run()\n    File \"/home/rfradkin/miniconda3/envs/xom/lib/python3.9/site-packages/keras/engine/training.py\", line 1000, in run_step\n      outputs = model.train_step(data)\n    File \"/home/rfradkin/miniconda3/envs/xom/lib/python3.9/site-packages/keras/engine/training.py\", line 864, in train_step\n      return self.compute_metrics(x, y, y_pred, sample_weight)\n    File \"/home/rfradkin/miniconda3/envs/xom/lib/python3.9/site-packages/keras/engine/training.py\", line 957, in compute_metrics\n      self.compiled_metrics.update_state(y, y_pred, sample_weight)\n    File \"/home/rfradkin/miniconda3/envs/xom/lib/python3.9/site-packages/keras/engine/compile_utils.py\", line 459, in update_state\n      metric_obj.update_state(y_t, y_p, sample_weight=mask)\n    File \"/home/rfradkin/miniconda3/envs/xom/lib/python3.9/site-packages/keras/utils/metrics_utils.py\", line 70, in decorated\n      update_op = update_state_fn(*args, **kwargs)\n    File \"/home/rfradkin/miniconda3/envs/xom/lib/python3.9/site-packages/keras/metrics.py\", line 178, in update_state_fn\n      return ag_update_state(*args, **kwargs)\n    File \"/home/rfradkin/miniconda3/envs/xom/lib/python3.9/site-packages/keras/metrics.py\", line 1403, in update_state\n      return metrics_utils.update_confusion_matrix_variables(\n    File \"/home/rfradkin/miniconda3/envs/xom/lib/python3.9/site-packages/keras/utils/metrics_utils.py\", line 602, in update_confusion_matrix_variables\n      tf.compat.v1.assert_greater_equal(\nNode: 'replica_2/assert_greater_equal/Assert/AssertGuard/Assert/data_2'\nRecvAsync is cancelled.\n\t [[{{node replica_2/assert_greater_equal/Assert/AssertGuard/Assert/data_2}}]] [Op:__inference_train_function_28584]",
     "output_type": "error",
     "traceback": [
      "\u001b[0;31m---------------------------------------------------------------------------\u001b[0m",
      "\u001b[0;31mCancelledError\u001b[0m                            Traceback (most recent call last)",
      "Input \u001b[0;32mIn [20]\u001b[0m, in \u001b[0;36m<cell line: 1>\u001b[0;34m()\u001b[0m\n\u001b[0;32m----> 1\u001b[0m histo \u001b[38;5;241m=\u001b[39m \u001b[43mmodel\u001b[49m\u001b[38;5;241;43m.\u001b[39;49m\u001b[43mfit\u001b[49m\u001b[43m(\u001b[49m\u001b[43mx_train\u001b[49m\u001b[43m,\u001b[49m\n\u001b[1;32m      2\u001b[0m \u001b[43m                  \u001b[49m\u001b[43my_train\u001b[49m\u001b[43m,\u001b[49m\n\u001b[1;32m      3\u001b[0m \u001b[43m                  \u001b[49m\u001b[43mepochs\u001b[49m\u001b[38;5;241;43m=\u001b[39;49m\u001b[38;5;241;43m5\u001b[39;49m\u001b[43m,\u001b[49m\n\u001b[1;32m      4\u001b[0m \u001b[43m                  \u001b[49m\u001b[43mbatch_size\u001b[49m\u001b[38;5;241;43m=\u001b[39;49m\u001b[38;5;241;43m19\u001b[39;49m\u001b[43m,\u001b[49m\n\u001b[1;32m      5\u001b[0m \u001b[43m                  \u001b[49m\u001b[43mcallbacks\u001b[49m\u001b[38;5;241;43m=\u001b[39;49m\u001b[43mcallb\u001b[49m\u001b[43m,\u001b[49m\n\u001b[1;32m      6\u001b[0m \u001b[43m                  \u001b[49m\u001b[43mvalidation_data\u001b[49m\u001b[38;5;241;43m=\u001b[39;49m\u001b[43m(\u001b[49m\u001b[43mx_test\u001b[49m\u001b[43m,\u001b[49m\u001b[43m \u001b[49m\u001b[43my_test\u001b[49m\u001b[43m)\u001b[49m\u001b[43m)\u001b[49m\n",
      "File \u001b[0;32m~/miniconda3/envs/xom/lib/python3.9/site-packages/keras/utils/traceback_utils.py:67\u001b[0m, in \u001b[0;36mfilter_traceback.<locals>.error_handler\u001b[0;34m(*args, **kwargs)\u001b[0m\n\u001b[1;32m     65\u001b[0m \u001b[38;5;28;01mexcept\u001b[39;00m \u001b[38;5;167;01mException\u001b[39;00m \u001b[38;5;28;01mas\u001b[39;00m e:  \u001b[38;5;66;03m# pylint: disable=broad-except\u001b[39;00m\n\u001b[1;32m     66\u001b[0m   filtered_tb \u001b[38;5;241m=\u001b[39m _process_traceback_frames(e\u001b[38;5;241m.\u001b[39m__traceback__)\n\u001b[0;32m---> 67\u001b[0m   \u001b[38;5;28;01mraise\u001b[39;00m e\u001b[38;5;241m.\u001b[39mwith_traceback(filtered_tb) \u001b[38;5;28;01mfrom\u001b[39;00m \u001b[38;5;28mNone\u001b[39m\n\u001b[1;32m     68\u001b[0m \u001b[38;5;28;01mfinally\u001b[39;00m:\n\u001b[1;32m     69\u001b[0m   \u001b[38;5;28;01mdel\u001b[39;00m filtered_tb\n",
      "File \u001b[0;32m~/miniconda3/envs/xom/lib/python3.9/site-packages/tensorflow/python/eager/execute.py:54\u001b[0m, in \u001b[0;36mquick_execute\u001b[0;34m(op_name, num_outputs, inputs, attrs, ctx, name)\u001b[0m\n\u001b[1;32m     52\u001b[0m \u001b[38;5;28;01mtry\u001b[39;00m:\n\u001b[1;32m     53\u001b[0m   ctx\u001b[38;5;241m.\u001b[39mensure_initialized()\n\u001b[0;32m---> 54\u001b[0m   tensors \u001b[38;5;241m=\u001b[39m pywrap_tfe\u001b[38;5;241m.\u001b[39mTFE_Py_Execute(ctx\u001b[38;5;241m.\u001b[39m_handle, device_name, op_name,\n\u001b[1;32m     55\u001b[0m                                       inputs, attrs, num_outputs)\n\u001b[1;32m     56\u001b[0m \u001b[38;5;28;01mexcept\u001b[39;00m core\u001b[38;5;241m.\u001b[39m_NotOkStatusException \u001b[38;5;28;01mas\u001b[39;00m e:\n\u001b[1;32m     57\u001b[0m   \u001b[38;5;28;01mif\u001b[39;00m name \u001b[38;5;129;01mis\u001b[39;00m \u001b[38;5;129;01mnot\u001b[39;00m \u001b[38;5;28;01mNone\u001b[39;00m:\n",
      "\u001b[0;31mCancelledError\u001b[0m: Graph execution error:\n\nDetected at node 'replica_2/assert_greater_equal/Assert/AssertGuard/Assert/data_2' defined at (most recent call last):\n    File \"/home/rfradkin/miniconda3/envs/xom/lib/python3.9/threading.py\", line 930, in _bootstrap\n      self._bootstrap_inner()\n    File \"/home/rfradkin/miniconda3/envs/xom/lib/python3.9/threading.py\", line 973, in _bootstrap_inner\n      self.run()\n    File \"/home/rfradkin/miniconda3/envs/xom/lib/python3.9/site-packages/keras/engine/training.py\", line 1000, in run_step\n      outputs = model.train_step(data)\n    File \"/home/rfradkin/miniconda3/envs/xom/lib/python3.9/site-packages/keras/engine/training.py\", line 864, in train_step\n      return self.compute_metrics(x, y, y_pred, sample_weight)\n    File \"/home/rfradkin/miniconda3/envs/xom/lib/python3.9/site-packages/keras/engine/training.py\", line 957, in compute_metrics\n      self.compiled_metrics.update_state(y, y_pred, sample_weight)\n    File \"/home/rfradkin/miniconda3/envs/xom/lib/python3.9/site-packages/keras/engine/compile_utils.py\", line 459, in update_state\n      metric_obj.update_state(y_t, y_p, sample_weight=mask)\n    File \"/home/rfradkin/miniconda3/envs/xom/lib/python3.9/site-packages/keras/utils/metrics_utils.py\", line 70, in decorated\n      update_op = update_state_fn(*args, **kwargs)\n    File \"/home/rfradkin/miniconda3/envs/xom/lib/python3.9/site-packages/keras/metrics.py\", line 178, in update_state_fn\n      return ag_update_state(*args, **kwargs)\n    File \"/home/rfradkin/miniconda3/envs/xom/lib/python3.9/site-packages/keras/metrics.py\", line 1403, in update_state\n      return metrics_utils.update_confusion_matrix_variables(\n    File \"/home/rfradkin/miniconda3/envs/xom/lib/python3.9/site-packages/keras/utils/metrics_utils.py\", line 602, in update_confusion_matrix_variables\n      tf.compat.v1.assert_greater_equal(\nNode: 'replica_2/assert_greater_equal/Assert/AssertGuard/Assert/data_2'\nRecvAsync is cancelled.\n\t [[{{node replica_2/assert_greater_equal/Assert/AssertGuard/Assert/data_2}}]] [Op:__inference_train_function_28584]"
     ]
    }
   ],
   "source": [
    "histo = model.fit(x_train,\n",
    "                  y_train,\n",
    "                  epochs=5,\n",
    "                  batch_size=batch_size,\n",
    "                  callbacks=callb,\n",
    "                  validation_data=(x_test, y_test))"
   ]
  },
  {
   "cell_type": "markdown",
   "metadata": {},
   "source": [
    "#### Continue Training"
   ]
  },
  {
   "cell_type": "raw",
   "metadata": {},
   "source": [
    "model_file = f'padde_cuts-1_3-1637740011.1509235.pkl-0-1637955911.7113917.h5'"
   ]
  },
  {
   "cell_type": "raw",
   "metadata": {},
   "source": [
    "l2_norma_gradi = 0.25\n",
    "learn_rate = 3e-4\n",
    "with mirro_strat.scope(): \n",
    "    model = tf.keras.models.load_model(f'{xom_data_path}plane_moon_model/{model_file}')\n",
    "    opt = tf.keras.optimizers.Nadam(learning_rate=learn_rate,\n",
    "                                    clipnorm=l2_norma_gradi)\n",
    "    model.compile(loss='BinaryCrossentropy',\n",
    "                  optimizer=opt,\n",
    "                  metrics=['accuracy'])"
   ]
  },
  {
   "cell_type": "raw",
   "metadata": {},
   "source": [
    "model.summary()"
   ]
  },
  {
   "cell_type": "raw",
   "metadata": {},
   "source": [
    "barry = model.fit(x_train,\n",
    "                    y_train,\n",
    "                    epochs=20,\n",
    "                    batch_size=20,\n",
    "                    callbacks=callb,\n",
    "                    validation_data=(x_test, y_test))"
   ]
  },
  {
   "cell_type": "raw",
   "metadata": {},
   "source": [
    "model_file = f'{datas}-{barry.barry[\"val_accuracy\"][-1] * 100:.3f}.h5'\n",
    "model_path = f'{xom_data_path}plane_moon_model/{model_file}'\n",
    "model.save(model_path)\n",
    "print(f'Model Path: {model_path}')"
   ]
  },
  {
   "cell_type": "markdown",
   "metadata": {},
   "source": [
    "### Testing"
   ]
  },
  {
   "cell_type": "code",
   "execution_count": 12,
   "metadata": {},
   "outputs": [],
   "source": [
    "# Set True if want to use the full dataset, not\n",
    "# just the testing dataset\n",
    "full_datas = True\n",
    "\n",
    "# Specify start and stop if want to use a section\n",
    "# of the data\n",
    "start = 0\n",
    "stop = None\n",
    "\n",
    "if full_datas:\n",
    "    x_full_predi_data = norma_full_x_data[start:stop]\n",
    "    x_predi_data = x_data[start:stop]\n",
    "    y_predi_data = y_data[start:stop]\n",
    "else:\n",
    "    x_full_predi_data = full_x_test[start:stop]\n",
    "    x_predi_data = x_test[start:stop]\n",
    "    y_predi_data = y_test_np[start:stop]"
   ]
  },
  {
   "cell_type": "code",
   "execution_count": 13,
   "metadata": {},
   "outputs": [
    {
     "name": "stdout",
     "output_type": "stream",
     "text": [
      "WARNING:tensorflow:Error in loading the saved optimizer state. As a result, your model is starting with a freshly initialized optimizer.\n"
     ]
    }
   ],
   "source": [
    "model_file = f'combi-padde_cuts-1255247-1644454393.pkl-0-1645790147.h5'\n",
    "model = tf.keras.models.load_model(f'{xom_data_path}plane_moon_model/{model_file}');"
   ]
  },
  {
   "cell_type": "code",
   "execution_count": 14,
   "metadata": {},
   "outputs": [],
   "source": [
    "# Make predictions\n",
    "predi = model.predict(x_predi_data).squeeze()"
   ]
  },
  {
   "cell_type": "code",
   "execution_count": 15,
   "metadata": {},
   "outputs": [],
   "source": [
    "cutof = 0.5"
   ]
  },
  {
   "cell_type": "code",
   "execution_count": 16,
   "metadata": {},
   "outputs": [
    {
     "data": {
      "image/png": "[encoded data removed]",
      "text/plain": [
       "<Figure size 432x360 with 2 Axes>"
      ]
     },
     "metadata": {
      "needs_background": "light"
     },
     "output_type": "display_data"
    }
   ],
   "source": [
    "utils.show_confu_matri(x_full_predi_data, predi, cutof)#, 'stell_radiu', 5)"
   ]
  },
  {
   "cell_type": "code",
   "execution_count": 19,
   "metadata": {},
   "outputs": [],
   "source": [
    "from tensorflow.keras import backend as K\n",
    "from tf_keras_vis.saliency import Saliency\n",
    "# from tf_keras_vis.utils import normalize"
   ]
  },
  {
   "cell_type": "code",
   "execution_count": 21,
   "metadata": {},
   "outputs": [],
   "source": [
    "from tf_keras_vis.utils.model_modifiers import ReplaceToLinear\n",
    "\n",
    "replace2linear = ReplaceToLinear()"
   ]
  },
  {
   "cell_type": "code",
   "execution_count": 22,
   "metadata": {},
   "outputs": [],
   "source": [
    "# Create Saliency object.\n",
    "saliency = Saliency(model,\n",
    "                    model_modifier=replace2linear,\n",
    "                    clone=True)"
   ]
  },
  {
   "cell_type": "raw",
   "metadata": {},
   "source": [
    "utils.log_predi_infor(x_full_predi_data, predi, f'{xom_data_path}predi_log/', model_file, datas)"
   ]
  },
  {
   "cell_type": "raw",
   "metadata": {},
   "source": [
    "utils.show_curve(x_full_predi_data, [9279, 9299], ['moon_numbe', 'ratio_moon_stell_radiu', 'ratio_moon_plane_radiu'], \n",
    "                highl_injec=True)"
   ]
  },
  {
   "cell_type": "code",
   "execution_count": null,
   "metadata": {},
   "outputs": [],
   "source": [
    "utils.show_featu_preci_recal(x_full_predi_data,\n",
    "                       predi,\n",
    "                       y_predi_data,\n",
    "                       cutof,\n",
    "                       featu='moon_radiu',\n",
    "                       bins=25,\n",
    "                       equal_width_bins=True,\n",
    "                       stand_axis=True)\n",
    "# Possible third axis with AUC\n",
    "# AUC in red overplotted"
   ]
  },
  {
   "cell_type": "code",
   "execution_count": null,
   "metadata": {},
   "outputs": [],
   "source": [
    "importlib.reload(utils)"
   ]
  },
  {
   "cell_type": "code",
   "execution_count": null,
   "metadata": {},
   "outputs": [],
   "source": [
    "# can you have a false positive rate as a function of moon radius??"
   ]
  },
  {
   "cell_type": "raw",
   "metadata": {},
   "source": [
    "utils.show_tpr_fpr(x_full_predi_data, predi, cutof, 'moon_radiu', 10, False)"
   ]
  },
  {
   "cell_type": "code",
   "execution_count": null,
   "metadata": {},
   "outputs": [],
   "source": [
    "utils.show_preci_recal(predi, y_predi_data, cutof)"
   ]
  },
  {
   "cell_type": "code",
   "execution_count": null,
   "metadata": {},
   "outputs": [],
   "source": [
    "utils.show_roc(predi, y_predi_data, cutof)"
   ]
  },
  {
   "cell_type": "code",
   "execution_count": null,
   "metadata": {},
   "outputs": [],
   "source": [
    "utils.show_histo(norma_full_x_data, 'moon_radiu')"
   ]
  },
  {
   "cell_type": "raw",
   "metadata": {},
   "source": [
    "utils.show_predi_compa(x_full_predi_data, predi, cutof, [0,30], 'true')"
   ]
  },
  {
   "cell_type": "markdown",
   "metadata": {},
   "source": [
    "#### Formatting"
   ]
  },
  {
   "cell_type": "raw",
   "metadata": {},
   "source": [
    "forma = \\\n",
    "'''\n",
    "def show_featu_preci_recal(data,\n",
    "                           predi,\n",
    "                           y_data,\n",
    "                           cutof,\n",
    "                           featu=None,\n",
    "                           bins=20,\n",
    "                           equal_width_bins=True,\n",
    "                           stand_axis=True,\n",
    "                           trans_type='plane_moon_cut_injec',\n",
    "                           save_figur_path='',\n",
    "                           figur_chara={'figsize': [15, 5]},\n",
    "                           title_chara={'size':16},\n",
    "                           x_chara={'size':14},\n",
    "                           y_left_chara={'c':'blue', 'size':14},\n",
    "                           y_right_chara={'c':'green', 'size':14},\n",
    "                           legen_left_chara={'loc':'upper left'},\n",
    "                           legen_right_chara={'loc':'upper right'}):\n",
    "\n",
    "    # Plot standard precision and recall curve\n",
    "    if featu is None or featu == 'predi' or data is None:\n",
    "        show_preci_recal(predi, y_data, cutof, save_figur_path, width, heigh)\n",
    "    # Plot precision and recall as a function of a numerical feature\n",
    "    else:\n",
    "        binne_data = utils.bin_data(data, featu, bins, equal_width_bins)\n",
    "        preci = []\n",
    "        recal = []\n",
    "        previ_infor_lengt = 0\n",
    "        for i in range(len(binne_data)):\n",
    "            tp = 0\n",
    "            fp = 0\n",
    "            fn = 0\n",
    "            for ii in range(len(binne_data[i])):\n",
    "                # Keep track of true positives, false positives, and false negatives\n",
    "                tp += data[binne_data[i][ii][0].astype(int), -1, 1][trans_type] and \\\n",
    "predi[previ_infor_lengt + ii] > cutof\n",
    "                fp += not data[\n",
    "                    binne_data[i][ii][0].astype(int), -1,\n",
    "                    1][trans_type] and predi[previ_infor_lengt +\n",
    "                                             ii] > cutof\n",
    "                fn += data[binne_data[i][ii][0].astype(int), -1,\n",
    "                                        1][trans_type] and not predi[\n",
    "                                            previ_infor_lengt + ii] > cutof\n",
    "            # If divide by 0, ignore\n",
    "            try:\n",
    "                if tp or fp:\n",
    "                    # Calculate precision\n",
    "                    preci.append([np.mean(binne_data[i][:, 1]), tp / (tp + fp)])\n",
    "            except:\n",
    "                pass\n",
    "            try:\n",
    "                if tp or fn:\n",
    "                    # Calculate the recall\n",
    "                    recal.append([np.mean(binne_data[i][:, 1]), tp / (tp + fn)])\n",
    "            except:\n",
    "                pass\n",
    "            previ_infor_lengt += len(binne_data[i])\n",
    "        # Convert precision and recall from lists to numpy arrays\n",
    "        preci = np.array(preci)\n",
    "        recal = np.array(recal)\n",
    "        # Create a plot\n",
    "        figur, axes1 = plt.subplots(1, 1, **figur_chara)\n",
    "        axes2 = axes1.twinx()\n",
    "\n",
    "\n",
    "        axes1.plot(preci[:, 0],\n",
    "                   preci[:, 1],\n",
    "                   c=y_left_chara['c'])\n",
    "        axes2.plot(recal[:, 0],\n",
    "                   recal[:, 1],\n",
    "                   c=y_right_chara['c'])\n",
    "        \n",
    "        # Standardize the axis values from 0 to 1\n",
    "        if stand_axis:\n",
    "            axes1.set_ylim([0, 1])\n",
    "            axes2.set_ylim([0, 1])\n",
    "\n",
    "        # Set labels\n",
    "        axes1.set_ylabel('Precision', **y_left_chara)\n",
    "        axes2.set_ylabel('Recall', **y_right_chara)\n",
    "#         axes1.legend(**legen_left_chara)\n",
    "#         axes2.legend(**legen_right_chara)\n",
    "        axes1.set_xlabel(f'{data[0, -1, 1][\"forma_names\"][featu]}',\n",
    "                         **x_chara)\n",
    "        # Remove units from title\n",
    "        axes1.set_title(\n",
    "            f'Precision and Recall as a Function of {data[0, -1, 1][\"forma_names\"][featu].split(\" [\")[0]}',\n",
    "            **title_chara)\n",
    "\n",
    "        figur.tight_layout()\n",
    "        if save_figur_path:\n",
    "            plt.savefig(f'{save_figur_path}pr_curve-{float(time.time())}.pdf')\n",
    "        figur.show()\n",
    "'''\n",
    "forma_done = FormatCode(forma, style_config='PEP8')\n",
    "print(forma_done[0])"
   ]
  },
  {
   "cell_type": "code",
   "execution_count": null,
   "metadata": {},
   "outputs": [],
   "source": []
  }
 ],
 "metadata": {
  "accelerator": "TPU",
  "colab": {
   "collapsed_sections": [],
   "name": "RNN_V2.ipynb",
   "provenance": []
  },
  "kernelspec": {
   "display_name": "xom",
   "language": "python",
   "name": "xom"
  },
  "language_info": {
   "codemirror_mode": {
    "name": "ipython",
    "version": 3
   },
   "file_extension": ".py",
   "mimetype": "text/x-python",
   "name": "python",
   "nbconvert_exporter": "python",
   "pygments_lexer": "ipython3",
   "version": "3.9.7"
  }
 },
 "nbformat": 4,
 "nbformat_minor": 4
}
