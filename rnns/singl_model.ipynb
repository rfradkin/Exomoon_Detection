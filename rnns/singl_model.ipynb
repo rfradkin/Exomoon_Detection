{
 "cells": [
  {
   "cell_type": "raw",
   "metadata": {},
   "source": [
    "Formatting Guide:\n",
    "- Use yapf for PEP8 style guide (FormatCode())\n",
    "- Use blank lines sparingly, shows change in logic/focus\n",
    "- Variable names should be the first five letters of the description\n",
    "- Comment Code Accordingly\n",
    "- Anything with ### above and below needs to be updated\n",
    "\n",
    "Other Notes:\n",
    "- Fix logging function\n",
    "- Add feature to dictionary specifying whether the cut contains a transit of any kind, to be used with graphing functions where transit type matters, also simplifys otther shit"
   ]
  },
  {
   "cell_type": "code",
   "execution_count": 1,
   "metadata": {},
   "outputs": [],
   "source": [
    "# Standard libraries\n",
    "import sys\n",
    "import math\n",
    "import random\n",
    "import time\n",
    "import os\n",
    "\n",
    "# Third-party imports\n",
    "import numpy as np\n",
    "import pandas as pd\n",
    "import pickle as pkl\n",
    "\n",
    "import matplotlib.pyplot as plt\n",
    "\n",
    "import tensorflow as tf\n",
    "from tensorflow import keras\n",
    "from tensorflow.keras import layers\n",
    "\n",
    "from tensorflow.keras.callbacks import TensorBoard, EarlyStopping\n",
    "\n",
    "import importlib\n",
    "from yapf.yapflib.yapf_api import FormatCode\n",
    "import GPUtil\n",
    "\n",
    "# Project imports\n",
    "import ephesus\n",
    "import utils\n",
    "from const import *"
   ]
  },
  {
   "cell_type": "markdown",
   "metadata": {},
   "source": [
    "### GPU Setup"
   ]
  },
  {
   "cell_type": "raw",
   "metadata": {},
   "source": [
    "GPUtil.showUtilization()"
   ]
  },
  {
   "cell_type": "code",
   "execution_count": 2,
   "metadata": {},
   "outputs": [
    {
     "name": "stdout",
     "output_type": "stream",
     "text": [
      "WARNING:tensorflow:NCCL is not supported when using virtual GPUs, fallingback to reduction to one device\n",
      "INFO:tensorflow:Using MirroredStrategy with devices ('/job:localhost/replica:0/task:0/device:GPU:0', '/job:localhost/replica:0/task:0/device:GPU:1')\n"
     ]
    }
   ],
   "source": [
    "# Specific GPUs\n",
    "gpus = tf.config.experimental.list_physical_devices('GPU')\n",
    "tf.config.set_visible_devices(gpus[2:4], 'GPU')\n",
    "for gpu in gpus:\n",
    "    tf.config.experimental.set_memory_growth(gpu, True)\n",
    "mirro_strat = tf.distribute.MirroredStrategy()"
   ]
  },
  {
   "cell_type": "markdown",
   "metadata": {},
   "source": [
    "### Data Preprocessing"
   ]
  },
  {
   "cell_type": "code",
   "execution_count": 3,
   "metadata": {
    "id": "oJZltv7qiPYr"
   },
   "outputs": [
    {
     "name": "stdout",
     "output_type": "stream",
     "text": [
      "Most recent file: padde_cuts-34745-2850-6998.pkl\n"
     ]
    }
   ],
   "source": [
    "# Find the most recent file in injec_curve\n",
    "# datas = utils.retur_most_recen(f'{xom_data_path}padde_cuts/')\n",
    "datas = 'padde_cuts-34745-2850-6998.pkl'\n",
    "print(f'Most recent file: {datas}')\n",
    "\n",
    "with open(f'{xom_data_path}padde_cuts/{datas}','rb') as f:\n",
    "    raw_x_data = pkl.load(f)"
   ]
  },
  {
   "cell_type": "code",
   "execution_count": 4,
   "metadata": {},
   "outputs": [],
   "source": [
    "# Dataset composition setup\n",
    "DETEC_TYPE = 'plane_moon_cut_injec'\n",
    "NUMBE_RELEV = 2000\n",
    "NUMBE_IRREL = 2000"
   ]
  },
  {
   "cell_type": "code",
   "execution_count": 5,
   "metadata": {},
   "outputs": [
    {
     "name": "stdout",
     "output_type": "stream",
     "text": [
      "50.00% of the dataset contains a full injection\n"
     ]
    }
   ],
   "source": [
    "# Separate full dataset into relevant and irrelevant components\n",
    "full_relev_index = []\n",
    "for i in range(len(raw_x_data)):\n",
    "    if raw_x_data[i, -1, 1][DETEC_TYPE]:\n",
    "        full_relev_index.append(i)\n",
    "        \n",
    "# Take a random sample of a relevant\n",
    "relev_index = random.sample(full_relev_index, NUMBE_RELEV)\n",
    "relev_curve = np.copy(raw_x_data[relev_index])\n",
    "# Take a random sample of a irrelevant\n",
    "irrel_curve = np.delete(raw_x_data, full_relev_index, axis=0)\n",
    "irrel_curve = irrel_curve[utils.retur_rando_sampl(NUMBE_IRREL, len(irrel_curve))]\n",
    "\n",
    "# Shuffle the order of the data\n",
    "rando_shuff_x_data = np.concatenate((relev_curve, irrel_curve), axis=0)\n",
    "np.random.shuffle(rando_shuff_x_data)\n",
    "\n",
    "# Normalize the data from 0 to 1\n",
    "norma_full_x_data = np.copy(rando_shuff_x_data)\n",
    "x_data = np.copy(rando_shuff_x_data[:, :-1, 1].astype(float))\n",
    "\n",
    "for i in range(len(x_data)):\n",
    "    chang_slots = np.where(x_data[i] != 0)[0]\n",
    "    x_data[i, chang_slots] = utils.norma_data(x_data[i, chang_slots])\n",
    "    norma_full_x_data[i, :-1, 1] = x_data[i]\n",
    "\n",
    "x_data = np.expand_dims(x_data, 2)\n",
    "\n",
    "# Create the corresponding y dataset\n",
    "y_data = np.zeros(len(norma_full_x_data))\n",
    "for i in range(len(norma_full_x_data)):\n",
    "    y_data[i] = norma_full_x_data[i, -1, 1][DETEC_TYPE]\n",
    "\n",
    "print(\n",
    "    f'{sum(y_data)/len(y_data):.2%} of the dataset contains a full injection')"
   ]
  },
  {
   "cell_type": "code",
   "execution_count": 6,
   "metadata": {},
   "outputs": [],
   "source": [
    "# Split the data into training and testing\n",
    "\n",
    "stop = len(x_data) - len(y_data) % 100\n",
    "split = int(stop * 0.7)\n",
    "    \n",
    "x_train_np = np.array(x_data[:split])\n",
    "full_x_train = norma_full_x_data[:split]\n",
    "x_test_np = np.array(x_data[split:stop])\n",
    "full_x_test = norma_full_x_data[split:stop]\n",
    "y_train_np = y_data[:split]\n",
    "y_test_np = y_data[split:stop]"
   ]
  },
  {
   "cell_type": "code",
   "execution_count": 7,
   "metadata": {},
   "outputs": [],
   "source": [
    "# Remove non-full batches (because they cause problems)\n",
    "BATCH_SIZE = 100\n",
    "\n",
    "# If no remainder, skip\n",
    "if x_train_np.shape[0] % BATCH_SIZE:\n",
    "    x_train_np = x_train_np[:-(x_train_np.shape[0] % BATCH_SIZE)]\n",
    "    full_x_train = full_x_train[:-(full_x_train.shape[0] % BATCH_SIZE)]\n",
    "    y_train_np = y_train_np[:-(y_train_np.shape[0] % BATCH_SIZE)]\n",
    "\n",
    "if x_test_np.shape[0] % BATCH_SIZE:\n",
    "    x_test_np = x_test_np[:-(x_test_np.shape[0] % BATCH_SIZE)]\n",
    "    full_x_test = full_x_test[:-(full_x_test.shape[0] % BATCH_SIZE)]\n",
    "    y_test_np = y_test_np[:-(y_test_np.shape[0] % BATCH_SIZE)]"
   ]
  },
  {
   "cell_type": "code",
   "execution_count": 8,
   "metadata": {},
   "outputs": [],
   "source": [
    "# Convert to tensors\n",
    "x_train = tf.convert_to_tensor(x_train_np)\n",
    "x_test = tf.convert_to_tensor(x_test_np)\n",
    "y_train = tf.convert_to_tensor(y_train_np)\n",
    "y_test = tf.convert_to_tensor(y_test_np)"
   ]
  },
  {
   "cell_type": "code",
   "execution_count": 9,
   "metadata": {},
   "outputs": [],
   "source": [
    "# Baseline calculations for email updates\n",
    "# Baseline accuracy, precision, and recall are all the same\n",
    "basel_value = sum(y_test_np) / len(y_test_np) \n",
    "if basel_value < 0.5:\n",
    "    basel_value = 1 - basel_value"
   ]
  },
  {
   "cell_type": "markdown",
   "metadata": {},
   "source": [
    "### Training"
   ]
  },
  {
   "cell_type": "code",
   "execution_count": 27,
   "metadata": {},
   "outputs": [],
   "source": [
    "# Max number of epochs\n",
    "EPOCH = 20\n",
    "# Early stopping patience\n",
    "PATIE = 4"
   ]
  },
  {
   "cell_type": "code",
   "execution_count": 28,
   "metadata": {},
   "outputs": [],
   "source": [
    "# Callbacks\n",
    "\n",
    "# tensorboard = TensorBoard(log_dir=f'{main_path}tensorboard/{datas}_{int(time.time())}')\n",
    "early_stopp = EarlyStopping(monitor='val_accuracy', patience=PATIE)\n",
    "resto_valid_accur = utils.resto_best_valid_accur()\n",
    "email_train_progr = utils.email_train_progr()\n",
    "\n",
    "callb = [resto_valid_accur, early_stopp, email_train_progr]#, tensorboard]"
   ]
  },
  {
   "cell_type": "markdown",
   "metadata": {},
   "source": [
    "#### New Model"
   ]
  },
  {
   "cell_type": "code",
   "execution_count": 33,
   "metadata": {},
   "outputs": [],
   "source": [
    "# Model\n",
    "\n",
    "l2_norma_gradi = 0.25\n",
    "with mirro_strat.scope():\n",
    "    model = keras.Sequential()\n",
    "    \n",
    "    model.add(layers.Masking(mask_value=0.0,input_shape=(1900, 1)))\n",
    "    \n",
    "    model.add(\n",
    "        layers.GRU(68,\n",
    "                   activation='tanh',\n",
    "                   return_sequences=True))\n",
    "    model.add(layers.GRU(48, activation='tanh'))\n",
    "\n",
    "    model.add(layers.Dense(40, activation='tanh'))\n",
    "    model.add(layers.Dropout(0.15))\n",
    "\n",
    "    model.add(layers.Dense(16, activation='tanh'))\n",
    "    model.add(layers.Dropout(0.15))\n",
    "\n",
    "    model.add(layers.Dense(1, activation='sigmoid'))\n",
    "\n",
    "    opt = tf.keras.optimizers.Nadam(learning_rate=3e-4)\n",
    "    \n",
    "    # Metrics\n",
    "    metri = ['accuracy']#,precisionL, recallL, Precision(), Recall()]\n",
    "    \n",
    "    model.compile(loss='BinaryCrossentropy',\n",
    "                  optimizer=opt,\n",
    "                  metrics=metri)"
   ]
  },
  {
   "cell_type": "code",
   "execution_count": 59,
   "metadata": {},
   "outputs": [
    {
     "name": "stdout",
     "output_type": "stream",
     "text": [
      "Model: \"sequential_10\"\n",
      "_________________________________________________________________\n",
      "Layer (type)                 Output Shape              Param #   \n",
      "=================================================================\n",
      "masking_8 (Masking)          (None, 1900, 1)           0         \n",
      "_________________________________________________________________\n",
      "gru_20 (GRU)                 (None, 1900, 68)          14484     \n",
      "_________________________________________________________________\n",
      "gru_21 (GRU)                 (None, 48)                16992     \n",
      "_________________________________________________________________\n",
      "dense_30 (Dense)             (None, 40)                1960      \n",
      "_________________________________________________________________\n",
      "dropout_20 (Dropout)         (None, 40)                0         \n",
      "_________________________________________________________________\n",
      "dense_31 (Dense)             (None, 16)                656       \n",
      "_________________________________________________________________\n",
      "dropout_21 (Dropout)         (None, 16)                0         \n",
      "_________________________________________________________________\n",
      "dense_32 (Dense)             (None, 1)                 17        \n",
      "=================================================================\n",
      "Total params: 34,109\n",
      "Trainable params: 34,109\n",
      "Non-trainable params: 0\n",
      "_________________________________________________________________\n"
     ]
    }
   ],
   "source": [
    "model.summary()"
   ]
  },
  {
   "cell_type": "code",
   "execution_count": 60,
   "metadata": {},
   "outputs": [
    {
     "name": "stdout",
     "output_type": "stream",
     "text": [
      "Epoch 1/2\n",
      "3/3 [==============================] - 8s 3s/step - recall_7: 0.9821 - accuracy: 0.3867 - recallL: 0.9828 - precision_7: 0.3767 - precisionL: 0.3767 - loss: 0.7024 - val_recall_7: 0.9545 - val_accuracy: 0.4400 - val_recallL: 0.9530 - val_precision_7: 0.4375 - val_precisionL: 0.4375 - val_loss: 0.6959\n",
      "Epoch 2/2\n",
      "3/3 [==============================] - 5s 2s/step - recall_7: 0.6607 - accuracy: 0.4633 - recallL: 0.6501 - precision_7: 0.3756 - precisionL: 0.3832 - loss: 0.6950 - val_recall_7: 0.0227 - val_accuracy: 0.5400 - val_recallL: 0.0192 - val_precision_7: 0.2500 - val_precisionL: 0.2500 - val_loss: 0.6924\n",
      "\n",
      "Restoring model weights from the end of the best epoch (56.0%).\n"
     ]
    }
   ],
   "source": [
    "histo = model.fit(x_train,\n",
    "                  y_train,\n",
    "                  epochs=2,\n",
    "                  batch_size=BATCH_SIZE,\n",
    "                  callbacks=callb,\n",
    "                  validation_data=(x_test, y_test))"
   ]
  },
  {
   "cell_type": "code",
   "execution_count": 82,
   "metadata": {},
   "outputs": [],
   "source": [
    "t = model.predict(x_train).squeeze()"
   ]
  },
  {
   "cell_type": "code",
   "execution_count": 81,
   "metadata": {},
   "outputs": [],
   "source": [
    "def get_saliency_map(model, image, class_idx):\n",
    "    with tf.GradientTape() as tape:\n",
    "        tape.watch(image)\n",
    "        predictions = model(image)\n",
    "\n",
    "        loss = predictions[:, class_idx]\n",
    "    \n",
    "    # Get the gradients of the loss w.r.t to the input image.\n",
    "    gradient = tape.gradient(loss, image)\n",
    "    \n",
    "    # take maximum across channels\n",
    "    gradient = tf.reduce_max(gradient, axis=-1)\n",
    "    \n",
    "    # convert to numpy\n",
    "    gradient = gradient.numpy()\n",
    "    smap = gradient\n",
    "    # normaliz between 0 and 1\n",
    "    min_val, max_val = np.min(gradient), np.max(gradient)\n",
    "    smap = (gradient - min_val) / (max_val - min_val + keras.backend.epsilon())\n",
    "    \n",
    "    return smap"
   ]
  },
  {
   "cell_type": "code",
   "execution_count": null,
   "metadata": {},
   "outputs": [],
   "source": [
    "### DOUBLE CHECK IF PRECISION AND RECALL (MAINLY RECALL) CALCULATIONS ARE CORRECT"
   ]
  },
  {
   "cell_type": "code",
   "execution_count": 92,
   "metadata": {},
   "outputs": [
    {
     "data": {
      "text/plain": [
       "<tf.Tensor: shape=(100,), dtype=float64, numpy=\n",
       "array([1., 0., 0., 0., 1., 0., 0., 0., 0., 0., 1., 0., 0., 0., 0., 1., 1.,\n",
       "       1., 0., 0., 0., 0., 0., 1., 0., 1., 0., 1., 0., 1., 0., 0., 0., 1.,\n",
       "       0., 1., 0., 0., 1., 0., 0., 1., 0., 1., 0., 0., 1., 1., 0., 1., 1.,\n",
       "       0., 0., 0., 0., 1., 1., 1., 1., 1., 1., 1., 1., 1., 0., 1., 0., 0.,\n",
       "       0., 0., 0., 1., 1., 1., 0., 1., 0., 0., 0., 0., 1., 0., 0., 1., 1.,\n",
       "       0., 0., 1., 1., 0., 0., 1., 1., 1., 0., 1., 1., 0., 1., 0.])>"
      ]
     },
     "execution_count": 92,
     "metadata": {},
     "output_type": "execute_result"
    }
   ],
   "source": [
    "y_test"
   ]
  },
  {
   "cell_type": "code",
   "execution_count": 83,
   "metadata": {},
   "outputs": [],
   "source": [
    "a = get_saliency_map(model, x_train, 0)"
   ]
  },
  {
   "cell_type": "code",
   "execution_count": 65,
   "metadata": {},
   "outputs": [
    {
     "data": {
      "text/plain": [
       "(300, 1900)"
      ]
     },
     "execution_count": 65,
     "metadata": {},
     "output_type": "execute_result"
    }
   ],
   "source": [
    "a.shape"
   ]
  },
  {
   "cell_type": "code",
   "execution_count": 84,
   "metadata": {},
   "outputs": [],
   "source": [
    "num=0"
   ]
  },
  {
   "cell_type": "code",
   "execution_count": 85,
   "metadata": {},
   "outputs": [
    {
     "data": {
      "text/plain": [
       "<tf.Tensor: shape=(1900, 1), dtype=float64, numpy=\n",
       "array([[0.        ],\n",
       "       [0.        ],\n",
       "       [0.        ],\n",
       "       ...,\n",
       "       [0.15492968],\n",
       "       [0.43963622],\n",
       "       [0.37184931]])>"
      ]
     },
     "execution_count": 85,
     "metadata": {},
     "output_type": "execute_result"
    }
   ],
   "source": [
    "x_train[num]"
   ]
  },
  {
   "cell_type": "code",
   "execution_count": 86,
   "metadata": {},
   "outputs": [
    {
     "data": {
      "text/plain": [
       "<tf.Tensor: shape=(), dtype=float64, numpy=1.0>"
      ]
     },
     "execution_count": 86,
     "metadata": {},
     "output_type": "execute_result"
    }
   ],
   "source": [
    "y_train[num]"
   ]
  },
  {
   "cell_type": "code",
   "execution_count": 91,
   "metadata": {},
   "outputs": [
    {
     "data": {
      "text/plain": [
       "0.49406725"
      ]
     },
     "execution_count": 91,
     "metadata": {},
     "output_type": "execute_result"
    }
   ],
   "source": [
    "max(t)"
   ]
  },
  {
   "cell_type": "code",
   "execution_count": 87,
   "metadata": {},
   "outputs": [
    {
     "data": {
      "text/plain": [
       "[<matplotlib.lines.Line2D at 0x7f02c7866520>]"
      ]
     },
     "execution_count": 87,
     "metadata": {},
     "output_type": "execute_result"
    },
    {
     "data": {
      "image/png": "[encoded data removed]",
      "text/plain": [
       "<Figure size 1440x360 with 1 Axes>"
      ]
     },
     "metadata": {
      "needs_background": "light"
     },
     "output_type": "display_data"
    }
   ],
   "source": [
    "plt.figure(figsize=(20,5))\n",
    "plt.plot(x_train[num])"
   ]
  },
  {
   "cell_type": "code",
   "execution_count": 88,
   "metadata": {},
   "outputs": [
    {
     "data": {
      "image/png": "[encoded data removed]",
      "text/plain": [
       "<Figure size 1080x360 with 1 Axes>"
      ]
     },
     "metadata": {
      "needs_background": "light"
     },
     "output_type": "display_data"
    }
   ],
   "source": [
    "utils.show_curve(full_x_train, [num,num+1], highl_injec=1)"
   ]
  },
  {
   "cell_type": "code",
   "execution_count": 89,
   "metadata": {},
   "outputs": [
    {
     "data": {
      "text/plain": [
       "[<matplotlib.lines.Line2D at 0x7f02d99591f0>]"
      ]
     },
     "execution_count": 89,
     "metadata": {},
     "output_type": "execute_result"
    },
    {
     "data": {
      "image/png": "[encoded data removed]",
      "text/plain": [
       "<Figure size 1440x360 with 1 Axes>"
      ]
     },
     "metadata": {
      "needs_background": "light"
     },
     "output_type": "display_data"
    }
   ],
   "source": [
    "plt.figure(figsize=(20,5))\n",
    "# print(np.where(a[num]<.99999)[0])\n",
    "data = a[num][np.where(a[num]<.99999)]\n",
    "# data = a[num]\n",
    "plt.plot(data)"
   ]
  },
  {
   "cell_type": "code",
   "execution_count": null,
   "metadata": {},
   "outputs": [],
   "source": []
  },
  {
   "cell_type": "code",
   "execution_count": 20,
   "metadata": {},
   "outputs": [
    {
     "data": {
      "text/plain": [
       "<module 'utils' from '/home/rfradkin/xom/py_script/utils.py'>"
      ]
     },
     "execution_count": 20,
     "metadata": {},
     "output_type": "execute_result"
    }
   ],
   "source": [
    "importlib.reload(utils)"
   ]
  },
  {
   "cell_type": "code",
   "execution_count": null,
   "metadata": {},
   "outputs": [],
   "source": []
  },
  {
   "cell_type": "code",
   "execution_count": 14,
   "metadata": {},
   "outputs": [
    {
     "data": {
      "text/plain": [
       "<tf.Tensor: shape=(1900, 1), dtype=float32, numpy=\n",
       "array([[0.        ],\n",
       "       [0.        ],\n",
       "       [0.        ],\n",
       "       ...,\n",
       "       [0.3456196 ],\n",
       "       [0.4307573 ],\n",
       "       [0.33911946]], dtype=float32)>"
      ]
     },
     "execution_count": 14,
     "metadata": {},
     "output_type": "execute_result"
    }
   ],
   "source": [
    "x_train[0]"
   ]
  },
  {
   "cell_type": "markdown",
   "metadata": {},
   "source": [
    "#### Continue Training"
   ]
  },
  {
   "cell_type": "raw",
   "metadata": {},
   "source": [
    "model_file = f'padde_cuts-1_3-1637740011.1509235.pkl-0-1637955911.7113917.h5'"
   ]
  },
  {
   "cell_type": "raw",
   "metadata": {},
   "source": [
    "l2_norma_gradi = 0.25\n",
    "learn_rate = 3e-4\n",
    "with mirro_strat.scope(): \n",
    "    model = tf.keras.models.load_model(f'{xom_data_path}plane_moon_model/{model_file}')\n",
    "    opt = tf.keras.optimizers.Nadam(learning_rate=learn_rate,\n",
    "                                    clipnorm=l2_norma_gradi)\n",
    "    model.compile(loss='BinaryCrossentropy',\n",
    "                  optimizer=opt,\n",
    "                  metrics=['accuracy'])"
   ]
  },
  {
   "cell_type": "raw",
   "metadata": {},
   "source": [
    "model.summary()"
   ]
  },
  {
   "cell_type": "raw",
   "metadata": {},
   "source": [
    "barry = model.fit(x_train,\n",
    "                    y_train,\n",
    "                    epochs=20,\n",
    "                    batch_size=20,\n",
    "                    callbacks=callb,\n",
    "                    validation_data=(x_test, y_test))"
   ]
  },
  {
   "cell_type": "raw",
   "metadata": {},
   "source": [
    "model_file = f'{datas}-{barry.barry[\"val_accuracy\"][-1] * 100:.3f}.h5'\n",
    "model_path = f'{xom_data_path}plane_moon_model/{model_file}'\n",
    "model.save(model_path)\n",
    "print(f'Model Path: {model_path}')"
   ]
  },
  {
   "cell_type": "markdown",
   "metadata": {},
   "source": [
    "### Testing"
   ]
  },
  {
   "cell_type": "code",
   "execution_count": 10,
   "metadata": {},
   "outputs": [],
   "source": [
    "# Set True if want to use the full dataset, not\n",
    "# just the testing dataset\n",
    "full_datas = True\n",
    "\n",
    "# Specify start and stop if want to use a section\n",
    "# of the data\n",
    "start = 0\n",
    "stop = None\n",
    "\n",
    "if full_datas:\n",
    "    x_full_predi_data = norma_full_x_data[start:stop]\n",
    "    x_predi_data = x_data[start:stop]\n",
    "    y_predi_data = y_data[start:stop]\n",
    "else:\n",
    "    x_full_predi_data = full_x_test[start:stop]\n",
    "    x_predi_data = x_test[start:stop]\n",
    "    y_predi_data = y_test_np[start:stop]"
   ]
  },
  {
   "cell_type": "code",
   "execution_count": 12,
   "metadata": {},
   "outputs": [],
   "source": [
    "dependencies = {\n",
    "    'precision': utils.preci,\n",
    "    'recall':utils.recal\n",
    "}"
   ]
  },
  {
   "cell_type": "code",
   "execution_count": 13,
   "metadata": {},
   "outputs": [],
   "source": [
    "model_file = f'combi-padde_cuts-345235-30352-72662.pkl-0-1651107218.h5'\n",
    "model = tf.keras.models.load_model(f'{xom_data_path}plane_moon_model/{model_file}',custom_objects=dependencies);"
   ]
  },
  {
   "cell_type": "code",
   "execution_count": 14,
   "metadata": {},
   "outputs": [],
   "source": [
    "# Make predictions\n",
    "predi = model.predict(x_predi_data).squeeze()"
   ]
  },
  {
   "cell_type": "code",
   "execution_count": 25,
   "metadata": {},
   "outputs": [],
   "source": [
    "cutof = 0.505"
   ]
  },
  {
   "cell_type": "code",
   "execution_count": 26,
   "metadata": {},
   "outputs": [
    {
     "data": {
      "image/png": "[encoded data removed]",
      "text/plain": [
       "<Figure size 432x360 with 2 Axes>"
      ]
     },
     "metadata": {},
     "output_type": "display_data"
    }
   ],
   "source": [
    "utils.show_confu_matri(x_full_predi_data, predi, cutof)#, 'stell_radiu', 5)"
   ]
  },
  {
   "cell_type": "code",
   "execution_count": 19,
   "metadata": {},
   "outputs": [],
   "source": [
    "from tensorflow.keras import backend as K\n",
    "from tf_keras_vis.saliency import Saliency\n",
    "# from tf_keras_vis.utils import normalize"
   ]
  },
  {
   "cell_type": "code",
   "execution_count": 21,
   "metadata": {},
   "outputs": [],
   "source": [
    "from tf_keras_vis.utils.model_modifiers import ReplaceToLinear\n",
    "\n",
    "replace2linear = ReplaceToLinear()"
   ]
  },
  {
   "cell_type": "code",
   "execution_count": 22,
   "metadata": {},
   "outputs": [],
   "source": [
    "# Create Saliency object.\n",
    "saliency = Saliency(model,\n",
    "                    model_modifier=replace2linear,\n",
    "                    clone=True)"
   ]
  },
  {
   "cell_type": "raw",
   "metadata": {},
   "source": [
    "utils.log_predi_infor(x_full_predi_data, predi, f'{xom_data_path}predi_log/', model_file, datas)"
   ]
  },
  {
   "cell_type": "raw",
   "metadata": {},
   "source": [
    "utils.show_curve(x_full_predi_data, [9279, 9299], ['moon_numbe', 'ratio_moon_stell_radiu', 'ratio_moon_plane_radiu'], \n",
    "                highl_injec=True)"
   ]
  },
  {
   "cell_type": "code",
   "execution_count": null,
   "metadata": {},
   "outputs": [],
   "source": [
    "utils.show_featu_preci_recal(x_full_predi_data,\n",
    "                       predi,\n",
    "                       y_predi_data,\n",
    "                       cutof,\n",
    "                       featu='moon_radiu',\n",
    "                       bins=25,\n",
    "                       equal_width_bins=True,\n",
    "                       stand_axis=True)\n",
    "# Possible third axis with AUC\n",
    "# AUC in red overplotted"
   ]
  },
  {
   "cell_type": "code",
   "execution_count": null,
   "metadata": {},
   "outputs": [],
   "source": [
    "importlib.reload(utils)"
   ]
  },
  {
   "cell_type": "code",
   "execution_count": null,
   "metadata": {},
   "outputs": [],
   "source": [
    "# can you have a false positive rate as a function of moon radius??"
   ]
  },
  {
   "cell_type": "raw",
   "metadata": {},
   "source": [
    "utils.show_tpr_fpr(x_full_predi_data, predi, cutof, 'moon_radiu', 10, False)"
   ]
  },
  {
   "cell_type": "code",
   "execution_count": null,
   "metadata": {},
   "outputs": [],
   "source": [
    "utils.show_preci_recal(predi, y_predi_data, cutof)"
   ]
  },
  {
   "cell_type": "code",
   "execution_count": null,
   "metadata": {},
   "outputs": [],
   "source": [
    "utils.show_roc(predi, y_predi_data, cutof)"
   ]
  },
  {
   "cell_type": "code",
   "execution_count": null,
   "metadata": {},
   "outputs": [],
   "source": [
    "utils.show_histo(norma_full_x_data, 'moon_radiu')"
   ]
  },
  {
   "cell_type": "raw",
   "metadata": {},
   "source": [
    "utils.show_predi_compa(x_full_predi_data, predi, cutof, [0,30], 'true')"
   ]
  },
  {
   "cell_type": "markdown",
   "metadata": {},
   "source": [
    "#### Formatting"
   ]
  },
  {
   "cell_type": "raw",
   "metadata": {},
   "source": [
    "forma = \\\n",
    "'''\n",
    "def show_featu_preci_recal(data,\n",
    "                           predi,\n",
    "                           y_data,\n",
    "                           cutof,\n",
    "                           featu=None,\n",
    "                           bins=20,\n",
    "                           equal_width_bins=True,\n",
    "                           stand_axis=True,\n",
    "                           trans_type='plane_moon_cut_injec',\n",
    "                           save_figur_path='',\n",
    "                           figur_chara={'figsize': [15, 5]},\n",
    "                           title_chara={'size':16},\n",
    "                           x_chara={'size':14},\n",
    "                           y_left_chara={'c':'blue', 'size':14},\n",
    "                           y_right_chara={'c':'green', 'size':14},\n",
    "                           legen_left_chara={'loc':'upper left'},\n",
    "                           legen_right_chara={'loc':'upper right'}):\n",
    "\n",
    "    # Plot standard precision and recall curve\n",
    "    if featu is None or featu == 'predi' or data is None:\n",
    "        show_preci_recal(predi, y_data, cutof, save_figur_path, width, heigh)\n",
    "    # Plot precision and recall as a function of a numerical feature\n",
    "    else:\n",
    "        binne_data = utils.bin_data(data, featu, bins, equal_width_bins)\n",
    "        preci = []\n",
    "        recal = []\n",
    "        previ_infor_lengt = 0\n",
    "        for i in range(len(binne_data)):\n",
    "            tp = 0\n",
    "            fp = 0\n",
    "            fn = 0\n",
    "            for ii in range(len(binne_data[i])):\n",
    "                # Keep track of true positives, false positives, and false negatives\n",
    "                tp += data[binne_data[i][ii][0].astype(int), -1, 1][trans_type] and \\\n",
    "predi[previ_infor_lengt + ii] > cutof\n",
    "                fp += not data[\n",
    "                    binne_data[i][ii][0].astype(int), -1,\n",
    "                    1][trans_type] and predi[previ_infor_lengt +\n",
    "                                             ii] > cutof\n",
    "                fn += data[binne_data[i][ii][0].astype(int), -1,\n",
    "                                        1][trans_type] and not predi[\n",
    "                                            previ_infor_lengt + ii] > cutof\n",
    "            # If divide by 0, ignore\n",
    "            try:\n",
    "                if tp or fp:\n",
    "                    # Calculate precision\n",
    "                    preci.append([np.mean(binne_data[i][:, 1]), tp / (tp + fp)])\n",
    "            except:\n",
    "                pass\n",
    "            try:\n",
    "                if tp or fn:\n",
    "                    # Calculate the recall\n",
    "                    recal.append([np.mean(binne_data[i][:, 1]), tp / (tp + fn)])\n",
    "            except:\n",
    "                pass\n",
    "            previ_infor_lengt += len(binne_data[i])\n",
    "        # Convert precision and recall from lists to numpy arrays\n",
    "        preci = np.array(preci)\n",
    "        recal = np.array(recal)\n",
    "        # Create a plot\n",
    "        figur, axes1 = plt.subplots(1, 1, **figur_chara)\n",
    "        axes2 = axes1.twinx()\n",
    "\n",
    "\n",
    "        axes1.plot(preci[:, 0],\n",
    "                   preci[:, 1],\n",
    "                   c=y_left_chara['c'])\n",
    "        axes2.plot(recal[:, 0],\n",
    "                   recal[:, 1],\n",
    "                   c=y_right_chara['c'])\n",
    "        \n",
    "        # Standardize the axis values from 0 to 1\n",
    "        if stand_axis:\n",
    "            axes1.set_ylim([0, 1])\n",
    "            axes2.set_ylim([0, 1])\n",
    "\n",
    "        # Set labels\n",
    "        axes1.set_ylabel('Precision', **y_left_chara)\n",
    "        axes2.set_ylabel('Recall', **y_right_chara)\n",
    "#         axes1.legend(**legen_left_chara)\n",
    "#         axes2.legend(**legen_right_chara)\n",
    "        axes1.set_xlabel(f'{data[0, -1, 1][\"forma_names\"][featu]}',\n",
    "                         **x_chara)\n",
    "        # Remove units from title\n",
    "        axes1.set_title(\n",
    "            f'Precision and Recall as a Function of {data[0, -1, 1][\"forma_names\"][featu].split(\" [\")[0]}',\n",
    "            **title_chara)\n",
    "\n",
    "        figur.tight_layout()\n",
    "        if save_figur_path:\n",
    "            plt.savefig(f'{save_figur_path}pr_curve-{float(time.time())}.pdf')\n",
    "        figur.show()\n",
    "'''\n",
    "forma_done = FormatCode(forma, style_config='PEP8')\n",
    "print(forma_done[0])"
   ]
  },
  {
   "cell_type": "code",
   "execution_count": null,
   "metadata": {},
   "outputs": [],
   "source": []
  }
 ],
 "metadata": {
  "accelerator": "TPU",
  "colab": {
   "collapsed_sections": [],
   "name": "RNN_V2.ipynb",
   "provenance": []
  },
  "kernelspec": {
   "display_name": "xom",
   "language": "python",
   "name": "xom"
  },
  "language_info": {
   "codemirror_mode": {
    "name": "ipython",
    "version": 3
   },
   "file_extension": ".py",
   "mimetype": "text/x-python",
   "name": "python",
   "nbconvert_exporter": "python",
   "pygments_lexer": "ipython3",
   "version": "3.8.5"
  }
 },
 "nbformat": 4,
 "nbformat_minor": 4
}
