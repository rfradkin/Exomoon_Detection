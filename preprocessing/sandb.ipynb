{
 "cells": [
  {
   "cell_type": "code",
   "execution_count": 1,
   "id": "sound-mason",
   "metadata": {},
   "outputs": [],
   "source": [
    "import sys\n",
    "sys.path.insert(1, '/home/rfradkin/xom/py_scripts')\n",
    "sys.path.insert(2, '/home/rfradkin/xom/td_repositories')\n",
    "import importlib\n",
    "import numpy as np\n",
    "import pickle as pkl\n",
    "import utils\n",
    "import ephesus"
   ]
  },
  {
   "cell_type": "code",
   "execution_count": 2,
   "id": "previous-sword",
   "metadata": {},
   "outputs": [],
   "source": [
    "import pandas as pd"
   ]
  },
  {
   "cell_type": "code",
   "execution_count": 3,
   "id": "certified-uncle",
   "metadata": {},
   "outputs": [],
   "source": [
    "path = '/home/rfradkin/xom/'\n",
    "data = '/data/scratch/'\n",
    "sector_path = '/data/scratch/bhol/sf/'\n",
    "proc_data_path = '/data/scratch/bhol/proc_data/'"
   ]
  },
  {
   "cell_type": "code",
   "execution_count": 4,
   "id": "significant-shield",
   "metadata": {
    "tags": []
   },
   "outputs": [],
   "source": [
    "with open(f'{proc_data_path}/raw_data_sector_2', 'rb') as f:\n",
    "    light_curves = pkl.load(f)"
   ]
  },
  {
   "cell_type": "code",
   "execution_count": 5,
   "id": "square-reserve",
   "metadata": {},
   "outputs": [],
   "source": [
    "light_curves = light_curves[0:300]"
   ]
  },
  {
   "cell_type": "code",
   "execution_count": 6,
   "id": "suspended-mission",
   "metadata": {},
   "outputs": [],
   "source": [
    "TIC8 = pd.read_csv(f'{data}/xomoons/TIC8/nomi_miss_2min_info.csv')"
   ]
  },
  {
   "cell_type": "code",
   "execution_count": 8,
   "id": "surface-delight",
   "metadata": {},
   "outputs": [],
   "source": [
    "id_radi_mass_list = []\n",
    "for i in range(len(light_curves)):\n",
    "    TIC_id = utils.find_TIC_id(light_curves[i, utils.find(light_curves[i], 'TIC'), 1])\n",
    "    stam_info = TIC8[TIC8.tici == TIC_id]\n",
    "    id_radi_mass_list.append([TIC_id, stam_info.radistar.iloc[0], stam_info.massstar.iloc[0]])\n",
    "id_radi_mass = np.array(id_radi_mass_list)"
   ]
  },
  {
   "cell_type": "code",
   "execution_count": 10,
   "id": "turkish-broadcast",
   "metadata": {},
   "outputs": [
    {
     "ename": "AttributeError",
     "evalue": "'numpy.ndarray' object has no attribute 'to_csv'",
     "output_type": "error",
     "traceback": [
      "\u001b[0;31m---------------------------------------------------------------------------\u001b[0m",
      "\u001b[0;31mAttributeError\u001b[0m                            Traceback (most recent call last)",
      "\u001b[0;32m<ipython-input-10-051f120dcfe4>\u001b[0m in \u001b[0;36m<module>\u001b[0;34m\u001b[0m\n\u001b[0;32m----> 1\u001b[0;31m \u001b[0mid_radi_mass\u001b[0m\u001b[0;34m.\u001b[0m\u001b[0mto_csv\u001b[0m\u001b[0;34m(\u001b[0m\u001b[0;34m)\u001b[0m\u001b[0;34m\u001b[0m\u001b[0;34m\u001b[0m\u001b[0m\n\u001b[0m",
      "\u001b[0;31mAttributeError\u001b[0m: 'numpy.ndarray' object has no attribute 'to_csv'"
     ]
    }
   ],
   "source": [
    "id_radi_mass"
   ]
  },
  {
   "cell_type": "code",
   "execution_count": 38,
   "id": "judicial-pioneer",
   "metadata": {},
   "outputs": [],
   "source": [
    "def inje(ligh_curv, id_radi_mass, max_numb_plan = 1):\n",
    "    \n",
    "    inje_curv = np.copy(ligh_curv)\n",
    "    numb_plan_all = np.random.randint(1, max_numb_plan, len(ligh_curv))\n",
    "    \n",
    "    for i in range(len(ligh_curv)):\n",
    "        \n",
    "        peri = []\n",
    "        plan_radi = []\n",
    "        epoc = []\n",
    "        cosi = []\n",
    "        \n",
    "        for j in range(numb_plan_all[i]):\n",
    "            \n",
    "            peri.append(np.random.random() * 2 + 2)\n",
    "            plan_radi.append(np.random.random() * 19 + 1)\n",
    "            epoc.append(np.random.random() * (light_curves[i, :utils.find(light_curves[i], 'end'), 0][-1] - light_curves[i, 0, 0]))\n",
    "            cosi.append(np.random.random() * 0.03)\n",
    "            \n",
    "        peri = np.array(peri)\n",
    "        plan_radi = np.array(plan_radi)\n",
    "        epoc = np.array(epoc)\n",
    "        cosi = np.array(cosi)\n",
    "        \n",
    "        semi_majo = ephesus.retr_smaxkepl(peri, id_radi_mass[i, 2])\n",
    "        rsma = ephesus.retr_rsma(plan_radi, id_radi_mass[i, 1], semi_majo)\n",
    "\n",
    "        inje = ephesus.retr_rflxtranmodl((light_curves[i, :utils.find(light_curves[i], 'end'), 0]), peri, epoc, plan_radi, id_radi_mass[i, 1], \n",
    "                                 rsma, cosi, ecce=0., sinw=0., booltrap=False)\n",
    "        \n",
    "        inje_curv[i, :utils.find(inje_curv[i], 'end'), 1] += inje - 1\n",
    "        \n",
    "        inje_time = 0        \n",
    "        \n",
    "        if len(np.where(inje < 1)[0]) > 1:\n",
    "            \n",
    "            inde = utils.injections_start_stop_index(inje)\n",
    "            inje_time = utils.index_to_time(inde, ligh_curv[i])\n",
    "        \n",
    "        inje_curv[i, utils.find(ligh_curv[i], 'max amplitude'), 1] = (min(inje) - 1) * -1000\n",
    "        inje_curv[i, utils.find(ligh_curv[i], 'epoch'), 1] = epoc       \n",
    "        inje_curv[i, utils.find(ligh_curv[i], 'period'), 1] = peri     \n",
    "        inje_curv[i, utils.find(ligh_curv[i], 'star radius'), 1] = id_radi_mass[1] \n",
    "#         inje_curv[i, utils.find(ligh_curv[i], 'planet radius'), 1] = plan_radi   \n",
    "        inje_curv[i, utils.find(ligh_curv[i], 'star mass'), 1] = id_radi_mass[2]    \n",
    "        inje_curv[i, utils.find(ligh_curv[i], 'inclination'), 1] = np.arccos(cosi)          \n",
    "#         inje_curv[i, utils.find(ligh_curv[i], 'number of planets'), 1] = numb_plan_all[i]      \n",
    "        inje_curv[i, utils.find(ligh_curv[i], 'curve type'), 1] = 'Injected Curve'      \n",
    "        inje_curv[i, utils.find(ligh_curv[i], 'injection times'), 1] = inje_time\n",
    "        \n",
    "    return inje_curv"
   ]
  },
  {
   "cell_type": "code",
   "execution_count": 39,
   "id": "junior-insurance",
   "metadata": {},
   "outputs": [],
   "source": [
    "inje_curv = inje(light_curves, id_radi_mass, 2)"
   ]
  },
  {
   "cell_type": "code",
   "execution_count": 40,
   "id": "automotive-spoke",
   "metadata": {},
   "outputs": [
    {
     "data": {
      "text/plain": [
       "array([['TIC', 'tess2018234235059-s0002-0000000002733208-0121-s_lc.fits'],\n",
       "       ['Amplitude [ppt]', 4.549300832498604],\n",
       "       ['Epoch', array([24.22316307, 20.7073632 ])],\n",
       "       ['Period [days]', array([2.91913441, 3.27007046])],\n",
       "       ['Star Radius [R☉]',\n",
       "        array([2.733409e+06, 2.045710e+00, 1.450000e+00])],\n",
       "       ['Companion Mass [M☉]', 0],\n",
       "       ['Star Mass [M☉]', array([2.73352e+06, 2.39419e+00, 1.46000e+00])],\n",
       "       ['Inclination [°]', array([1.54800865, 1.56583815])],\n",
       "       ['Curve Type', 'Injected Curve'],\n",
       "       ['Injection Type', 0],\n",
       "       ['Detrended Time Scale', False],\n",
       "       ['Fill Spline Type', 0],\n",
       "       ['Cut Number', -1],\n",
       "       ['Injection Times',\n",
       "        array([[2458355.00804173, 2458355.06082113],\n",
       "       [2458355.73584124, 2458355.77473126],\n",
       "       [2458358.27757551, 2458358.33035458],\n",
       "       [2458358.65397353, 2458358.69286335],\n",
       "       [2458361.54848155, 2458361.61237172],\n",
       "       [2458364.49298022, 2458364.53186977],\n",
       "       [2458364.81798572, 2458364.87076438],\n",
       "       [2458370.33056067, 2458370.36944977],\n",
       "       [2458371.35834297, 2458371.41112092],\n",
       "       [2458373.25001297, 2458373.28890187],\n",
       "       [2458374.62778962, 2458374.6805673 ],\n",
       "       [2458376.16945181, 2458376.20834055],\n",
       "       [2458377.89860985, 2458377.95138731],\n",
       "       [2458379.08887987, 2458379.12776849],\n",
       "       [2458381.16803174, 2458381.22080916]])],\n",
       "       ['Cut Injected', 0]], dtype=object)"
      ]
     },
     "execution_count": 40,
     "metadata": {},
     "output_type": "execute_result"
    }
   ],
   "source": [
    "inje_curv[0, -15:]"
   ]
  },
  {
   "cell_type": "code",
   "execution_count": 51,
   "id": "coral-thailand",
   "metadata": {},
   "outputs": [
    {
     "data": {
      "image/png": "[encoded data removed]",
      "text/plain": [
       "<Figure size 1800x360 with 1 Axes>"
      ]
     },
     "metadata": {
      "needs_background": "light"
     },
     "output_type": "display_data"
    }
   ],
   "source": [
    "utils.sing_curv_plot(inje_curv[3], ['amplitude'], 'green')"
   ]
  },
  {
   "cell_type": "code",
   "execution_count": 89,
   "id": "level-collective",
   "metadata": {},
   "outputs": [
    {
     "name": "stdout",
     "output_type": "stream",
     "text": [
      "Number of planets is not equal\n"
     ]
    }
   ],
   "source": [
    "peri = np.array([3, 5])\n",
    "plan_radi = np.array([1.2])\n",
    "epoc = np.array([light_curves[0, 300, 0]])\n",
    "cosi = np.array([0.03])\n",
    "if len(peri) != len(plan_radi) != epoc != cosi:\n",
    "    print('Number of planets is not equal')\n",
    "numb_plan = len(peri)"
   ]
  },
  {
   "cell_type": "code",
   "execution_count": 90,
   "id": "destroyed-premiere",
   "metadata": {},
   "outputs": [],
   "source": [
    "semi_majo = []\n",
    "for i in range(len(light_curves)):\n",
    "    semi_majo.append(ephesus.retr_smaxkepl(peri, TIC_radi_mass[i, 2]))\n",
    "semi_majo = np.array(semi_majo)"
   ]
  },
  {
   "cell_type": "code",
   "execution_count": 91,
   "id": "serious-eagle",
   "metadata": {},
   "outputs": [
    {
     "data": {
      "text/plain": [
       "array([[0.04289625, 0.06030016]])"
      ]
     },
     "execution_count": 91,
     "metadata": {},
     "output_type": "execute_result"
    }
   ],
   "source": [
    "semi_majo"
   ]
  },
  {
   "cell_type": "code",
   "execution_count": 72,
   "id": "lucky-impression",
   "metadata": {},
   "outputs": [],
   "source": [
    "rsma = []\n",
    "for i in range(len(light_curves)):\n",
    "    rsma.append(ephesus.retr_rsma(plan_radi, TIC_radi_mass[i, 1], semi_majo[i]))\n",
    "rsma = np.array(rsma)"
   ]
  },
  {
   "cell_type": "code",
   "execution_count": 76,
   "id": "precise-duration",
   "metadata": {},
   "outputs": [],
   "source": [
    "inje = ephesus.retr_rflxtranmodl((light_curves[0, :-20, 0]).astype(float), peri, epoc, plan_radi, TIC_radi_mass[0, 1], \n",
    "                         rsma[0], cosi, ecce=0., sinw=0., booltrap=False)\n",
    "inje -= 1"
   ]
  },
  {
   "cell_type": "code",
   "execution_count": 81,
   "id": "magnetic-firmware",
   "metadata": {},
   "outputs": [],
   "source": [
    "inje_curv = np.copy(light_curves)\n",
    "inje_curv[0, :-20, 1] += inje"
   ]
  },
  {
   "cell_type": "code",
   "execution_count": 84,
   "id": "monthly-boxing",
   "metadata": {},
   "outputs": [
    {
     "data": {
      "text/plain": [
       "<AxesSubplot:>"
      ]
     },
     "execution_count": 84,
     "metadata": {},
     "output_type": "execute_result"
    },
    {
     "data": {
      "image/png": "[encoded data removed]",
      "text/plain": [
       "<Figure size 432x288 with 1 Axes>"
      ]
     },
     "metadata": {
      "needs_background": "light"
     },
     "output_type": "display_data"
    }
   ],
   "source": [
    "pd.DataFrame(inje_curv[0, :-20, 1]).plot()"
   ]
  },
  {
   "cell_type": "code",
   "execution_count": 2,
   "id": "attractive-idaho",
   "metadata": {},
   "outputs": [],
   "source": [
    "from tdpy.util import summgene"
   ]
  },
  {
   "cell_type": "code",
   "execution_count": 59,
   "id": "raising-committee",
   "metadata": {},
   "outputs": [],
   "source": [
    "time = np.linspace(0., 30., 10000)"
   ]
  },
  {
   "cell_type": "code",
   "execution_count": 68,
   "id": "future-hughes",
   "metadata": {
    "tags": []
   },
   "outputs": [
    {
     "name": "stdout",
     "output_type": "stream",
     "text": [
      "[0.11622917 0.07267761]\n"
     ]
    },
    {
     "ename": "IndexError",
     "evalue": "too many indices for array: array is 1-dimensional, but 2 were indexed",
     "output_type": "error",
     "traceback": [
      "\u001b[0;31m---------------------------------------------------------------------------\u001b[0m",
      "\u001b[0;31mIndexError\u001b[0m                                Traceback (most recent call last)",
      "\u001b[0;32m<ipython-input-68-669c06fdc0ad>\u001b[0m in \u001b[0;36m<module>\u001b[0;34m\u001b[0m\n\u001b[1;32m     29\u001b[0m \u001b[0mprint\u001b[0m\u001b[0;34m(\u001b[0m\u001b[0mrsma\u001b[0m\u001b[0;34m)\u001b[0m\u001b[0;34m\u001b[0m\u001b[0;34m\u001b[0m\u001b[0m\n\u001b[1;32m     30\u001b[0m \u001b[0mcosi\u001b[0m \u001b[0;34m=\u001b[0m \u001b[0mnp\u001b[0m\u001b[0;34m.\u001b[0m\u001b[0marray\u001b[0m\u001b[0;34m(\u001b[0m\u001b[0;34m[\u001b[0m\u001b[0;36m0.03\u001b[0m\u001b[0;34m,\u001b[0m \u001b[0;36m0.05\u001b[0m\u001b[0;34m]\u001b[0m\u001b[0;34m)\u001b[0m\u001b[0;34m\u001b[0m\u001b[0;34m\u001b[0m\u001b[0m\n\u001b[0;32m---> 31\u001b[0;31m \u001b[0mrfxl\u001b[0m \u001b[0;34m=\u001b[0m \u001b[0mephesus\u001b[0m\u001b[0;34m.\u001b[0m\u001b[0mretr_rflxtranmodl\u001b[0m\u001b[0;34m(\u001b[0m\u001b[0mlight_curves\u001b[0m\u001b[0;34m[\u001b[0m\u001b[0;34m:\u001b[0m\u001b[0;34m,\u001b[0m \u001b[0;34m:\u001b[0m\u001b[0;34m-\u001b[0m\u001b[0;36m20\u001b[0m\u001b[0;34m,\u001b[0m \u001b[0;36m0\u001b[0m\u001b[0;34m]\u001b[0m\u001b[0;34m,\u001b[0m \u001b[0mperi\u001b[0m\u001b[0;34m,\u001b[0m \u001b[0mepoc\u001b[0m\u001b[0;34m,\u001b[0m \u001b[0mradiplan\u001b[0m\u001b[0;34m,\u001b[0m \u001b[0mradistar\u001b[0m\u001b[0;34m,\u001b[0m \u001b[0mrsma\u001b[0m\u001b[0;34m,\u001b[0m \u001b[0mcosi\u001b[0m\u001b[0;34m)\u001b[0m\u001b[0;34m\u001b[0m\u001b[0;34m\u001b[0m\u001b[0m\n\u001b[0m\u001b[1;32m     32\u001b[0m \u001b[0;34m\u001b[0m\u001b[0m\n\u001b[1;32m     33\u001b[0m \u001b[0;34m\u001b[0m\u001b[0m\n",
      "\u001b[0;32m~/xom/td_repositories/ephesus/util.py\u001b[0m in \u001b[0;36mretr_rflxtranmodl\u001b[0;34m(time, peri, epoc, radiplan, radistar, rsma, cosi, ecce, sinw, booltrap)\u001b[0m\n\u001b[1;32m   2078\u001b[0m                 \u001b[0mindxtimetotl\u001b[0m \u001b[0;34m=\u001b[0m \u001b[0mnp\u001b[0m\u001b[0;34m.\u001b[0m\u001b[0mwhere\u001b[0m\u001b[0;34m(\u001b[0m\u001b[0mtimeshftabso\u001b[0m \u001b[0;34m<\u001b[0m \u001b[0mduratotlhalf\u001b[0m\u001b[0;34m[\u001b[0m\u001b[0mj\u001b[0m\u001b[0;34m]\u001b[0m \u001b[0;34m/\u001b[0m \u001b[0;36m24.\u001b[0m\u001b[0;34m)\u001b[0m\u001b[0;34m[\u001b[0m\u001b[0;36m0\u001b[0m\u001b[0;34m]\u001b[0m\u001b[0;34m\u001b[0m\u001b[0;34m\u001b[0m\u001b[0m\n\u001b[1;32m   2079\u001b[0m                 \u001b[0;32mif\u001b[0m \u001b[0mbooltrap\u001b[0m\u001b[0;34m:\u001b[0m\u001b[0;34m\u001b[0m\u001b[0;34m\u001b[0m\u001b[0m\n\u001b[0;32m-> 2080\u001b[0;31m                     \u001b[0mindxtimefull\u001b[0m \u001b[0;34m=\u001b[0m \u001b[0mindxtimetotl\u001b[0m\u001b[0;34m[\u001b[0m\u001b[0mnp\u001b[0m\u001b[0;34m.\u001b[0m\u001b[0mwhere\u001b[0m\u001b[0;34m(\u001b[0m\u001b[0mtimeshftabso\u001b[0m\u001b[0;34m[\u001b[0m\u001b[0mindxtimetotl\u001b[0m\u001b[0;34m]\u001b[0m \u001b[0;34m<\u001b[0m \u001b[0mdurafullhalf\u001b[0m\u001b[0;34m[\u001b[0m\u001b[0mj\u001b[0m\u001b[0;34m]\u001b[0m \u001b[0;34m/\u001b[0m \u001b[0;36m24.\u001b[0m\u001b[0;34m)\u001b[0m\u001b[0;34m]\u001b[0m\u001b[0;34m\u001b[0m\u001b[0;34m\u001b[0m\u001b[0m\n\u001b[0m\u001b[1;32m   2081\u001b[0m                     indxtimeinre = indxtimetotl[np.where((timeshftnega[indxtimetotl] < duratotlhalf[j] / 24.) & \\\n\u001b[1;32m   2082\u001b[0m                                                                                         (timeshftnega[indxtimetotl] > durafullhalf[j] / 24.))]\n",
      "\u001b[0;31mIndexError\u001b[0m: too many indices for array: array is 1-dimensional, but 2 were indexed"
     ]
    }
   ],
   "source": [
    "import numpy as np\n",
    "import sys\n",
    "sys.path.insert(2, '/home/rfradkin/xom/td_repositories')\n",
    "import ephesus\n",
    "from tdpy.util import summgene\n",
    "\n",
    "'''\n",
    "Using the transit model\n",
    "'''\n",
    "\n",
    "# time axis\n",
    "time = np.array([light_curves[0, :-20, 0], light_curves[0, :-20, 0]])\n",
    "\n",
    "# orbital periods\n",
    "peri = np.array([3., 5.])\n",
    "# mid-transit epochs\n",
    "epoc = np.array([200., 600.])\n",
    "# radii of the planets [R_E]\n",
    "radiplan = np.array([1.2, 3.4])\n",
    "# radius of the star [R_S]\n",
    "radistar = np.array([1.0, 1.1])\n",
    "# total mass [M_S]\n",
    "masstotl = np.array([1.0, 1.1])\n",
    "# semi-major axes  [AU] \n",
    "smax = ephesus.retr_smaxkepl(peri, masstotl)\n",
    "# sum of radii divided by the semi-major axis\n",
    "rsma = ephesus.retr_rsma(radiplan, radistar, smax)\n",
    "# cosine of inclination\n",
    "print(rsma)\n",
    "cosi = np.array([0.03, 0.05])\n",
    "rfxl = ephesus.retr_rflxtranmodl(light_curves[:, :-20, 0], peri, epoc, radiplan, radistar, rsma, cosi)\n",
    "\n",
    "\n",
    "# print('rfxl')\n",
    "# summgene(rfxl)"
   ]
  },
  {
   "cell_type": "code",
   "execution_count": 135,
   "id": "retained-alert",
   "metadata": {},
   "outputs": [],
   "source": [
    "def retr_rflxtranmodl(time, peri, epoc, radiplan, radistar, rsma, cosi, ecce=0., sinw=0., booltrap=False):\n",
    "    \n",
    "    timeinit = timemodu.time()\n",
    "\n",
    "    if isinstance(peri, list):\n",
    "        peri = np.array(peri)\n",
    "\n",
    "    if isinstance(epoc, list):\n",
    "        epoc = np.array(epoc)\n",
    "\n",
    "    if isinstance(radiplan, list):\n",
    "        radiplan = np.array(radiplan)\n",
    "\n",
    "    if isinstance(rsma, list):\n",
    "        rsma = np.array(rsma)\n",
    "\n",
    "    if isinstance(cosi, list):\n",
    "        cosi = np.array(cosi)\n",
    "\n",
    "    if isinstance(ecce, list):\n",
    "        ecce = np.array(ecce)\n",
    "\n",
    "    if isinstance(sinw, list):\n",
    "        sinw = np.array(sinw)\n",
    "    \n",
    "    boolinptphys = True#False\n",
    "\n",
    "    minmtime = np.amin(time)\n",
    "    maxmtime = np.amax(time)\n",
    "    numbtime = time.size\n",
    "    \n",
    "    dictfact = retr_factconv()\n",
    "    \n",
    "    if boolinptphys:\n",
    "        smax = (radistar + radiplan / dictfact['rsre']) / rsma / dictfact['aurs']\n",
    "    \n",
    "    rs2a = radistar / smax / dictfact['aurs']\n",
    "    imfa = retr_imfa(cosi, rs2a, ecce, sinw)\n",
    "    sini = np.sqrt(1. - cosi**2)\n",
    "    rrat = radiplan / dictfact['rsre'] / radistar\n",
    "    dept = rrat**2 * 1e3\n",
    "    \n",
    "    rflxtranmodl = np.ones_like(time)\n",
    "    \n",
    "    if booltrap:\n",
    "        durafull = retr_duratranfull(peri, rs2a, sini, rrat, imfa)\n",
    "        duratotl = retr_duratrantotl(peri, rs2a, sini, rrat, imfa)\n",
    "        duraineg = (duratotl - durafull) / 2.\n",
    "        durafullhalf = durafull / 2.\n",
    "    else:\n",
    "        duratotl = retr_duratran(peri, rsma, cosi)\n",
    "    duratotlhalf = duratotl / 2.\n",
    "\n",
    "    # Boolean flag that indicates whether there is any transit\n",
    "    booltran = np.isfinite(duratotl)\n",
    "    \n",
    "    numbplan = radiplan.size\n",
    "    indxplan = np.arange(numbplan)\n",
    "    if True:\n",
    "    #if True:\n",
    "        print('time')\n",
    "        summgene(time)\n",
    "        print('epoc')\n",
    "        print(epoc)\n",
    "        print('peri')\n",
    "        print(peri)\n",
    "        print('cosi')\n",
    "        print(cosi)\n",
    "        print('rsma')\n",
    "        print(rsma)\n",
    "        print('imfa')\n",
    "        print(imfa)\n",
    "        print('radistar')\n",
    "        print(radistar)\n",
    "        print('rrat')\n",
    "        print(rrat)\n",
    "        print('rs2a')\n",
    "        print(rs2a)\n",
    "        print('duratotl')\n",
    "        print(duratotl)\n",
    "#         print('durafull')\n",
    "#         print(durafull)\n",
    "        print('booltran')\n",
    "        print(booltran)\n",
    "        print('indxplan')\n",
    "        print(indxplan)\n",
    "        print('radiplan')\n",
    "        print(radiplan)\n",
    "    \n",
    "    for j in indxplan:\n",
    "        \n",
    "        if booltran[j]:\n",
    "            \n",
    "            minmindxtran = int(np.floor((epoc[j] - minmtime) / peri[j]))\n",
    "            maxmindxtran = int(np.ceil((maxmtime - epoc[j]) / peri[j]))\n",
    "            indxtranthis = np.arange(minmindxtran, maxmindxtran + 1)\n",
    "            \n",
    "            for n in indxtranthis:\n",
    "                timetran = epoc[j] + peri[j] * n\n",
    "                timeshft = time - timetran\n",
    "                timeshftnega = -timeshft\n",
    "                timeshftabso = abs(timeshft)\n",
    "                \n",
    "                indxtimetotl = np.where(timeshftabso < duratotlhalf[j] / 24.)[0]\n",
    "                if booltrap:\n",
    "                    indxtimefull = indxtimetotl[np.where(timeshftabso[indxtimetotl] < durafullhalf[j] / 24.)]\n",
    "                    indxtimeinre = indxtimetotl[np.where((timeshftnega[indxtimetotl] < duratotlhalf[j] / 24.) & \\\n",
    "                                                                                        (timeshftnega[indxtimetotl] > durafullhalf[j] / 24.))]\n",
    "                    indxtimeegre = indxtimetotl[np.where((timeshft[indxtimetotl] < duratotlhalf[j] / 24.) & (timeshft[indxtimetotl] > durafullhalf[j] / 24.))]\n",
    "                \n",
    "                    rflxtranmodl[indxtimeinre] += 1e-3 * dept[j] * ((timeshftnega[indxtimeinre] - duratotlhalf[j] / 24.) / duraineg[j] / 24.)\n",
    "                    rflxtranmodl[indxtimeegre] += 1e-3 * dept[j] * ((timeshft[indxtimeegre] - duratotlhalf[j] / 24.) / duraineg[j])\n",
    "                    rflxtranmodl[indxtimefull] -= 1e-3 * dept[j]\n",
    "                else:\n",
    "                    rflxtranmodl[indxtimetotl] -= 1e-3 * dept[j]\n",
    "                \n",
    "                if False:\n",
    "                #if True:\n",
    "                    print('n')\n",
    "                    print(n)\n",
    "                    print('timetran')\n",
    "                    summgene(timetran)\n",
    "                    print('timeshft[indxtimetotl]')\n",
    "                    summgene(timeshft[indxtimetotl])\n",
    "                    print('timeshftabso[indxtimetotl]')\n",
    "                    summgene(timeshftabso[indxtimetotl])\n",
    "                    print('timeshftnega[indxtimetotl]')\n",
    "                    summgene(timeshftnega[indxtimetotl])\n",
    "                    print('duratotlhalf[j]')\n",
    "                    print(duratotlhalf[j])\n",
    "#                     print('durafullhalf[j]')\n",
    "#                     print(durafullhalf[j])\n",
    "                    print('indxtimetotl')\n",
    "                    summgene(indxtimetotl)\n",
    "#                     print('indxtimefull')\n",
    "#                     summgene(indxtimefull)\n",
    "#                     print('indxtimeinre')\n",
    "#                     summgene(indxtimeinre)\n",
    "#                     print('indxtimeegre')\n",
    "#                     summgene(indxtimeegre)\n",
    "    \n",
    "    timetotl = timemodu.time() - timeinit\n",
    "    timeredu = timetotl / numbtime\n",
    "    print('retr_rflxtranmodl() took %.3g seconds in total and %g ns per time sample.' % (timetotl, timeredu * 1e9))\n",
    "\n",
    "    return rflxtranmodl"
   ]
  },
  {
   "cell_type": "code",
   "execution_count": null,
   "id": "korean-century",
   "metadata": {},
   "outputs": [],
   "source": [
    "retr_rflxtranmodl(time, peri, epoc, radiplan, radistar, rsma, cosi, ecce=0., sinw=0., booltrap=False)"
   ]
  },
  {
   "cell_type": "code",
   "execution_count": 18,
   "id": "acting-handle",
   "metadata": {},
   "outputs": [],
   "source": [
    "importlib.reload(utils);"
   ]
  },
  {
   "cell_type": "code",
   "execution_count": 32,
   "id": "nasty-highlight",
   "metadata": {},
   "outputs": [
    {
     "data": {
      "text/plain": [
       "18301"
      ]
     },
     "execution_count": 32,
     "metadata": {},
     "output_type": "execute_result"
    }
   ],
   "source": [
    "utils.find(light_curves[7576], 'Amplitude')"
   ]
  },
  {
   "cell_type": "code",
   "execution_count": 61,
   "id": "angry-revision",
   "metadata": {},
   "outputs": [
    {
     "data": {
      "text/plain": [
       "array([['TIC', 'tess2018234235059-s0002-0000000308210185-0121-s_lc.fits'],\n",
       "       ['Amplitude [ppt]', 24.570521443344262],\n",
       "       ['Epoch', 24.99877063362335],\n",
       "       ['Period [days]', 12.114117926065788],\n",
       "       ['Star Radius [R☉]', 0.5031220689545538],\n",
       "       ['Companion Mass [M☉]', 8.063965355120134],\n",
       "       ['Star Mass [M☉]', 0.4893728866282564],\n",
       "       ['Inclination [°]', 90],\n",
       "       ['Curve Type', 'Injected Curve'],\n",
       "       ['Injection Type', 'Full'],\n",
       "       ['Detrended Time Scale', False],\n",
       "       ['Fill Spline Type', 0],\n",
       "       ['Cut Number', -1],\n",
       "       ['Injection Times',\n",
       "        array([[2458355.04295391, 2458355.08462157],\n",
       "       [2458367.15703655, 2458379.31260179]])],\n",
       "       ['Cut Injected', 0]], dtype=object)"
      ]
     },
     "execution_count": 61,
     "metadata": {},
     "output_type": "execute_result"
    }
   ],
   "source": [
    "a[0, -15:]"
   ]
  },
  {
   "cell_type": "code",
   "execution_count": 76,
   "id": "popular-progress",
   "metadata": {},
   "outputs": [
    {
     "data": {
      "text/plain": [
       "<AxesSubplot:>"
      ]
     },
     "execution_count": 76,
     "metadata": {},
     "output_type": "execute_result"
    },
    {
     "data": {
      "image/png": "[encoded data removed]",
      "text/plain": [
       "<Figure size 432x288 with 1 Axes>"
      ]
     },
     "metadata": {
      "needs_background": "light"
     },
     "output_type": "display_data"
    }
   ],
   "source": [
    "pd.DataFrame(a[0, :-18, 1]).plot()"
   ]
  },
  {
   "cell_type": "code",
   "execution_count": 70,
   "id": "aquatic-story",
   "metadata": {},
   "outputs": [
    {
     "data": {
      "text/plain": [
       "array([[2458381.513974463, 1.0028453076694144],\n",
       "       [2458381.5153633417, 1.0017658807866199],\n",
       "       [2458381.51675222, 1.0031139610621889],\n",
       "       [2458381.518141099, 0.9992721756405983],\n",
       "       [0.0, 0.0],\n",
       "       ['TIC', 'tess2018234235059-s0002-0000000308210185-0121-s_lc.fits'],\n",
       "       ['Amplitude [ppt]', 24.570521443344262],\n",
       "       ['Epoch', 24.99877063362335],\n",
       "       ['Period [days]', 12.114117926065788],\n",
       "       ['Star Radius [R☉]', 0.5031220689545538],\n",
       "       ['Companion Mass [M☉]', 8.063965355120134],\n",
       "       ['Star Mass [M☉]', 0.4893728866282564],\n",
       "       ['Inclination [°]', 90],\n",
       "       ['Curve Type', 'Injected Curve'],\n",
       "       ['Injection Type', 'Full'],\n",
       "       ['Detrended Time Scale', False],\n",
       "       ['Fill Spline Type', 0],\n",
       "       ['Cut Number', -1],\n",
       "       ['Injection Times',\n",
       "        array([[2458355.04295391, 2458355.08462157],\n",
       "       [2458367.15703655, 2458379.31260179]])],\n",
       "       ['Cut Injected', 0]], dtype=object)"
      ]
     },
     "execution_count": 70,
     "metadata": {},
     "output_type": "execute_result"
    }
   ],
   "source": [
    "a[0, -20:]"
   ]
  },
  {
   "cell_type": "code",
   "execution_count": 89,
   "id": "unusual-wrist",
   "metadata": {},
   "outputs": [
    {
     "name": "stdout",
     "output_type": "stream",
     "text": [
      "0\n",
      "[  668   669   670   671   672   673   674   675   676   677   678   679\n",
      "   680   681   682   683   684   685   686   687   688   689   690   691\n",
      "   692   693   694   695   696   697   698  9224 16736 16737 16738 16739\n",
      " 16740 16741 16742 16743 16744 16745 16746 16747 16748 16749 16750 16751\n",
      " 16752 16753 16754 16755 16756 16757 16758 16759 16760 16761 16762 16763\n",
      " 16764 16765 16766]\n",
      "[[  668   698]\n",
      " [16736 16766]]\n"
     ]
    },
    {
     "data": {
      "image/png": "[encoded data removed]",
      "text/plain": [
       "<Figure size 432x288 with 1 Axes>"
      ]
     },
     "metadata": {
      "needs_background": "light"
     },
     "output_type": "display_data"
    }
   ],
   "source": [
    "a = injector(light_curves[7576:7577], 0, 1)"
   ]
  },
  {
   "cell_type": "code",
   "execution_count": 48,
   "id": "asian-board",
   "metadata": {},
   "outputs": [],
   "source": [
    "from utils import *\n",
    "import pandas as pd"
   ]
  },
  {
   "cell_type": "code",
   "execution_count": 88,
   "id": "obvious-muscle",
   "metadata": {},
   "outputs": [],
   "source": [
    "def injections_start_stop_index(injections):\n",
    "    tf_injections = np.where(injections > 1)[0]\n",
    "    print(tf_injections)\n",
    "    injection_start_stops = []\n",
    "    current_start_stop = [tf_injections[0]]\n",
    "    \n",
    "    for i in range(1, len(tf_injections)  - 1):\n",
    "        if tf_injections[i - 1] + 1 != tf_injections[i] and tf_injections[i + 1] - 1 != tf_injections[i]:\n",
    "            pass\n",
    "        else:\n",
    "            if tf_injections[i] - tf_injections[i - 1] > 1 and len(current_start_stop) == 0:\n",
    "                current_start_stop.append(tf_injections[i])\n",
    "            elif tf_injections[i + 1] - tf_injections[i] > 1 and len(current_start_stop) == 1:\n",
    "                current_start_stop.append(tf_injections[i])\n",
    "            if len(current_start_stop) == 2:\n",
    "                injection_start_stops.append(current_start_stop)\n",
    "                current_start_stop = []\n",
    "            \n",
    "    current_start_stop.append(tf_injections[-1])\n",
    "    injection_start_stops.append(current_start_stop)\n",
    "    \n",
    "    i = 0\n",
    "    while i < len(injection_start_stops):\n",
    "        if len(injection_start_stops[i]) == 1:\n",
    "            injection_start_stops.pop(i)\n",
    "        else:\n",
    "            i += 1\n",
    "    return np.array(injection_start_stops)"
   ]
  },
  {
   "cell_type": "code",
   "execution_count": 80,
   "id": "interstate-ceramic",
   "metadata": {},
   "outputs": [],
   "source": [
    "def injector(light_curves, start, step, full = True, \n",
    "                   beaming = False, ellipsoidal_variation = False, signal_curves = False):\n",
    "    \n",
    "    injected_curves = np.copy(light_curves)\n",
    "#     if(type(signal_curves) == bool):\n",
    "#         signal_curves = np.zeros((light_curves.shape), dtype = object)\n",
    "#         signal_curves[:, :, 0] = light_curves[:, :, 0]\n",
    "#         signal_curves[:, find(light_curves, 'TIC'), 1] = light_curves[:, find(light_curves, 'TIC'), 1]\n",
    "#         signal_curves[:,find(signal_curves, 'Detrended Time S'), 1] = False\n",
    "    \n",
    "    for i in range(start, len(light_curves), step):\n",
    "\n",
    "        if light_curves[i, find(light_curves[i], 'Amplitude'), 1] != 0:\n",
    "            raise ValueError('Light Curve Already Injected.')\n",
    "        information_slots = find(light_curves[i], 'end')\n",
    "        epoch = 24.99877063362335\n",
    "        period = 12.114117926065788\n",
    "        radius_star = 0.5031220689545538\n",
    "        mass_companion = 8.063965355120134\n",
    "        mass_star = 0.4893728866282564\n",
    "        inclination = 90\n",
    "\n",
    "        params = [epoch, period, radius_star, mass_companion, mass_star, inclination]\n",
    "\n",
    "        time = np.array(light_curves[i, :information_slots, 0], dtype = float)\n",
    "        \n",
    "        full_injections = troia.retr_rflxmodlbhol(time, params)\n",
    "        print(i)\n",
    "        if full:\n",
    "            amplitude = max(full_injections[3] - 1)\n",
    "            signal = full_injections[0] - 1\n",
    "            injection_type = 'Full'\n",
    "        elif beaming and ellipsoidal_variation:\n",
    "            amplitude = max(full_injections[3] - 1)\n",
    "            complete_injections = troia.retr_rflxmodlbhol(time, params)\n",
    "            signal = full_injections[1] + full_injections[2] - 2 \n",
    "            injection_type = 'Beaming & Ellipsoidal Variation'\n",
    "        elif ellipsoidal_variation:\n",
    "            amplitude = max(full_injections[3] - 1)\n",
    "            signal = full_injections[1] - 1\n",
    "            injection_type = 'Ellipsoidal Variation'\n",
    "        elif beaming:\n",
    "            amplitude = max(full_injections[3] - 1)\n",
    "            signal = full_injections[2] - 1\n",
    "            injection_type = 'Beaming'\n",
    "        else:\n",
    "            print('No injection type specified.')\n",
    "            break\n",
    "        \n",
    "        injection_times = 0         \n",
    "        if len(np.where(full_injections[3] > 1)[0]) > 1:\n",
    "            indexes = injections_start_stop_index(full_injections[3])\n",
    "            print(indexes)\n",
    "            injection_times = index_to_time(indexes, light_curves[i])\n",
    "        pd.DataFrame(full_injections[3]).plot()\n",
    "        \n",
    "        injected_curves[i, :information_slots, 1] += signal\n",
    "        #signal_curves[i, :information_slots, 1] = signal\n",
    "        \n",
    "        injected_curves[i, find(light_curves[i], 'amplitude'), 1] = amplitude * 1000#\\\n",
    "        #signal_curves[i, find(light_curves[i], 'amplitude'), 1] = amplitude * 1000\n",
    "        \n",
    "        injected_curves[i, find(light_curves[i], 'epoch'), 1] = epoch#\\\n",
    "        #signal_curves[i, find(light_curves[i], 'epoch'), 1] = epoch\n",
    "        \n",
    "        injected_curves[i, find(light_curves[i], 'period'), 1] = period#\\\n",
    "        #signal_curves[i, find(light_curves[i], 'period'), 1] = period\n",
    "        \n",
    "        injected_curves[i, find(light_curves[i], 'star radius'), 1] = radius_star#\\\n",
    "        #signal_curves[i, find(light_curves[i], 'star radius'), 1] = radius_star\n",
    "        \n",
    "        injected_curves[i, find(light_curves[i], 'companion mass'), 1] = mass_companion#\\\n",
    "        #signal_curves[i, find(light_curves[i], 'companion mass'), 1] = mass_companion\n",
    "        \n",
    "        injected_curves[i, find(light_curves[i], 'star mass'), 1] = mass_star#\\\n",
    "        #signal_curves[i, find(light_curves[i], 'star mass'), 1] = mass_star\n",
    "        \n",
    "        injected_curves[i, find(light_curves[i], 'inclination'), 1] = inclination#\\\n",
    "        #signal_curves[i, find(light_curves[i], 'inclination'), 1] = inclination\n",
    "\n",
    "        injected_curves[i, find(light_curves[i], 'injection type'), 1] = injection_type#\\\n",
    "        #signal_curves[i, find(light_curves[i], 'injection type'), 1] = injection_type        \n",
    "        \n",
    "        injected_curves[i, find(light_curves[i], 'curve type'), 1] = 'Injected Curve'\n",
    "        #signal_curves[i, find(light_curves[i], 'curve type'), 1] = 'Signal Curve'\n",
    "        \n",
    "        injected_curves[i, find(light_curves[i], 'injection times'), 1] = injection_times\n",
    "\n",
    "    return injected_curves#, signal_curves"
   ]
  },
  {
   "cell_type": "code",
   "execution_count": null,
   "id": "moderate-silver",
   "metadata": {},
   "outputs": [],
   "source": []
  }
 ],
 "metadata": {
  "kernelspec": {
   "display_name": "Python 3",
   "language": "python",
   "name": "python3"
  },
  "language_info": {
   "codemirror_mode": {
    "name": "ipython",
    "version": 3
   },
   "file_extension": ".py",
   "mimetype": "text/x-python",
   "name": "python",
   "nbconvert_exporter": "python",
   "pygments_lexer": "ipython3",
   "version": "3.9.2"
  }
 },
 "nbformat": 4,
 "nbformat_minor": 5
}
